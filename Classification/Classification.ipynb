{
  "cells": [
    {
      "cell_type": "code",
      "execution_count": 1,
      "metadata": {},
      "outputs": [],
      "source": [
        "from classify import data_pipeline, eco_selector\n",
        "from resources.get_data import get_current_data\n",
        "from resources.setup import get_setup\n",
        "import pandas as pd"
      ]
    },
    {
      "cell_type": "code",
      "execution_count": 5,
      "metadata": {},
      "outputs": [],
      "source": [
        "def validator(df):\n",
        "    df = df.drop_duplicates()\n",
        "    df = df[~df['text'].isna()]\n",
        "    if 'vectorized' in df.columns.values:\n",
        "        df = df.drop(columns=['vectorized'])\n",
        "    if df.index.duplicated().any():\n",
        "        print(\"Duplicated index!!!\")\n",
        "        df = df.reset_index()\n",
        "        df = df.drop(columns = ['id'])\n",
        "        df = df.rename(columns = {'index': 'id'})\n",
        "    elif 'id' not in df.columns.values:\n",
        "        df = df.reset_index()\n",
        "        df = df.rename(columns = {'index': 'id'})\n",
        "    df['date'] = pd.to_datetime(df['date'])\n",
        "    print(f\"Found {len(df)} files\")\n",
        "    return df"
      ]
    },
    {
      "cell_type": "markdown",
      "metadata": {},
      "source": [
        "# Big corpuses"
      ]
    },
    {
      "cell_type": "markdown",
      "metadata": {},
      "source": [
        "## Rzepa"
      ]
    },
    {
      "cell_type": "code",
      "execution_count": 3,
      "metadata": {},
      "outputs": [
        {
          "name": "stdout",
          "output_type": "stream",
          "text": [
            "{1: 'rzepa', 2: 'gpc', 3: 'newsweek', 4: 'wprost', 5: 'dorzeczy', 6: 'polityka', 7: 'wyborcza', 8: 'wpolityce'}\n",
            "rzepa\n",
            "Configuration finished\n",
            "Dataset of 8648 samples\n",
            "label\n",
            "1    5955\n",
            "0    2693\n",
            "Name: count, dtype: int64\n",
            "Preprocessing ended\n",
            "Accuracy of model 0.9965317919075144\n"
          ]
        },
        {
          "name": "stderr",
          "output_type": "stream",
          "text": [
            "100%|██████████| 58/58 [01:56<00:00,  2.01s/it]\n"
          ]
        },
        {
          "name": "stdout",
          "output_type": "stream",
          "text": [
            "28861 852\n",
            "Found 6807 files\n"
          ]
        }
      ],
      "source": [
        "corp = 'rzepa'\n",
        "df_rest, df_eco = data_pipeline(corp)\n",
        "df_final = pd.concat([df_eco, eco_selector(df_rest)])\n",
        "df_final = validator(df_final)\n",
        "df_final.to_csv(f\"eco_{corp}.csv\")"
      ]
    },
    {
      "cell_type": "markdown",
      "metadata": {},
      "source": [
        "## Wyborcza"
      ]
    },
    {
      "cell_type": "code",
      "execution_count": 6,
      "metadata": {},
      "outputs": [
        {
          "name": "stdout",
          "output_type": "stream",
          "text": [
            "{1: 'rzepa', 2: 'gpc', 3: 'newsweek', 4: 'wprost', 5: 'dorzeczy', 6: 'polityka', 7: 'wyborcza', 8: 'wpolityce'}\n",
            "wyborcza\n",
            "Configuration finished\n",
            "Dataset of 17765 samples\n",
            "label\n",
            "0    10375\n",
            "1     7390\n",
            "Name: count, dtype: int64\n",
            "Preprocessing ended\n",
            "Accuracy of model 0.9966235227912211\n"
          ]
        },
        {
          "name": "stderr",
          "output_type": "stream",
          "text": [
            "100%|██████████| 96/96 [03:35<00:00,  2.25s/it]\n"
          ]
        },
        {
          "name": "stdout",
          "output_type": "stream",
          "text": [
            "47627 1760\n",
            "Duplicated index!!!\n",
            "Found 7151 files\n"
          ]
        }
      ],
      "source": [
        "corp = 'wyborcza'\n",
        "df_rest, df_eco = data_pipeline(corp)\n",
        "df_final = pd.concat([df_eco, eco_selector(df_rest)])\n",
        "df_final = validator(df_final)\n",
        "df_final.to_csv(f\"eco_{corp}.csv\")"
      ]
    },
    {
      "cell_type": "code",
      "execution_count": 7,
      "metadata": {},
      "outputs": [
        {
          "name": "stdout",
          "output_type": "stream",
          "text": [
            "Found 7151 files\n"
          ]
        }
      ],
      "source": [
        "df_final = validator(df_final)\n",
        "df_final.to_csv(f\"eco_{corp}.csv\")"
      ]
    },
    {
      "cell_type": "markdown",
      "metadata": {},
      "source": [
        "## Gazeta Polska Codziennie"
      ]
    },
    {
      "cell_type": "code",
      "execution_count": 8,
      "metadata": {},
      "outputs": [
        {
          "name": "stdout",
          "output_type": "stream",
          "text": [
            "{1: 'rzepa', 2: 'gpc', 3: 'newsweek', 4: 'wprost', 5: 'dorzeczy', 6: 'polityka', 7: 'wyborcza', 8: 'wpolityce'}\n",
            "gpc\n",
            "Configuration finished\n"
          ]
        },
        {
          "name": "stdout",
          "output_type": "stream",
          "text": [
            "Dataset of 8166 samples\n",
            "label\n",
            "1    4129\n",
            "0    4037\n",
            "Name: count, dtype: int64\n",
            "Preprocessing ended\n",
            "Accuracy of model 0.99265605875153\n"
          ]
        },
        {
          "name": "stderr",
          "output_type": "stream",
          "text": [
            "100%|██████████| 24/24 [00:39<00:00,  1.64s/it]\n"
          ]
        },
        {
          "name": "stdout",
          "output_type": "stream",
          "text": [
            "11504 1151\n",
            "Duplicated index!!!\n",
            "Found 3280 files\n"
          ]
        }
      ],
      "source": [
        "corp = 'gpc'\n",
        "df_rest, df_eco = data_pipeline(corp)\n",
        "df_eco = pd.concat([df_eco, eco_selector(df_rest, False)])\n",
        "df_eco = validator(df_eco)\n",
        "df_eco.to_csv(f\"eco_{corp}.csv\")"
      ]
    },
    {
      "cell_type": "markdown",
      "metadata": {},
      "source": [
        "## Polityka"
      ]
    },
    {
      "cell_type": "code",
      "execution_count": 9,
      "metadata": {},
      "outputs": [
        {
          "name": "stdout",
          "output_type": "stream",
          "text": [
            "{1: 'rzepa', 2: 'gpc', 3: 'newsweek', 4: 'wprost', 5: 'dorzeczy', 6: 'polityka', 7: 'wyborcza', 8: 'wpolityce'}\n",
            "polityka\n",
            "Configuration finished\n",
            "Dataset of 5683 samples\n",
            "label\n",
            "0    3149\n",
            "1    2534\n",
            "Name: count, dtype: int64\n",
            "Preprocessing ended\n",
            "Accuracy of model 0.9894551845342706\n"
          ]
        },
        {
          "name": "stderr",
          "output_type": "stream",
          "text": [
            "100%|██████████| 4/4 [00:22<00:00,  5.54s/it]\n"
          ]
        },
        {
          "name": "stdout",
          "output_type": "stream",
          "text": [
            "1909 149\n",
            "Found 683 files\n"
          ]
        }
      ],
      "source": [
        "corp = 'polityka'\n",
        "df_rest, df_eco = data_pipeline(corp)\n",
        "df_eco = pd.concat([df_eco, eco_selector(df_rest)])\n",
        "df_eco = validator(df_eco)\n",
        "df_eco.to_csv(f\"eco_{corp}.csv\")"
      ]
    },
    {
      "cell_type": "markdown",
      "metadata": {},
      "source": [
        "# Small Corpuses"
      ]
    },
    {
      "cell_type": "markdown",
      "metadata": {},
      "source": [
        "## Dorzeczy"
      ]
    },
    {
      "cell_type": "code",
      "execution_count": 10,
      "metadata": {},
      "outputs": [
        {
          "name": "stdout",
          "output_type": "stream",
          "text": [
            "{1: 'rzepa', 2: 'gpc', 3: 'newsweek', 4: 'wprost', 5: 'dorzeczy', 6: 'polityka', 7: 'wyborcza', 8: 'wpolityce'}\n",
            "dorzeczy\n",
            "Configuration finished\n",
            "Dataset of 5176 samples\n",
            "label\n",
            "0    2942\n",
            "1    2234\n",
            "Name: count, dtype: int64\n",
            "Preprocessing ended\n",
            "Accuracy of model 0.9903474903474904\n"
          ]
        },
        {
          "name": "stderr",
          "output_type": "stream",
          "text": [
            "100%|██████████| 2/2 [00:11<00:00,  5.76s/it]\n"
          ]
        },
        {
          "name": "stdout",
          "output_type": "stream",
          "text": [
            "696 49\n",
            "Found 220 files\n"
          ]
        }
      ],
      "source": [
        "from datetime import datetime\n",
        "\n",
        "corp = 'dorzeczy'\n",
        "df_rest, df_eco = data_pipeline(corp)\n",
        "df_eco = pd.concat([df_eco, eco_selector(df_rest)])\n",
        "df_eco = df_eco.reset_index().drop(columns='id').rename(columns={'Unnamed: 0': 'id'}).set_index('id')\n",
        "df_eco = df_eco[df_eco['date'] < datetime(2023, 1, 1)]\n",
        "df_eco = validator(df_eco)\n",
        "df_eco.to_csv(f\"eco_{corp}.csv\")"
      ]
    },
    {
      "cell_type": "markdown",
      "metadata": {},
      "source": [
        "## Wprost"
      ]
    },
    {
      "cell_type": "code",
      "execution_count": 11,
      "metadata": {},
      "outputs": [
        {
          "name": "stdout",
          "output_type": "stream",
          "text": [
            "{1: 'rzepa', 2: 'gpc', 3: 'newsweek', 4: 'wprost', 5: 'dorzeczy', 6: 'polityka', 7: 'wyborcza', 8: 'wpolityce'}\n",
            "wprost\n",
            "Configuration finished\n"
          ]
        },
        {
          "name": "stdout",
          "output_type": "stream",
          "text": [
            "Dataset of 5240 samples\n",
            "label\n",
            "0    2873\n",
            "1    2367\n",
            "Name: count, dtype: int64\n",
            "Preprocessing ended\n",
            "Accuracy of model 0.9885496183206107\n"
          ]
        },
        {
          "name": "stderr",
          "output_type": "stream",
          "text": [
            "100%|██████████| 2/2 [00:05<00:00,  2.98s/it]\n"
          ]
        },
        {
          "name": "stdout",
          "output_type": "stream",
          "text": [
            "763 30\n",
            "Found 400 files\n"
          ]
        }
      ],
      "source": [
        "corp = 'wprost'\n",
        "df_rest, df_eco = data_pipeline(corp)\n",
        "df_eco = pd.concat([df_eco, eco_selector(df_rest)])\n",
        "df_eco = validator(df_eco)\n",
        "df_eco.to_csv(f\"eco_{corp}.csv\")"
      ]
    },
    {
      "cell_type": "markdown",
      "metadata": {},
      "source": [
        "## Newsweek"
      ]
    },
    {
      "cell_type": "code",
      "execution_count": 12,
      "metadata": {},
      "outputs": [
        {
          "name": "stdout",
          "output_type": "stream",
          "text": [
            "{1: 'rzepa', 2: 'gpc', 3: 'newsweek', 4: 'wprost', 5: 'dorzeczy', 6: 'polityka', 7: 'wyborcza', 8: 'wpolityce'}\n",
            "newsweek\n",
            "Configuration finished\n"
          ]
        },
        {
          "name": "stderr",
          "output_type": "stream",
          "text": [
            "/home/ps/Code/Climate/Classification/resources/get_data.py:7: UserWarning: Parsing dates in %d.%m.%Y format when dayfirst=False (the default) was specified. Pass `dayfirst=True` or specify a format to silence this warning.\n",
            "  df_eco = pd.read_csv(drive_path / corpus / \"eco_result.csv\", index_col=['id', 'source'], parse_dates=['date'])\n",
            "/home/ps/Code/Climate/Classification/resources/get_data.py:9: UserWarning: Parsing dates in %d.%m.%Y format when dayfirst=False (the default) was specified. Pass `dayfirst=True` or specify a format to silence this warning.\n",
            "  df_rest = pd.read_csv(drive_path / corpus / \"results.csv\", index_col = ['id', 'source'], parse_dates=['date'])\n"
          ]
        },
        {
          "name": "stdout",
          "output_type": "stream",
          "text": [
            "Dataset of 5246 samples\n",
            "label\n",
            "0    2959\n",
            "1    2287\n",
            "Name: count, dtype: int64\n",
            "Preprocessing ended\n",
            "Accuracy of model 0.9904761904761905\n"
          ]
        },
        {
          "name": "stderr",
          "output_type": "stream",
          "text": [
            "100%|██████████| 3/3 [00:16<00:00,  5.36s/it]\n"
          ]
        },
        {
          "name": "stdout",
          "output_type": "stream",
          "text": [
            "1164 69\n",
            "Found 356 files\n"
          ]
        }
      ],
      "source": [
        "corp = 'newsweek'\n",
        "df_rest, df_eco = data_pipeline(corp)\n",
        "df_eco = pd.concat([df_eco, eco_selector(df_rest)])\n",
        "df_eco = validator(df_eco)\n",
        "df_eco.to_csv(f\"eco_{corp}.csv\")"
      ]
    },
    {
      "cell_type": "markdown",
      "metadata": {},
      "source": [
        "## wPolityce"
      ]
    },
    {
      "cell_type": "code",
      "execution_count": 13,
      "metadata": {},
      "outputs": [
        {
          "name": "stdout",
          "output_type": "stream",
          "text": [
            "{1: 'rzepa', 2: 'gpc', 3: 'newsweek', 4: 'wprost', 5: 'dorzeczy', 6: 'polityka', 7: 'wyborcza', 8: 'wpolityce'}\n",
            "wpolityce\n",
            "Configuration finished\n"
          ]
        },
        {
          "name": "stdout",
          "output_type": "stream",
          "text": [
            "Dataset of 5321 samples\n",
            "label\n",
            "0    2985\n",
            "1    2336\n",
            "Name: count, dtype: int64\n",
            "Preprocessing ended\n",
            "Accuracy of model 0.9924953095684803\n"
          ]
        },
        {
          "name": "stderr",
          "output_type": "stream",
          "text": [
            "100%|██████████| 3/3 [00:24<00:00,  8.24s/it]\n"
          ]
        },
        {
          "name": "stdout",
          "output_type": "stream",
          "text": [
            "1345 67\n",
            "Found 404 files\n"
          ]
        }
      ],
      "source": [
        "corp = 'wpolityce'\n",
        "df_rest, df_eco = data_pipeline(corp)\n",
        "df_eco = pd.concat([df_eco, eco_selector(df_rest)])\n",
        "df_eco = validator(df_eco)\n",
        "df_eco.to_csv(f\"eco_{corp}.csv\")"
      ]
    },
    {
      "cell_type": "markdown",
      "metadata": {},
      "source": [
        "# Corpus"
      ]
    },
    {
      "cell_type": "code",
      "execution_count": 14,
      "metadata": {},
      "outputs": [
        {
          "name": "stdout",
          "output_type": "stream",
          "text": [
            "['eco_rzepa.csv', 'eco_gpc.csv', 'eco_dorzeczy.csv', 'eco_wyborcza.csv', 'eco_newsweek.csv', 'eco_wprost.csv', 'eco_wpolityce.csv', 'eco_polityka.csv']\n"
          ]
        }
      ],
      "source": [
        "import os\n",
        "corps = [file for file in os.listdir() if file.startswith(\"eco\")]\n",
        "print(corps)"
      ]
    },
    {
      "cell_type": "markdown",
      "metadata": {},
      "source": [
        "## Dates"
      ]
    },
    {
      "cell_type": "markdown",
      "metadata": {},
      "source": [
        "## Most Common ngrams"
      ]
    },
    {
      "cell_type": "code",
      "execution_count": 17,
      "metadata": {},
      "outputs": [
        {
          "data": {
            "text/plain": [
              "19301"
            ]
          },
          "execution_count": 17,
          "metadata": {},
          "output_type": "execute_result"
        }
      ],
      "source": [
        "df = pd.concat(data)\n",
        "len(df)"
      ]
    },
    {
      "cell_type": "code",
      "execution_count": 6,
      "metadata": {},
      "outputs": [],
      "source": [
        "from files.ngram.ngrams import ngram_counter\n",
        "df = df[~df['clean_text'].isna()]\n",
        "for ngram in range(1, 4):\n",
        "    df_ngram = ngram_counter(ngram, df).iloc[:100]\n",
        "    df_ngram.to_csv(f\"most_common_{ngram}-gram.csv\", index=False)"
      ]
    },
    {
      "cell_type": "code",
      "execution_count": 12,
      "metadata": {},
      "outputs": [
        {
          "name": "stdout",
          "output_type": "stream",
          "text": [
            "A: -2652.7601162624105, B: 0.10696526858131279, C: 4420.447518212004\n"
          ]
        },
        {
          "data": {
            "text/plain": [
              "[<matplotlib.lines.Line2D at 0x7f39280f0a90>]"
            ]
          },
          "execution_count": 12,
          "metadata": {},
          "output_type": "execute_result"
        },
        {
          "data": {
            "image/png": "[encoded data removed]",
            "text/plain": [
              "<Figure size 640x480 with 1 Axes>"
            ]
          },
          "metadata": {},
          "output_type": "display_data"
        }
      ],
      "source": [
        "import numpy as np\n",
        "from scipy.optimize import curve_fit\n",
        "import matplotlib.pyplot as plt\n",
        "x = df_ngram.index\n",
        "y = df_ngram[1]\n",
        "# Define the function to fit\n",
        "def func(x, A, B, C):\n",
        "    return A * np.power(x, B) + C\n",
        "\n",
        "# Fit the data\n",
        "params, _ = curve_fit(func, x, y)\n",
        "\n",
        "# Extract the fitted parameters\n",
        "A, B, C = params\n",
        "\n",
        "# Print the fitted parameters\n",
        "print(f\"A: {A}, B: {B}, C: {C}\")\n",
        "y = df_ngram[1] \n",
        "plt.plot(df_ngram[1])\n",
        "plt.plot(func(x, A, B, C))"
      ]
    },
    {
      "cell_type": "markdown",
      "metadata": {},
      "source": [
        "## Selected ngrams distribution"
      ]
    },
    {
      "cell_type": "code",
      "execution_count": 5,
      "metadata": {},
      "outputs": [],
      "source": [
        "import regex as re\n",
        "import matplotlib.pyplot as plt"
      ]
    },
    {
      "cell_type": "code",
      "execution_count": 24,
      "metadata": {},
      "outputs": [],
      "source": [
        "data = []\n",
        "for corp in corps:\n",
        "    df = pd.read_csv(corp, usecols=['clean_text','date', 'source'], parse_dates=['date'])\n",
        "    data.append(df)\n",
        "    \n",
        "data = pd.concat(data)"
      ]
    },
    {
      "cell_type": "code",
      "execution_count": 33,
      "metadata": {},
      "outputs": [],
      "source": [
        "data['climate_change_count'] = data['clean_text'].str.count(r\"zmiana klimat\", flags=re.IGNORECASE)\n",
        "data['global_warming_count'] = data['clean_text'].str.count(r\"globalny ocieplenie\", flags=re.IGNORECASE)\n"
      ]
    },
    {
      "cell_type": "code",
      "execution_count": 26,
      "metadata": {},
      "outputs": [
        {
          "data": {
            "text/plain": [
              "Text(0.5, 58.7222222222222, 'Year')"
            ]
          },
          "execution_count": 26,
          "metadata": {},
          "output_type": "execute_result"
        },
        {
          "data": {
            "image/png": "[encoded data removed]",
            "text/plain": [
              "<Figure size 1200x800 with 1 Axes>"
            ]
          },
          "metadata": {},
          "output_type": "display_data"
        }
      ],
      "source": [
        "global_warming_count = data.groupby(data.date.dt.year).global_warming_count.sum()\n",
        "plt.figure(figsize=(12, 8))\n",
        "plt.bar(global_warming_count.index, global_warming_count)\n",
        "plt.xlabel(\"Year\")\n",
        "plt.ylabel(\"Number of mentions\")\n",
        "plt.title(\"How many times 'globalny ocieplenie' appeared in the lemmatized text in a given year\")\n",
        "plt.savefig(\"global_warming.png\")\n",
        "plt.xlabel(\"Year\")"
      ]
    },
    {
      "cell_type": "code",
      "execution_count": 34,
      "metadata": {},
      "outputs": [
        {
          "data": {
            "image/png": "[encoded data removed]",
            "text/plain": [
              "<Figure size 1200x800 with 1 Axes>"
            ]
          },
          "metadata": {},
          "output_type": "display_data"
        }
      ],
      "source": [
        "plt.figure(figsize=(12,8))\n",
        "climate_change_count = data.groupby(data.date.dt.year).climate_change_count.sum()\n",
        "#climate_change_count = data.groupby(pd.Grouper(key='date', freq='M')).climate_change_count.sum()\n",
        "plt.bar(climate_change_count.index, climate_change_count)\n",
        "plt.suptitle(\"How many times 'zmiana klimat' appeared in the lemmatized text in a given a month\", fontsize=15)\n",
        "plt.ylabel(\"Number of mentions\")\n",
        "plt.xlabel(\"Year\")\n",
        "plt.savefig(\"climate_change.png\")"
      ]
    }
  ],
  "metadata": {
    "colab": {
      "provenance": []
    },
    "kernelspec": {
      "display_name": "Python 3",
      "name": "python3"
    },
    "language_info": {
      "codemirror_mode": {
        "name": "ipython",
        "version": 3
      },
      "file_extension": ".py",
      "mimetype": "text/x-python",
      "name": "python",
      "nbconvert_exporter": "python",
      "pygments_lexer": "ipython3",
      "version": "3.11.6"
    }
  },
  "nbformat": 4,
  "nbformat_minor": 0
}
