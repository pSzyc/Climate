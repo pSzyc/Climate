{
  "cells": [
    {
      "cell_type": "code",
      "execution_count": 1,
      "metadata": {
        "id": "ThEU8ma_viEO"
      },
      "outputs": [
        {
          "name": "stderr",
          "output_type": "stream",
          "text": [
            "2023-10-18 17:42:49.112963: I tensorflow/tsl/cuda/cudart_stub.cc:28] Could not find cuda drivers on your machine, GPU will not be used.\n",
            "2023-10-18 17:42:49.159129: I tensorflow/tsl/cuda/cudart_stub.cc:28] Could not find cuda drivers on your machine, GPU will not be used.\n",
            "2023-10-18 17:42:50.275980: W tensorflow/compiler/tf2tensorrt/utils/py_utils.cc:38] TF-TRT Warning: Could not find TensorRT\n"
          ]
        }
      ],
      "source": [
        "import pandas as pd\n",
        "import numpy as np\n",
        "from pathlib import Path\n",
        "from preprocessing import preprocess\n",
        "from metrics import plot_confusion_matrix\n",
        "from models import ngram_vectorize, vectorize\n",
        "from tqdm import tqdm\n",
        "from math import ceil\n",
        "from sklearn.linear_model import LogisticRegression\n",
        "from sklearn.model_selection import train_test_split, KFold\n",
        "from sklearn.preprocessing import StandardScaler\n",
        "from sklearn.metrics import accuracy_score, confusion_matrix\n",
        "from joblib import load, dump\n",
        "import seaborn as sns\n",
        "import matplotlib.pyplot as plt"
      ]
    },
    {
      "cell_type": "code",
      "execution_count": 3,
      "metadata": {},
      "outputs": [],
      "source": [
        "drive_path = Path(\"/run/user/1000/gvfs/google-drive:host=gmail.com,user=przemek.7678/0ACbMJp-uzuEwUk9PVA/1z7kfn_M6wSuIPxoQ_MoS2NlJgVRqyYyC\")\n",
        "files_path = Path(\"/home/hombre/Code/Climate Project/Classification/files\")\n",
        "source_dict = {\n",
        "    \"rzepa\": \"Rzeczypospolita\",\n",
        "    'gpc': \"Gazeta Polska Codziennie\",\n",
        "    'newsweek': \"Newsweek\",\n",
        "    'wprost' : 'Wprost',\n",
        "    'dorzeczy': \"DoRzeczy\",\n",
        "    'polityka': \"Polityka\",\n",
        "    'wyborcza': \"Gazeta Wyborcza\",\n",
        "    \"wpolityce\": \"wPolityce\"\n",
        "}\n",
        "METAFEATURES = ['Całkowita ilość słów', 'Ilość słów bez powtórzeń', 'Ilość stop-słów', 'Średnia długość słowa',\n",
        "                'Ilość symboli', 'Ilość znaków interpunkcyjnych']"
      ]
    },
    {
      "cell_type": "code",
      "execution_count": 4,
      "metadata": {},
      "outputs": [],
      "source": [
        "corpus = \"wpolityce\"\n",
        "load_model = False"
      ]
    },
    {
      "cell_type": "markdown",
      "metadata": {},
      "source": [
        "# Preprocessing"
      ]
    },
    {
      "cell_type": "code",
      "execution_count": 5,
      "metadata": {
        "id": "HWp7O1b9v2KE"
      },
      "outputs": [
        {
          "data": {
            "text/plain": [
              "(268, 503)"
            ]
          },
          "execution_count": 5,
          "metadata": {},
          "output_type": "execute_result"
        }
      ],
      "source": [
        "stopwords = pd.read_csv( files_path/'polish_stopwords.txt', header=None)\n",
        "STOPWORDS = set([word.rstrip() for word in stopwords[0]])\n",
        "\n",
        "df_eco = pd.read_csv(drive_path / corpus / \"eco_result.csv\", index_col=['id', 'source'], parse_dates=['date'])\n",
        "df_non_eco = pd.read_csv(drive_path / corpus / \"non_eco_result.csv\", index_col = ['id', 'source'], parse_dates=['date'])\n",
        "\n",
        "df_eco['label'] = 1\n",
        "df_non_eco['label'] = 0\n",
        "    \n",
        "if corpus == \"rzepa\":\n",
        "    df_5 = pd.read_csv(drive_path  / \"dataset_6_all.csv\", index_col = ['id', 'source'])\n",
        "    df_5.rename(columns={ \"class\": \"label\"}, inplace=True)\n",
        "    df_5 = df_5[df_5['translated'] == 0]\n",
        "\n",
        "len(df_eco), len(df_non_eco)"
      ]
    },
    {
      "cell_type": "markdown",
      "metadata": {},
      "source": [
        "# Training Model"
      ]
    },
    {
      "cell_type": "code",
      "execution_count": 6,
      "metadata": {},
      "outputs": [
        {
          "data": {
            "text/plain": [
              "0    5613\n",
              "1    5158\n",
              "Name: label, dtype: int64"
            ]
          },
          "execution_count": 6,
          "metadata": {},
          "output_type": "execute_result"
        }
      ],
      "source": [
        "if load_model:\n",
        "    raise Exception(\"It was decided to load the model, but you try to train it.\")\n",
        "\n",
        "if corpus != 'rzepa':\n",
        "    df_7 = pd.read_csv(drive_path  / \"dataset_7.csv\", index_col = ['id', 'source'])\n",
        "    df_sample = df_7.sample(n = 10000)\n",
        "    df = pd.concat([df_eco, df_non_eco, df_sample])\n",
        "else:\n",
        "    df_eco['translated'] = 0\n",
        "    df_non_eco['translated'] = 0\n",
        "    df_eco = df_eco[~df_eco.index.isin(df_5.index)]\n",
        "    df_non_eco = df_non_eco[~df_non_eco.index.isin(df_5.index)].sample(n = len(df_eco))\n",
        "\n",
        "    df = pd.concat([df_eco, df_non_eco, df_5])\n",
        "    \n",
        "df = preprocess(df, STOPWORDS, corpus)\n",
        "df['label'].value_counts()"
      ]
    },
    {
      "cell_type": "code",
      "execution_count": 7,
      "metadata": {},
      "outputs": [],
      "source": [
        "def get_training_data():\n",
        "    df_train, df_test = train_test_split(df, test_size=0.1)\n",
        "    scaler = StandardScaler()\n",
        "    meta_train = scaler.fit_transform(df_train[METAFEATURES])\n",
        "    meta_test = scaler.transform(df_test[METAFEATURES])\n",
        "    #enc = OneHotEncoder(handle_unknown = 'ignore')\n",
        "    train_x = df_train.drop(columns=['label'])\n",
        "    train_y = df_train['label']\n",
        "\n",
        "    test_x = df_test.drop(columns=['label'])\n",
        "    test_y = df_test['label']\n",
        "\n",
        "    text_train, text_test, vectorizer, selector = ngram_vectorize(train_x['clean_text'], train_y, test_x['clean_text'],return_models=True)\n",
        "    #train_counted = train_x[['ngram_sum',\"ngram_sum_squared\",\"ngram_sum_squared_to_total\", \"ngram_sum_to_total\"]].to_numpy()\n",
        "    #test_counted = test_x[['ngram_sum',\"ngram_sum_squared\",\"ngram_sum_squared_to_total\", \"ngram_sum_to_total\"]].to_numpy()\n",
        "    train_ngram_x  = np.concatenate([text_train, meta_train], axis=1)\n",
        "    test_ngram_x  = np.concatenate([text_test, meta_test], axis=1)\n",
        "    return train_ngram_x, train_y, test_ngram_x, test_y, scaler, vectorizer, selector\n",
        "\n",
        "train_ngram_x, train_y, test_ngram_x, test_y, scaler, vectorizer, selector = get_training_data()"
      ]
    },
    {
      "cell_type": "code",
      "execution_count": 8,
      "metadata": {
        "id": "9K9w9HfRGCTR"
      },
      "outputs": [],
      "source": [
        "xgboost_best = {'booster': 'dart', 'lambda': 0.020462507548726337, 'alpha': 0.0005614291105419698, 'max_depth': 2, 'eta': 0.3796245839718969, 'gamma': 39.91958155377414, 'grow_policy': 'lossguide', 'sample_type': 'uniform', 'normalize_type': 'forest', 'rate_drop': 1.476221883292325e-06, 'skip_drop': 8.219483942114638e-05}\n",
        "lr_best = {'C': 15.612022973907699, 'penalty': 'l1', 'solver':'liblinear'}\n",
        "lgbm_best = {'num_leaves': 1388, 'reg_alpha': 4.663773604563635, 'reg_lambda': 1.8338397993058877, 'colsample_bytree': 1.0, 'subsample': 0.7, 'learning_rate': 0.006, 'max_depth': 10, 'min_child_samples': 10, 'cat_smooth': 70}"
      ]
    },
    {
      "cell_type": "markdown",
      "metadata": {},
      "source": [
        "### Logistic Regression"
      ]
    },
    {
      "cell_type": "code",
      "execution_count": 9,
      "metadata": {},
      "outputs": [],
      "source": [
        "lr = LogisticRegression(**lr_best)\n",
        "lr.fit(train_ngram_x, train_y)\n",
        "predicted_lr = lr.predict_proba(test_ngram_x)[:, 1]"
      ]
    },
    {
      "cell_type": "code",
      "execution_count": 10,
      "metadata": {
        "id": "_DpN6fawaFgw"
      },
      "outputs": [
        {
          "data": {
            "image/png": "[encoded data removed]",
            "text/plain": [
              "<Figure size 800x600 with 2 Axes>"
            ]
          },
          "metadata": {},
          "output_type": "display_data"
        },
        {
          "data": {
            "text/plain": [
              "0.9907235621521335"
            ]
          },
          "execution_count": 10,
          "metadata": {},
          "output_type": "execute_result"
        }
      ],
      "source": [
        "y_pred = predicted_lr > .5\n",
        "cfm = confusion_matrix(y_true=test_y, y_pred=y_pred )\n",
        "plot_confusion_matrix(cfm)\n",
        "accuracy_score(y_pred=y_pred, y_true=test_y)"
      ]
    },
    {
      "cell_type": "markdown",
      "metadata": {},
      "source": [
        "# Classification of the rest of the data"
      ]
    },
    {
      "cell_type": "code",
      "execution_count": 11,
      "metadata": {},
      "outputs": [
        {
          "data": {
            "text/plain": [
              "(False, 'wpolityce')"
            ]
          },
          "execution_count": 11,
          "metadata": {},
          "output_type": "execute_result"
        }
      ],
      "source": [
        "load_model, corpus"
      ]
    },
    {
      "cell_type": "code",
      "execution_count": 12,
      "metadata": {},
      "outputs": [
        {
          "data": {
            "text/plain": [
              "6"
            ]
          },
          "execution_count": 12,
          "metadata": {},
          "output_type": "execute_result"
        }
      ],
      "source": [
        "if load_model:\n",
        "    lr = load(\"models/lr.joblib\")\n",
        "    selector = load(\"models/selector.joblib\")\n",
        "    scaler = load(\"models/scaler.joblib\")\n",
        "    vectorizer = load(\"models/tfidf.joblib\")\n",
        " \n",
        "if corpus == \"rzepa\":\n",
        "    df_rest = pd.read_csv(drive_path / corpus / \"results.csv\", index_col = ['id', 'source'], parse_dates=['date'])\n",
        "    df_rest = df_rest[~df_rest.index.isin(df_5.index)]\n",
        "else: \n",
        "    df_rest = pd.read_csv(drive_path / corpus / \"results.csv\", index_col = ['id', 'source'], parse_dates=['date'])\n",
        "\n",
        "len(df_rest)"
      ]
    },
    {
      "cell_type": "code",
      "execution_count": 13,
      "metadata": {
        "id": "TR4o-yP3aLBP"
      },
      "outputs": [
        {
          "name": "stderr",
          "output_type": "stream",
          "text": [
            "100%|██████████| 1/1 [00:00<00:00,  6.56it/s]\n"
          ]
        }
      ],
      "source": [
        "def chunk_it_predictions(data, size):\n",
        "    chunks = ceil(len(data) / size)\n",
        "    for i in tqdm(range(chunks)):\n",
        "        chunk = df_rest.iloc[i * size : (i+1) * size]\n",
        "        chunk = preprocess(chunk, STOPWORDS, corpus)\n",
        "        meta_rest = scaler.transform(chunk[METAFEATURES])\n",
        "        rest_text = vectorize(chunk['clean_text'], vectorizer, selector)\n",
        "        rest_ngram_x =  np.concatenate([rest_text, meta_rest], axis=1)\n",
        "        predicted_lr = lr.predict_proba(rest_ngram_x)[:, 1]\n",
        "        yield predicted_lr\n",
        "\n",
        "with pd.option_context('mode.chained_assignment', None):\n",
        "    proba = np.concatenate([x for x in chunk_it_predictions(df_rest, 500)])\n",
        "\n",
        "df_rest['proba'] = proba\n",
        "df_rest.to_csv(drive_path / corpus /  f\"results.csv\")"
      ]
    },
    {
      "cell_type": "markdown",
      "metadata": {},
      "source": [
        "# Results"
      ]
    },
    {
      "cell_type": "code",
      "execution_count": 14,
      "metadata": {},
      "outputs": [
        {
          "data": {
            "text/plain": [
              "<Axes: xlabel='proba', ylabel='Count'>"
            ]
          },
          "execution_count": 14,
          "metadata": {},
          "output_type": "execute_result"
        },
        {
          "data": {
            "image/png": "[encoded data removed]",
            "text/plain": [
              "<Figure size 640x480 with 2 Axes>"
            ]
          },
          "metadata": {},
          "output_type": "display_data"
        }
      ],
      "source": [
        "df_rest = pd.read_csv(drive_path / corpus / f\"results.csv\", index_col= ['id','source'])\n",
        "df_rest = df_rest[~df_rest.duplicated()]\n",
        "plt.subplot(1, 2 ,1)\n",
        "sns.histplot(df_rest[df_rest['proba'] > 0.5]['num_words'], bins = 20)\n",
        "plt.ylim(0, 25)\n",
        "plt.subplot(1, 2 ,2)\n",
        "sns.histplot(df_rest[df_rest['proba'] > 0.5]['proba'], bins = 25)"
      ]
    },
    {
      "cell_type": "code",
      "execution_count": 15,
      "metadata": {},
      "outputs": [
        {
          "data": {
            "text/plain": [
              "3"
            ]
          },
          "execution_count": 15,
          "metadata": {},
          "output_type": "execute_result"
        }
      ],
      "source": [
        "df_rest['rank'] = 0\n",
        "df_rest.loc[(df_rest['proba']>0.8) & (df_rest['ngram_sum_squared_to_total'] > 1), 'rank'] = 1\n",
        "df_rest.loc[(df_rest['proba']>0.8) & (df_rest['ngram_sum_squared_to_total'] <  1), 'rank'] = 2\n",
        "df_rest.loc[(df_rest['proba'].between(0.5, 0.8)) & (df_rest['ngram_sum_squared_to_total'] > 0.5), 'rank'] = 3\n",
        "df_rest.loc[(df_rest['proba'].between(0.5, 0.8)) & (df_rest['ngram_sum_squared_to_total'] < 0.5), 'rank'] = 4\n",
        "#df_rare_words = df_rest[(df_rest['proba'] >  0.7) & (df_rest['num_words'] <= 2)].copy()\n",
        "len(df_rest[df_rest['proba'] > 0.5])"
      ]
    },
    {
      "cell_type": "code",
      "execution_count": 16,
      "metadata": {},
      "outputs": [
        {
          "name": "stdout",
          "output_type": "stream",
          "text": [
            "Droped already\n"
          ]
        },
        {
          "data": {
            "text/plain": [
              "1    268\n",
              "2      2\n",
              "4      1\n",
              "Name: rank, dtype: int64"
            ]
          },
          "execution_count": 16,
          "metadata": {},
          "output_type": "execute_result"
        }
      ],
      "source": [
        "df_rest.loc[df_rest['rank'] != 0, 'label'] = 1\n",
        "df_eco['rank'] = 1\n",
        "try:\n",
        "    df_eco.drop(columns=['translated'], inplace=True)\n",
        "except:\n",
        "    print(\"Droped already\")\n",
        "    \n",
        "df_rest = df_rest[df_eco.columns.values]\n",
        "df_final = pd.concat([df_rest[df_rest['rank'] != 0], df_eco])\n",
        "df_final['rank'].value_counts()"
      ]
    },
    {
      "cell_type": "code",
      "execution_count": 17,
      "metadata": {},
      "outputs": [
        {
          "data": {
            "text/plain": [
              "wPolityce    271\n",
              "Name: source, dtype: int64"
            ]
          },
          "execution_count": 17,
          "metadata": {},
          "output_type": "execute_result"
        }
      ],
      "source": [
        "df_final.reset_index().source.value_counts()"
      ]
    },
    {
      "cell_type": "code",
      "execution_count": 18,
      "metadata": {},
      "outputs": [],
      "source": [
        "df_final.to_csv(drive_path / corpus / \"eco_all.csv\")"
      ]
    },
    {
      "cell_type": "code",
      "execution_count": 19,
      "metadata": {},
      "outputs": [
        {
          "data": {
            "text/plain": [
              "Index(['page', 'title', 'text', 'author', 'date', 'magazine_nr', 'clean_text',\n",
              "       'clean_title', 'vectorized', 'proba', 'words', 'num_words', 'ngram_sum',\n",
              "       'ngram_sum_to_total', 'ngram_sum_squared_to_total',\n",
              "       'ngram_weak__ngrams', 'label', 'rank'],\n",
              "      dtype='object')"
            ]
          },
          "execution_count": 19,
          "metadata": {},
          "output_type": "execute_result"
        }
      ],
      "source": [
        "df_final.columns"
      ]
    },
    {
      "cell_type": "markdown",
      "metadata": {},
      "source": [
        "# Saving Model"
      ]
    },
    {
      "cell_type": "code",
      "execution_count": null,
      "metadata": {},
      "outputs": [],
      "source": [
        "\n",
        "models_path = Path(\"models/\")\n",
        "dump(lr, models_path /'lr.joblib')\n",
        "dump(vectorizer, models_path / 'tfidf.joblib')\n",
        "dump(selector, models_path / 'selector.joblib')\n",
        "dump(scaler, models_path / 'scaler.joblib')"
      ]
    },
    {
      "cell_type": "markdown",
      "metadata": {},
      "source": [
        "# Crossvalidation \n",
        "### to be implemented"
      ]
    },
    {
      "cell_type": "code",
      "execution_count": null,
      "metadata": {},
      "outputs": [],
      "source": [
        "def cross_mistake_validate_model(model, data_all, df_no_translated):\n",
        "    kFold = KFold(n_splits=5, shuffle=True)\n",
        "    miss_list = []\n",
        "    for train_index, val_index in kFold.split(df):\n",
        "\t\n",
        "        train_data = data_all.iloc[train_index]\n",
        "        test_data = data_all.iloc[val_index]\n",
        "        \n",
        "        train_x = train_data.drop(columns=['class'])\n",
        "        train_y = train_data['class']\n",
        "\n",
        "        test_x = test_data.drop(columns=['class'])\n",
        "        test_y = test_data['class']\n",
        "\n",
        "        test_x = test_x[~test_x.index.isin(train_x.index)]  # Avoiding data leakage from translated documents\n",
        "        test_y = test_y[~test_y.index.isin(train_y.index)]\n",
        "\n",
        "\n",
        "        text_train, text_test = ngram_vectorize(train_x['clean_text_title'], train_y, test_x['clean_text_title'],return_models=False)\n",
        "\n",
        "        train_encode = enc.fit_transform(train_data[['author', 'department', 'year']]).toarray()\n",
        "        test_encode = enc.transform(test_data[['author', 'department', 'year']]).toarray()\n",
        "\n",
        "        train_ngram_x  = np.concatenate([train_encode, text_train], axis=1)\n",
        "        test_ngram_x  = np.concatenate([test_encode, text_test], axis=1)\n",
        "\n",
        "        model.fit(train_ngram_x,train_y)\n",
        "        preds = model.predict(test_ngram_x)\n",
        "        y_pred = preds > 0.6\n",
        "        print(accuracy_score(y_pred=y_pred, y_true=test_y))\n",
        "        result_df = pd.DataFrame({'id': test_y.index.values, 'class': test_y.values})\n",
        "        result_df['predict'] = y_pred.astype(int)\n",
        "        result_df['prob'] = preds\n",
        "\n",
        "        miss_df = result_df[result_df['predict'] != result_df['class']]\n",
        "        miss_list.append(pd.merge(miss_df, df_no_translated, how='inner', on='id'))\n",
        "\n",
        "    return pd.concat(miss_list)"
      ]
    },
    {
      "cell_type": "markdown",
      "metadata": {},
      "source": [
        "# Hyperparameter tuning \n",
        "### To be implemented"
      ]
    },
    {
      "cell_type": "code",
      "execution_count": null,
      "metadata": {},
      "outputs": [],
      "source": [
        "import optuna"
      ]
    },
    {
      "cell_type": "code",
      "execution_count": null,
      "metadata": {},
      "outputs": [],
      "source": [
        "def callback(study, trial):\n",
        "    if study.best_trial.number == trial.number:\n",
        "        study.set_user_attr(key=\"best_model\", value=trial.user_attrs[\"best_model\"])\n",
        "\n",
        "        \n",
        "def cross_validate_model(model, data_final, data_prep):\n",
        "    kFold = KFold(n_splits=5, shuffle=True)\n",
        "    acc_list = []\n",
        "    for train_index, val_index in tqdm(kFold.split(df)):   \n",
        "        train_id = df.iloc[train_index].index\n",
        "        val_id = df.iloc[val_index].index\n",
        "        train_data = data_final.loc[train_id]\n",
        "        test_data = data_final.loc[val_id]\n",
        "        train_x, train_y, val_x, val_y = data_prep(train_data, test_data)\n",
        "        model.fit(train_x,train_y)\n",
        "        preds = model.predict(val_x)\n",
        "        preds = preds > 0.5\n",
        "        acc = accuracy_score(val_y, preds)\n",
        "        acc_list.append(acc)\n",
        "    return sum(acc_list)/len(acc_list)"
      ]
    },
    {
      "cell_type": "code",
      "execution_count": null,
      "metadata": {},
      "outputs": [],
      "source": [
        "def objective_mnb(trial,data, data_prep):\n",
        "    \n",
        "    train_data, test_data = train_test_split(data, test_size=0.3)\n",
        "\n",
        "    train_x, train_y, test_x, test_y = data_prep(train_data, test_data)\n",
        "        \n",
        "\n",
        "    params = {\n",
        "     'var_smoothing': trial.suggest_float('var_smoothing', 1e-9,100, log='True')\n",
        "    }       \n",
        "\n",
        "    #model = GaussianNB(**params)\n",
        "    #model.fit(train_x,train_y)\n",
        "    #trial.set_user_attr(key=\"best_model\", value=model)\n",
        "#\n",
        "    #preds = model.predict(test_x)\n",
        "    #preds = preds > 0.5\n",
        "    \n"
      ]
    },
    {
      "cell_type": "code",
      "execution_count": null,
      "metadata": {},
      "outputs": [],
      "source": [
        "study_mnb = optuna.create_study(direction='maximize')\n",
        "study_mnb.optimize(objective_mnb, n_trials=15, callbacks=[callback])\n",
        "print('Number of finished trials:', len(study_mnb.trials))\n",
        "print('Best trial:', study_mnb.best_trial.params)"
      ]
    }
  ],
  "metadata": {
    "colab": {
      "provenance": []
    },
    "kernelspec": {
      "display_name": "Python 3",
      "name": "python3"
    },
    "language_info": {
      "codemirror_mode": {
        "name": "ipython",
        "version": 3
      },
      "file_extension": ".py",
      "mimetype": "text/x-python",
      "name": "python",
      "nbconvert_exporter": "python",
      "pygments_lexer": "ipython3",
      "version": "3.11.4"
    }
  },
  "nbformat": 4,
  "nbformat_minor": 0
}
