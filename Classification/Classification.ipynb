{
  "cells": [
    {
      "cell_type": "code",
      "execution_count": null,
      "metadata": {},
      "outputs": [],
      "source": [
        "import pandas as pd\n",
        "from classify import data_pipeline\n",
        "import seaborn as sns\n",
        "import matplotlib.pyplot as plt"
      ]
    },
    {
      "cell_type": "markdown",
      "metadata": {},
      "source": [
        "# Rzepa"
      ]
    },
    {
      "cell_type": "code",
      "execution_count": null,
      "metadata": {},
      "outputs": [],
      "source": [
        "df = data_pipeline(\"rzepa\")"
      ]
    },
    {
      "cell_type": "code",
      "execution_count": null,
      "metadata": {},
      "outputs": [],
      "source": [
        "columns = ['title', 'text','clean_title', 'clean_text', 'proba', 'words', 'num_words', 'politic', 'industry',\n",
        "       'energy', 'klimat', 'water', 'other', 'car', 'weak_count',\n",
        "       'ngram_sum_squared_to_total', 'ngram_sum_squared', 'ngram_sum',\n",
        "       'label']\n",
        "df = df[columns]"
      ]
    },
    {
      "cell_type": "code",
      "execution_count": null,
      "metadata": {},
      "outputs": [],
      "source": [
        "topics = ['politic', 'industry',\t'energy', 'klimat', 'water', 'other', 'car']\n",
        "for topic in topics:\n",
        "    df[(df[topic] > 0.5) & (df['proba'] > 0.8)].to_csv(topic + \".csv\")"
      ]
    }
  ],
  "metadata": {
    "colab": {
      "provenance": []
    },
    "kernelspec": {
      "display_name": "Python 3",
      "name": "python3"
    },
    "language_info": {
      "codemirror_mode": {
        "name": "ipython",
        "version": 3
      },
      "file_extension": ".py",
      "mimetype": "text/x-python",
      "name": "python",
      "nbconvert_exporter": "python",
      "pygments_lexer": "ipython3",
      "version": "3.11.4"
    }
  },
  "nbformat": 4,
  "nbformat_minor": 0
}
