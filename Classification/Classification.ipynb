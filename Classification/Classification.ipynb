{
  "cells": [
    {
      "cell_type": "code",
      "execution_count": 1,
      "metadata": {},
      "outputs": [],
      "source": [
        "import pandas as pd\n",
        "from classify import data_pipeline"
      ]
    },
    {
      "cell_type": "markdown",
      "metadata": {},
      "source": [
        "# Rzepa"
      ]
    },
    {
      "cell_type": "code",
      "execution_count": 2,
      "metadata": {},
      "outputs": [
        {
          "name": "stdout",
          "output_type": "stream",
          "text": [
            "{1: 'rzepa', 2: 'gpc', 3: 'newsweek', 4: 'wprost', 5: 'dorzeczy', 6: 'polityka', 7: 'wyborcza', 8: 'wpolityce'}\n",
            "rzepa\n",
            "Configuration finished\n",
            "Dataset of 18032 samples\n",
            "0    10543\n",
            "1     7489\n",
            "Name: label, dtype: int64\n",
            "Preprocessing ended\n",
            "Accuracy of model 0.9966740576496674\n"
          ]
        },
        {
          "name": "stderr",
          "output_type": "stream",
          "text": [
            "100%|██████████| 39/39 [00:56<00:00,  1.46s/it]\n"
          ]
        }
      ],
      "source": [
        "df = data_pipeline(\"rzepa\")"
      ]
    },
    {
      "cell_type": "code",
      "execution_count": 4,
      "metadata": {},
      "outputs": [],
      "source": [
        "df.drop(columns=['vectorized'], inplace=True)"
      ]
    },
    {
      "cell_type": "code",
      "execution_count": 10,
      "metadata": {},
      "outputs": [],
      "source": [
        "df['Rank'] = None\n",
        "df.loc[(df['ngram_sum_squared_to_total'] > 0.5) & (df['proba'] > 0.7) & (df['weak_count'] < 0.9) & (df['words'].apply(len) > 2), 'Rank'] = 'Eco'"
      ]
    },
    {
      "cell_type": "code",
      "execution_count": 15,
      "metadata": {},
      "outputs": [
        {
          "data": {
            "text/plain": [
              "array(['title', 'magazine_nr', 'text', 'link', 'author', 'department',\n",
              "       'imgage', 'image_text', 'date', 'clean_text', 'clean_title',\n",
              "       'proba', 'words', 'num_words', 'politic', 'industry', 'energy',\n",
              "       'klimat', 'water', 'other', 'car', 'weak_count',\n",
              "       'ngram_sum_squared_to_total', 'ngram_sum_squared', 'ngram_sum',\n",
              "       'label', 'Rank'], dtype=object)"
            ]
          },
          "execution_count": 15,
          "metadata": {},
          "output_type": "execute_result"
        }
      ],
      "source": [
        "df.columns.values"
      ]
    },
    {
      "cell_type": "code",
      "execution_count": 16,
      "metadata": {},
      "outputs": [],
      "source": [
        "df.loc[(df['Rank'] =='Eco') & (df['klimat'] > 0.5), 'Rank'] = 'klimat'\n",
        "df.loc[(df['Rank'] =='Eco') & (df['car'] > 0.5), 'Rank'] = 'car'\n",
        "df.loc[(df['Rank'] =='Eco') & (df['energy'] > 0.5), 'Rank'] = 'energy'\n",
        "df.loc[(df['Rank'] =='Eco') & (df['industry'] > 0.5), 'Rank'] = 'industry'\n",
        "df.loc[(df['Rank'] =='Eco') & (df['politic'] > 0.5), 'Rank'] = 'politic'"
      ]
    }
  ],
  "metadata": {
    "colab": {
      "provenance": []
    },
    "kernelspec": {
      "display_name": "Python 3",
      "name": "python3"
    },
    "language_info": {
      "codemirror_mode": {
        "name": "ipython",
        "version": 3
      },
      "file_extension": ".py",
      "mimetype": "text/x-python",
      "name": "python",
      "nbconvert_exporter": "python",
      "pygments_lexer": "ipython3",
      "version": "3.11.4"
    }
  },
  "nbformat": 4,
  "nbformat_minor": 0
}
