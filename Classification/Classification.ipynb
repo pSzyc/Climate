{
  "cells": [
    {
      "cell_type": "code",
      "execution_count": null,
      "metadata": {},
      "outputs": [],
      "source": [
        "from classify import data_pipeline\n",
        "import seaborn as sns\n",
        "import matplotlib.pyplot as plt\n",
        "from functools import reduce\n",
        "import pandas as pd"
      ]
    },
    {
      "cell_type": "markdown",
      "metadata": {},
      "source": [
        "# Rzepa"
      ]
    },
    {
      "cell_type": "code",
      "execution_count": null,
      "metadata": {},
      "outputs": [],
      "source": [
        "#df = data_pipeline(\"rzepa\")\n",
        "#df.drop(columns=['vectorized'], inplace=True)\n",
        "#df.to_csv(\"data_all.csv\")\n",
        "\n",
        "df = pd.read_csv(\"data_all.csv\", index_col = 'id')"
      ]
    },
    {
      "cell_type": "code",
      "execution_count": null,
      "metadata": {},
      "outputs": [],
      "source": [
        "df['Rank'] = None"
      ]
    },
    {
      "cell_type": "markdown",
      "metadata": {},
      "source": [
        "## Filter I - general good"
      ]
    },
    {
      "cell_type": "code",
      "execution_count": null,
      "metadata": {},
      "outputs": [],
      "source": [
        "def filter_by_conditions(df, condition_list):\n",
        "    condition_list.append(df['Rank'].isna())\n",
        "    selection_mask = reduce(lambda x, y: x & y, condition_list)\n",
        "    df.loc[selection_mask, 'Rank'] = 'Test'\n",
        "    print(len(df[selection_mask]))\n",
        "    if len(df[selection_mask]) > 100:\n",
        "        print('Saving')\n",
        "        df[selection_mask].sample(100).to_csv(\"data_test.csv\")\n",
        "    else:\n",
        "        df[selection_mask].to_csv(\"data_test.csv\")\n",
        "    return df\n",
        "\n",
        "def approve(df, name):\n",
        "    df.loc[df['Rank'] == 'Test', 'Rank'] = name\n",
        "    return df\n",
        "\n",
        "def restore(df):\n",
        "    df.loc[df['Rank'] == 'Test', 'Rank'] = None\n",
        "    return df"
      ]
    },
    {
      "cell_type": "code",
      "execution_count": null,
      "metadata": {},
      "outputs": [],
      "source": [
        "condition_list = []\n",
        "condition_list.append(df['ngram_sum_squared_to_total'] > 0.75)\n",
        "condition_list.append(df['proba'] > 0.5)\n",
        "condition_list.append(df['weak_count'] < 0.5)\n",
        "\n",
        "df = filter_by_conditions(df, condition_list)"
      ]
    },
    {
      "cell_type": "code",
      "execution_count": null,
      "metadata": {},
      "outputs": [],
      "source": [
        "# Approved\n",
        "df = approve(df, \"Filter1\")"
      ]
    },
    {
      "cell_type": "markdown",
      "metadata": {},
      "source": [
        "## Filter II - high ngrams"
      ]
    },
    {
      "cell_type": "code",
      "execution_count": null,
      "metadata": {},
      "outputs": [],
      "source": [
        "condition_list = [df['weak_count']  < 0.3,\n",
        "                  df['ngram_sum_squared_to_total'] > 0.5,\n",
        "                  df['num_words'] > 2,\n",
        "                  df['proba'] > 0.5]\n",
        "df = filter_by_conditions(df, condition_list)"
      ]
    },
    {
      "cell_type": "code",
      "execution_count": null,
      "metadata": {},
      "outputs": [],
      "source": [
        "df = approve(df, 'Filter2')"
      ]
    },
    {
      "cell_type": "markdown",
      "metadata": {},
      "source": [
        "# Filter III - klimat count"
      ]
    },
    {
      "cell_type": "code",
      "execution_count": null,
      "metadata": {},
      "outputs": [],
      "source": [
        "df['klimat_count'] = df['ngram_sum'] * df['klimat']"
      ]
    },
    {
      "cell_type": "code",
      "execution_count": null,
      "metadata": {},
      "outputs": [],
      "source": [
        "condition_list = [\n",
        "    df['klimat_count'] > 2,\n",
        "    df['ngram_sum_squared_to_total'] > 0.33,\n",
        "]\n",
        "df = filter_by_conditions(df, condition_list)"
      ]
    },
    {
      "cell_type": "code",
      "execution_count": null,
      "metadata": {},
      "outputs": [],
      "source": [
        "df = approve(df, \"Filter3\")"
      ]
    },
    {
      "cell_type": "markdown",
      "metadata": {},
      "source": [
        "# Filter 4"
      ]
    },
    {
      "cell_type": "code",
      "execution_count": null,
      "metadata": {},
      "outputs": [],
      "source": [
        "condition_list = [\n",
        "    df['klimat_count'] > 0,\n",
        "    df['proba'] > 0.8,\n",
        "    df['weak_count'] < 0.5,\n",
        "    df['num_words'] > 2\n",
        "    ]\n",
        "df = filter_by_conditions(df, condition_list)"
      ]
    },
    {
      "cell_type": "markdown",
      "metadata": {},
      "source": [
        "# Left"
      ]
    },
    {
      "cell_type": "code",
      "execution_count": null,
      "metadata": {},
      "outputs": [],
      "source": [
        "df_left = df[df['Rank'].isna()]\n",
        "len(df_left)"
      ]
    },
    {
      "cell_type": "code",
      "execution_count": null,
      "metadata": {},
      "outputs": [],
      "source": [
        "df[~df['Rank'].isna()].to_csv('eco_rzepa.csv')"
      ]
    }
  ],
  "metadata": {
    "colab": {
      "provenance": []
    },
    "kernelspec": {
      "display_name": "Python 3",
      "name": "python3"
    },
    "language_info": {
      "codemirror_mode": {
        "name": "ipython",
        "version": 3
      },
      "file_extension": ".py",
      "mimetype": "text/x-python",
      "name": "python",
      "nbconvert_exporter": "python",
      "pygments_lexer": "ipython3",
      "version": "3.11.6"
    }
  },
  "nbformat": 4,
  "nbformat_minor": 0
}
