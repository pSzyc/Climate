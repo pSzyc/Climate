{
  "cells": [
    {
      "cell_type": "code",
      "execution_count": null,
      "metadata": {},
      "outputs": [],
      "source": [
        "from classify import data_pipeline\n",
        "import seaborn as sns\n",
        "import matplotlib.pyplot as plt\n",
        "from functools import reduce"
      ]
    },
    {
      "cell_type": "markdown",
      "metadata": {},
      "source": [
        "# Rzepa"
      ]
    },
    {
      "cell_type": "code",
      "execution_count": null,
      "metadata": {},
      "outputs": [],
      "source": [
        "df = data_pipeline(\"rzepa\")\n",
        "df.drop(columns=['vectorized'], inplace=True)"
      ]
    },
    {
      "cell_type": "code",
      "execution_count": null,
      "metadata": {},
      "outputs": [],
      "source": [
        "df['Rank'] = None"
      ]
    },
    {
      "cell_type": "markdown",
      "metadata": {},
      "source": [
        "## Filter I"
      ]
    },
    {
      "cell_type": "code",
      "execution_count": null,
      "metadata": {},
      "outputs": [],
      "source": [
        "def filter_by_conditions(df, condition_list):\n",
        "    selection_mask = reduce(lambda x, y: x & y, condition_list)\n",
        "    df.loc[selection_mask, 'Rank'] = 'Test'\n",
        "    return df[selection_mask]"
      ]
    },
    {
      "cell_type": "code",
      "execution_count": null,
      "metadata": {},
      "outputs": [],
      "source": [
        "condition_list = []\n",
        "condition_list.append(df['ngram_sum_squared_to_total'] > 1)\n",
        "condition_list.append(df['proba'] > 0.9)\n",
        "condition_list.append(df['weak_count'] < 0.9)\n",
        "condition_list.append(df['words'].apply(len) > 2)\n",
        "condition_list.append(df['Rank'].isna())\n",
        "\n",
        "df_selected = filter_by_conditions(df, condition_list)"
      ]
    },
    {
      "cell_type": "code",
      "execution_count": null,
      "metadata": {},
      "outputs": [],
      "source": [
        "df_sample = df_selected.sample(100)\n",
        "df_sample.to_csv(\"data.csv\")"
      ]
    },
    {
      "cell_type": "code",
      "execution_count": null,
      "metadata": {},
      "outputs": [],
      "source": [
        "# Approved\n",
        "df.loc[df['Rank'] == 'Test', 'Rank'] = 'Filter1'"
      ]
    },
    {
      "cell_type": "markdown",
      "metadata": {},
      "source": [
        "## Filter II"
      ]
    },
    {
      "cell_type": "code",
      "execution_count": null,
      "metadata": {},
      "outputs": [],
      "source": [
        "df_left = df[df['Rank'].isna()]\n",
        "condition_list = [df_left['weak_count']  < 0.3,\n",
        "                  df_left['ngram_sum_squared_to_total'] > 1]\n",
        "df_selected = filter_by_conditions(df_left, condition_list)"
      ]
    },
    {
      "cell_type": "code",
      "execution_count": null,
      "metadata": {},
      "outputs": [],
      "source": [
        "sns.jointplot(df_selected, x = 'weak_count', y = 'ngram_sum_squared')\n",
        "plt.yscale('log')"
      ]
    },
    {
      "cell_type": "code",
      "execution_count": null,
      "metadata": {},
      "outputs": [],
      "source": [
        "df_selected.sample(100).to_csv('data.csv')"
      ]
    }
  ],
  "metadata": {
    "colab": {
      "provenance": []
    },
    "kernelspec": {
      "display_name": "Python 3",
      "name": "python3"
    },
    "language_info": {
      "codemirror_mode": {
        "name": "ipython",
        "version": 3
      },
      "file_extension": ".py",
      "mimetype": "text/x-python",
      "name": "python",
      "nbconvert_exporter": "python",
      "pygments_lexer": "ipython3",
      "version": "3.11.6"
    }
  },
  "nbformat": 4,
  "nbformat_minor": 0
}
