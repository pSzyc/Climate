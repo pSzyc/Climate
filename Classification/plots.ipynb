{
 "cells": [
  {
   "cell_type": "markdown",
   "metadata": {},
   "source": [
    "# Rf plot"
   ]
  },
  {
   "cell_type": "code",
   "execution_count": null,
   "metadata": {},
   "outputs": [],
   "source": [
    "from sklearn.ensemble import RandomForestClassifier\n",
    "import pickle\n",
    "from sklearn import tree\n",
    "import matplotlib.pyplot as plt\n",
    "\n",
    "with open('plots/model.pkl', 'rb') as f:\n",
    "    clf = pickle.load(f)\n",
    "\n",
    "plt.figure(figsize=(30, 15))\n",
    "tree.plot_tree(clf.estimators_[0], filled=True)\n",
    "plt.savefig('plots/rf_tree.png', dpi=900)\n"
   ]
  },
  {
   "cell_type": "markdown",
   "metadata": {},
   "source": [
    "# Rzepa plots"
   ]
  },
  {
   "cell_type": "code",
   "execution_count": null,
   "metadata": {},
   "outputs": [],
   "source": [
    "import seaborn as sns\n",
    "import matplotlib.pyplot as plt"
   ]
  },
  {
   "cell_type": "code",
   "execution_count": null,
   "metadata": {},
   "outputs": [],
   "source": [
    "from classify import data_pipeline, eco_selector\n",
    "import pandas as pd\n",
    "\n",
    "def validator(df):\n",
    "    df = df.drop_duplicates()\n",
    "    df = df[~df['text'].isna()]\n",
    "    if 'vectorized' in df.columns.values:\n",
    "        df = df.drop(columns=['vectorized'])\n",
    "    if df.index.duplicated().any():\n",
    "        print(\"Duplicated index!!!\")\n",
    "        df = df.reset_index()\n",
    "        df = df.drop(columns = ['id'])\n",
    "        df = df.rename(columns = {'index': 'id'})\n",
    "    elif 'id' not in df.columns.values:\n",
    "        df = df.reset_index()\n",
    "        df = df.rename(columns = {'index': 'id'})\n",
    "    df['date'] = pd.to_datetime(df['date'])\n",
    "    print(f\"Found {len(df)} files\")\n",
    "    return df"
   ]
  },
  {
   "cell_type": "code",
   "execution_count": null,
   "metadata": {},
   "outputs": [],
   "source": [
    "corp = 'rzepa'\n",
    "df_rest, df_eco = data_pipeline(corp)\n",
    "df_final = pd.concat([df_eco, eco_selector(df_rest)])\n",
    "df_final = validator(df_final)\n",
    "df_final.to_csv(f\"eco_{corp}.csv\")"
   ]
  },
  {
   "cell_type": "markdown",
   "metadata": {},
   "source": [
    "plt.style.use('ggplot')\n",
    "plt.figure(figsize=(10, 5))\n",
    "sns.histplot(df_rest, x='proba')\n",
    "plt.ylabel('Number of articles')\n",
    "plt.xlabel('Probability of an article being related to climate change')\n",
    "plt.yscale('log')\n",
    "plt.savefig('plots/proba_hist.png', dpi = 600)"
   ]
  },
  {
   "cell_type": "code",
   "execution_count": null,
   "metadata": {},
   "outputs": [],
   "source": [
    "\n",
    "plt.figure(figsize=(10, 5))\n",
    "sns.histplot(df_rest[df_rest['ngram_sum_squared_to_total'].between(0, 100)], x='ngram_sum_squared_to_total', bins=50,)\n",
    "plt.xlabel('Squared number of selected ngrams found in the article devided by the number of tokens')\n",
    "plt.ylabel('Number of articles')\n",
    "plt.yscale('log')\n",
    "plt.savefig('plots/ngarm_hist.png', dpi = 600)"
   ]
  },
  {
   "cell_type": "code",
   "execution_count": null,
   "metadata": {},
   "outputs": [],
   "source": [
    "plt.figure(figsize=(20, 10))\n",
    "sns.histplot(df_final, x='ngram_sum_squared_to_total', y='proba', bins=(150, 25), cbar=True, cmap='viridis', vmax=50)\n",
    "plt.xlabel('Squared number of selected ngrams found in the article devided by the number of tokens')\n",
    "plt.ylabel('Probability of an article being related to climate change')\n",
    "plt.xlim(0, 100)\n",
    "plt.ylim(0.9, 1)\n",
    "plt.savefig('plots/ngarm_proba_hist.png', dpi = 600)"
   ]
  },
  {
   "cell_type": "markdown",
   "metadata": {},
   "source": [
    "# Tsne plots"
   ]
  },
  {
   "cell_type": "code",
   "execution_count": null,
   "metadata": {},
   "outputs": [],
   "source": [
    "import pandas as pd\n",
    "import matplotlib.pyplot as plt\n",
    "plt.style.use('ggplot')\n",
    "df_tsne = pd.read_csv(\"plots/tsne.csv\")\n",
    "plt.figure(figsize=(16,10))\n",
    "\"t-SNE results on input data for the classification layer of neural network\"\n",
    "plt.title(\"Rezultat t-SNE na danych wejściowych warstwy klasyfikującej sieci neuronowej\")\n",
    "plt.scatter(df_tsne[df_tsne[\"class\"] == 0][\"x\"], df_tsne[df_tsne[\"class\"] == 0][\"y\"], label=\"Inne\", alpha=0.5)\n",
    "plt.scatter(df_tsne[df_tsne[\"class\"] == 1][\"x\"], df_tsne[df_tsne[\"class\"] == 1][\"y\"], label=\"Artykuł związany z klimatem\", alpha=0.5)\n",
    "plt.legend()\n",
    "plt.xlabel(\"t-SNE wymiar x\")\n",
    "plt.ylabel(\"t-SNE wymiar y\")\n",
    "plt.savefig(\"plots/tsne.png\", dpi=600)"
   ]
  },
  {
   "cell_type": "code",
   "execution_count": null,
   "metadata": {},
   "outputs": [],
   "source": []
  }
 ],
 "metadata": {
  "kernelspec": {
   "display_name": "Python 3",
   "language": "python",
   "name": "python3"
  },
  "language_info": {
   "codemirror_mode": {
    "name": "ipython",
    "version": 3
   },
   "file_extension": ".py",
   "mimetype": "text/x-python",
   "name": "python",
   "nbconvert_exporter": "python",
   "pygments_lexer": "ipython3",
   "version": "3.11.6"
  }
 },
 "nbformat": 4,
 "nbformat_minor": 2
}
