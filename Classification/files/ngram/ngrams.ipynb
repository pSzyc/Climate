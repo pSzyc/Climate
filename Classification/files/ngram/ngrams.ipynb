{
 "cells": [
  {
   "cell_type": "code",
   "execution_count": 12,
   "metadata": {},
   "outputs": [],
   "source": [
    "from ngrams import save_rest_ngrams, lemmatizer, get_eco_vocab\n",
    "import pandas as pd\n"
   ]
  },
  {
   "cell_type": "code",
   "execution_count": 13,
   "metadata": {},
   "outputs": [],
   "source": [
    "import pandas as pd\n",
    "import regex as re\n",
    "files = [\"topics/car_grams.csv\", \"topics/klimat_grams.csv\", \"topics/trash_grams.csv\",\"topics/water_grams.csv\"]\n",
    "data = []\n",
    "for file in files:\n",
    "    df = pd.read_csv(file)\n",
    "    df['origin'] = re.search(\"/(.*)_\", file).group(1)\n",
    "    df.drop(columns='count', inplace=True)\n",
    "    data.append(df)\n",
    "df = pd.concat(data)"
   ]
  },
  {
   "cell_type": "code",
   "execution_count": 14,
   "metadata": {},
   "outputs": [],
   "source": [
    "vocab = get_eco_vocab()"
   ]
  },
  {
   "cell_type": "code",
   "execution_count": 27,
   "metadata": {},
   "outputs": [],
   "source": [
    "vocab_df = pd.DataFrame(vocab.items(), columns=['phrase', 'count'])\n",
    "vocab_df[~vocab_df['phrase'].isin(df.phrase)].to_csv(\"rest.csv\", index=False)"
   ]
  },
  {
   "cell_type": "code",
   "execution_count": null,
   "metadata": {},
   "outputs": [],
   "source": []
  }
 ],
 "metadata": {
  "kernelspec": {
   "display_name": "Python 3",
   "language": "python",
   "name": "python3"
  },
  "language_info": {
   "codemirror_mode": {
    "name": "ipython",
    "version": 3
   },
   "file_extension": ".py",
   "mimetype": "text/x-python",
   "name": "python",
   "nbconvert_exporter": "python",
   "pygments_lexer": "ipython3",
   "version": "3.11.4"
  }
 },
 "nbformat": 4,
 "nbformat_minor": 2
}
