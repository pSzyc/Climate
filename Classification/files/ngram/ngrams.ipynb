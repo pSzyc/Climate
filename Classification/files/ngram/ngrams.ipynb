{
 "cells": [
  {
   "cell_type": "code",
   "execution_count": null,
   "metadata": {},
   "outputs": [],
   "source": [
    "from ngrams import save_rest_ngrams, lemmatizer, get_eco_vocab\n",
    "import pandas as pd"
   ]
  },
  {
   "cell_type": "code",
   "execution_count": null,
   "metadata": {},
   "outputs": [],
   "source": [
    "topics = ['politic', 'industry',\t'energy', 'klimat', 'water', 'other', 'car']\n",
    "for topic in topics:\n",
    "    df = pd.read_csv(f\"../../{topic}.csv\", index_col='id')\n",
    "    save_rest_ngrams(df, 100, topic)"
   ]
  },
  {
   "cell_type": "markdown",
   "metadata": {},
   "source": [
    "# Validate ngrams"
   ]
  },
  {
   "cell_type": "code",
   "execution_count": null,
   "metadata": {},
   "outputs": [],
   "source": [
    "import os\n",
    "for dirpath, folders, files in os.walk(\"topics\"):\n",
    "    file_list = [os.path.join(dirpath, f) for f in files]"
   ]
  },
  {
   "cell_type": "code",
   "execution_count": null,
   "metadata": {},
   "outputs": [],
   "source": [
    "import pandas as pd\n",
    "import regex as re\n",
    "data = []\n",
    "for file in file_list:\n",
    "    print(file)\n",
    "    df = pd.read_csv(file)\n",
    "    df['origin'] = re.search(\"/(.*)_\", file).group(1)\n",
    "    df.drop(columns='count', inplace=True)\n",
    "    data.append(df)\n",
    "df = pd.concat(data)"
   ]
  },
  {
   "cell_type": "code",
   "execution_count": null,
   "metadata": {},
   "outputs": [],
   "source": [
    "categories = df.groupby(\"phrase\")['origin'].nunique()\n",
    "assert len(categories[categories > 1]) == 0"
   ]
  },
  {
   "cell_type": "code",
   "execution_count": null,
   "metadata": {},
   "outputs": [],
   "source": [
    "df = df[~df['phrase'].duplicated()]\n",
    "df.to_csv(\"ngrams.csv\", index = False)"
   ]
  }
 ],
 "metadata": {
  "kernelspec": {
   "display_name": "Python 3",
   "language": "python",
   "name": "python3"
  },
  "language_info": {
   "codemirror_mode": {
    "name": "ipython",
    "version": 3
   },
   "file_extension": ".py",
   "mimetype": "text/x-python",
   "name": "python",
   "nbconvert_exporter": "python",
   "pygments_lexer": "ipython3",
   "version": "3.11.4"
  }
 },
 "nbformat": 4,
 "nbformat_minor": 2
}
