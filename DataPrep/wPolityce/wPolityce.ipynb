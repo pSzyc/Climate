{
 "cells": [
  {
   "cell_type": "code",
   "execution_count": null,
   "metadata": {},
   "outputs": [],
   "source": [
    "import pandas as pd\n",
    "from pathlib import Path\n",
    "\n",
    "corpus_path = Path(\"/run/user/1000/gvfs/google-drive:host=gmail.com,user=przemek.7678/GVfsSharedDrives/0AAcFxORfkRfDUk9PVA/13iaeWwq4Ci83lCggiCuLvcIHCSfREE0P/14CVZXy2f6ObWorvYy_xyhSRjIcQAW1nY/1p-pT3Xw8EnoBVFoKtg41s8LqdIlAjxtx\")"
   ]
  },
  {
   "cell_type": "code",
   "execution_count": null,
   "metadata": {},
   "outputs": [],
   "source": [
    "df = pd.read_csv(corpus_path /  \"eco_all.csv\")\n",
    "df = df.drop(columns='id')\n",
    "df = df.reset_index()\n",
    "df.rename(columns={'index':\"id\"}, inplace=True)\n",
    "df.head()"
   ]
  },
  {
   "cell_type": "code",
   "execution_count": null,
   "metadata": {},
   "outputs": [],
   "source": [
    "import regex as re\n",
    "\n",
    "def decapitalizer(text):\n",
    "    words = re.split(\" \", text)\n",
    "    return \" \".join([word[0] + word[1:].lower() for word in words if len(word) > 1])\n",
    "\n",
    "df['text_corrected'] = df['text'].apply(lambda x: re.sub(\"- \", '', x))\n",
    "df['text_corrected'] = df['text_corrected'].apply(lambda x: re.sub(\" \", \" \", x))\n",
    "df['text_corrected'] = df['text_corrected'].apply(decapitalizer)"
   ]
  },
  {
   "cell_type": "code",
   "execution_count": null,
   "metadata": {},
   "outputs": [],
   "source": [
    "sampled = df.sample(1).iloc[0]\n",
    "with open('sampled_text.txt', 'w') as f:\n",
    "    f.write(sampled.text_corrected)"
   ]
  },
  {
   "cell_type": "code",
   "execution_count": null,
   "metadata": {},
   "outputs": [],
   "source": [
    "df = df.drop(columns=['text'])\n",
    "df = df.rename(columns={\"text_corrected\": \"text\"})\n",
    "df.to_csv(\"eco_corrected.csv\", index=False)"
   ]
  }
 ],
 "metadata": {
  "kernelspec": {
   "display_name": "Python 3",
   "language": "python",
   "name": "python3"
  },
  "language_info": {
   "codemirror_mode": {
    "name": "ipython",
    "version": 3
   },
   "file_extension": ".py",
   "mimetype": "text/x-python",
   "name": "python",
   "nbconvert_exporter": "python",
   "pygments_lexer": "ipython3",
   "version": "3.11.6"
  }
 },
 "nbformat": 4,
 "nbformat_minor": 2
}
