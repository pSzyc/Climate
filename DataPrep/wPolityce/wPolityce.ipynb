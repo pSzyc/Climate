{
 "cells": [
  {
   "cell_type": "code",
   "execution_count": 13,
   "metadata": {},
   "outputs": [],
   "source": [
    "import pandas as pd\n",
    "from pathlib import Path\n",
    "import regex as re"
   ]
  },
  {
   "cell_type": "code",
   "execution_count": 14,
   "metadata": {},
   "outputs": [],
   "source": [
    "df = pd.read_csv(\"wPolityce.csv\")"
   ]
  },
  {
   "cell_type": "code",
   "execution_count": 15,
   "metadata": {},
   "outputs": [],
   "source": [
    "df['text_raw'] = df['text']\n",
    "df['date_raw'] = df['date']"
   ]
  },
  {
   "cell_type": "code",
   "execution_count": 16,
   "metadata": {},
   "outputs": [],
   "source": [
    "def decapitalizer(text):\n",
    "    words = re.split(\" \", text)\n",
    "    return \" \".join([word[0] + word[1:].lower() for word in words if len(word) > 1])\n",
    "df['text'] = df['text'].apply(lambda x: re.sub(\"- \", '', x))\n",
    "df['text'] = df['text'].apply(lambda x: re.sub(\" \", \" \", x))\n",
    "df['text'] = df['text'].apply(lambda x: re.sub(\"\\xa0\", \" \", x))\n",
    "df['text'] = df['text'].apply(lambda x: re.sub(\"\\xa029\", \" \", x))\n",
    "df['text'] = df['text'].apply(lambda x: re.sub(\"\\xad \", \"\", x))\n",
    "df['text'] = df['text'].apply(lambda x: re.sub(\"\\xad\", \" \", x))\n",
    "df['text'] = df['text'].apply(decapitalizer)"
   ]
  },
  {
   "cell_type": "code",
   "execution_count": 17,
   "metadata": {},
   "outputs": [],
   "source": [
    "df.date = df.date.apply(lambda x: re.sub(\" stycznia\\s*\", '.01.', x, flags=re.IGNORECASE))\n",
    "df.date = df.date.apply(lambda x: re.sub(\" lutego\\s*\", '.02.', x, flags=re.IGNORECASE))\n",
    "df.date = df.date.apply(lambda x: re.sub(\" marca\\s*\", '.03.', x, flags=re.IGNORECASE))\n",
    "df.date = df.date.apply(lambda x: re.sub(\" kwietnia\\s*\", '.04.', x, flags=re.IGNORECASE))\n",
    "df.date = df.date.apply(lambda x: re.sub(\" maja\\s*\", '.05.', x, flags=re.IGNORECASE))\n",
    "df.date = df.date.apply(lambda x: re.sub(\" czerwca\\s*\", '.06.', x, flags=re.IGNORECASE))\n",
    "df.date = df.date.apply(lambda x: re.sub(\" lipca\\s*\", '.07.', x, flags=re.IGNORECASE))\n",
    "df.date = df.date.apply(lambda x: re.sub(\" sierpnia\\s*\", '.08.', x, flags=re.IGNORECASE))\n",
    "df.date = df.date.apply(lambda x: re.sub(\" września\\s*\", '.09.', x, flags=re.IGNORECASE))\n",
    "df.date = df.date.apply(lambda x: re.sub(\" października\\s*\", '.10.', x, flags=re.IGNORECASE))\n",
    "df.date = df.date.apply(lambda x: re.sub(\" listopada\\s*\", '.11.', x, flags=re.IGNORECASE))\n",
    "df.date = df.date.apply(lambda x: re.sub(\" grudnia\\s*\", '.12.', x, flags=re.IGNORECASE))\n",
    "df.date = df.date.apply(lambda x: re.sub(\"\\sXII\\s*\", '.12.', x, flags=re.IGNORECASE))\n",
    "df.date = df.date.apply(lambda x: re.sub(\"\\sI\\s*\", '.01.', x, flags=re.IGNORECASE))\n",
    "df.date = df.date.apply(lambda x: re.sub(\"\\sIX\\s*\", '.09.', x, flags=re.IGNORECASE))\n",
    "df.date = df.date.apply(lambda x: re.sub(\"\\sX\\s*\", '.10.', x, flags=re.IGNORECASE))"
   ]
  },
  {
   "cell_type": "code",
   "execution_count": 18,
   "metadata": {},
   "outputs": [],
   "source": [
    "df.date = df.date.apply(lambda x: re.sub(\"^.*-\", '', x, flags=re.IGNORECASE))\n",
    "df.date = df.date.apply(lambda x: re.sub(\"\\|.*$\", '', x, flags=re.IGNORECASE))\n",
    "df.date = df.date.apply(lambda x: re.sub(\"[^\\d\\.]\", '', x, flags=re.IGNORECASE))"
   ]
  },
  {
   "cell_type": "code",
   "execution_count": 19,
   "metadata": {},
   "outputs": [],
   "source": [
    "df['date'] = pd.to_datetime(df['date'], format='%d.%m.%Y')"
   ]
  },
  {
   "cell_type": "code",
   "execution_count": 20,
   "metadata": {},
   "outputs": [],
   "source": [
    "df.drop(columns=['id']).reset_index().rename(columns={\"index\":'id'}).to_csv(\"wPolityce.csv\", index=False)"
   ]
  }
 ],
 "metadata": {
  "kernelspec": {
   "display_name": "Python 3",
   "language": "python",
   "name": "python3"
  },
  "language_info": {
   "codemirror_mode": {
    "name": "ipython",
    "version": 3
   },
   "file_extension": ".py",
   "mimetype": "text/x-python",
   "name": "python",
   "nbconvert_exporter": "python",
   "pygments_lexer": "ipython3",
   "version": "3.11.6"
  }
 },
 "nbformat": 4,
 "nbformat_minor": 2
}
