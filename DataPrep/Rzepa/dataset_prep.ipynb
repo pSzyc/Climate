{
 "cells": [
  {
   "cell_type": "code",
   "execution_count": 2,
   "metadata": {},
   "outputs": [],
   "source": [
    "import pandas as pd\n",
    "import numpy as np\n",
    "import regex as re\n",
    "from data_pipeline import restore_authors"
   ]
  },
  {
   "cell_type": "code",
   "execution_count": 3,
   "metadata": {},
   "outputs": [],
   "source": [
    "df_all = pd.read_csv('rzepa_all.csv', index_col='id')\n",
    "proper_cols = np.array(['title', 'magazine_nr', 'text', 'link', 'source', 'author','department', 'imgage', 'image_text', 'date','class'])"
   ]
  },
  {
   "cell_type": "markdown",
   "metadata": {},
   "source": [
    "# cop data"
   ]
  },
  {
   "cell_type": "code",
   "execution_count": 11,
   "metadata": {},
   "outputs": [],
   "source": [
    "cop_rzepa = pd.read_csv('cop_rzepa.csv', index_col='id')\n",
    "cop_rzepa = cop_rzepa[['title', 'date', 'text']].merge(df_all.reset_index(), on=['title', 'date'], how='left')\n",
    "cop_rzepa = cop_rzepa.dropna(subset=['text_x']).rename(columns={'text_x': 'text'})\n",
    "cop_rzepa['class'] = 1"
   ]
  },
  {
   "cell_type": "markdown",
   "metadata": {},
   "source": [
    "# dataset"
   ]
  },
  {
   "cell_type": "code",
   "execution_count": 13,
   "metadata": {},
   "outputs": [],
   "source": [
    "df = pd.read_csv(\"tagged/dataset.csv\", index_col='id')"
   ]
  },
  {
   "cell_type": "code",
   "execution_count": 17,
   "metadata": {},
   "outputs": [
    {
     "name": "stdout",
     "output_type": "stream",
     "text": [
      "2663\n",
      "2621\n"
     ]
    }
   ],
   "source": [
    "cop_rzepa['translated'] = False\n",
    "df_new = pd.concat([df, cop_rzepa])\n",
    "print(len(df_new))\n",
    "df_new = df_new.drop_duplicates(subset=['title', 'translated', 'date'])\n",
    "print(len(df_new))\n",
    "df_new.to_csv('tagged/dataset_02-2024.csv')"
   ]
  }
 ],
 "metadata": {
  "kernelspec": {
   "display_name": "usr",
   "language": "python",
   "name": "python3"
  },
  "language_info": {
   "codemirror_mode": {
    "name": "ipython",
    "version": 3
   },
   "file_extension": ".py",
   "mimetype": "text/x-python",
   "name": "python",
   "nbconvert_exporter": "python",
   "pygments_lexer": "ipython3",
   "version": "3.11.6"
  },
  "orig_nbformat": 4,
  "vscode": {
   "interpreter": {
    "hash": "767d51c1340bd893661ea55ea3124f6de3c7a262a8b4abca0554b478b1e2ff90"
   }
  }
 },
 "nbformat": 4,
 "nbformat_minor": 2
}
