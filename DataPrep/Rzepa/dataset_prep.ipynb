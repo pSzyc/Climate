{
 "cells": [
  {
   "cell_type": "code",
   "execution_count": 1,
   "metadata": {},
   "outputs": [],
   "source": [
    "import pandas as pd\n",
    "import numpy as np\n",
    "import regex as re"
   ]
  },
  {
   "cell_type": "code",
   "execution_count": 2,
   "metadata": {},
   "outputs": [],
   "source": [
    "df_all = pd.read_csv('rzepa_all.csv', index_col='id')\n",
    "proper_cols = np.array(['title', 'magazine_nr', 'text', 'link', 'source', 'author','department', 'imgage', 'image_text', 'date','class'])"
   ]
  },
  {
   "cell_type": "markdown",
   "metadata": {},
   "source": [
    "### Tagged data"
   ]
  },
  {
   "cell_type": "code",
   "execution_count": 7,
   "metadata": {},
   "outputs": [],
   "source": [
    "data_1 = pd.read_csv(\"tagged/tagged_0.csv\", index_col='id')\n",
    "data_2 = pd.concat([pd.read_csv(f\"tagged/updated_data_{i}.csv\", index_col='id') for i in range(1,3)])\n",
    "cols = ['magazine_nr','class', 'link'] \n",
    "data_list = [data[cols] for data in [data_1, data_2]]\n",
    "df_12 = pd.concat(data_list)\n",
    "df_12 = pd.merge(df_12, df_all, how='inner', on=['id','link', 'magazine_nr'])"
   ]
  },
  {
   "cell_type": "code",
   "execution_count": 9,
   "metadata": {},
   "outputs": [],
   "source": [
    "data_3 = pd.read_csv(\"tagged/validation_0.csv\", index_col='id')\n",
    "data_3 = data_3[~data_3['rank_revised 1-5'].isna()]\n",
    "data_3.loc[data_3['rank_revised 1-5'].apply(lambda x: True if re.search('5', x) else False), 'label'] = 0\n",
    "data_3.rename(columns={'label': 'class'}, inplace=True)\n",
    "data_3 = data_3[['magazine_nr', 'link', 'class']]\n",
    "df_3 = pd.merge(data_3, df_all.reset_index(), how='inner', on = ['magazine_nr', 'link'])\n",
    "df_3 = df_3.set_index('id')\n",
    "df_3['magazine_nr'] = df_3['magazine_nr'].astype(int)"
   ]
  },
  {
   "cell_type": "code",
   "execution_count": 19,
   "metadata": {},
   "outputs": [
    {
     "name": "stdout",
     "output_type": "stream",
     "text": [
      "1379\n",
      "1373\n"
     ]
    }
   ],
   "source": [
    "df_tagged_all = pd.concat([df_12, df_3])\n",
    "print(len(df_tagged_all))\n",
    "df_tagged_all = df_tagged_all.iloc[~df_tagged_all.index.duplicated(keep='first')]\n",
    "print(len(df_tagged_all))"
   ]
  },
  {
   "cell_type": "code",
   "execution_count": 20,
   "metadata": {},
   "outputs": [
    {
     "data": {
      "text/plain": [
       "(1373,\n",
       " array(['magazine_nr', 'class', 'link', 'title', 'text', 'source',\n",
       "        'author', 'department', 'imgage', 'image_text', 'date'],\n",
       "       dtype=object))"
      ]
     },
     "execution_count": 20,
     "metadata": {},
     "output_type": "execute_result"
    }
   ],
   "source": [
    "len(df_tagged_all), df_tagged_all.columns.values"
   ]
  },
  {
   "cell_type": "code",
   "execution_count": 21,
   "metadata": {},
   "outputs": [],
   "source": [
    "df_tagged_all['class'] = df_tagged_all['class'].astype(int)"
   ]
  },
  {
   "cell_type": "code",
   "execution_count": 22,
   "metadata": {},
   "outputs": [
    {
     "name": "stdout",
     "output_type": "stream",
     "text": [
      "120\n"
     ]
    }
   ],
   "source": [
    "one_to_zero = [28546, 92891, 16564,76958,29067,54264,164028, 25883,26107,164028,154940,40340,29306,59452,59560,213961]\n",
    "one_to_zero.extend([20725,9445,157392,91486,191713,68595,92234,59598,29295,5495,29545,33137,214061,28996,214061,156058])\n",
    "one_to_zero.extend([29311,31709,27281,52829,93483,59079,144102,29311,30376,27773,192071,160022,91673,60016,29827,22455,4091,93485,59301,25138,59997,213409,213771,2906,150789,122132,122293,24594,130858,213120,92735,192071])\n",
    "one_to_zero.extend([192012, 118761,  27281,  92735, 122137,  59997, 122717,  30376,92109,  31709,  22455, 213120, 213983])\n",
    "one_to_zero.extend([147521, 100383,  88415, 113014, 198686, 213536, 210098, 118933,\n",
    "       128253, 198685, 120812, 123203, 106132, 150356, 159867, 155776,\n",
    "       152903, 200337, 194524, 110438, 149109, 213246, 203029,\n",
    "       133157, 213907, 122621, 160077, 178269, 160965, 189486, 102565,\n",
    "       213842, 202292, 183495, 112524,  95627,  65447, 122011, 191277,\n",
    "       136626, 213476,  99147, 111853, 187641, 157392, 194987,\n",
    "       211263, 187037, 149484, 103954, 186329, 202952, 127724, 115554])\n",
    "one_to_zero = [*set(one_to_zero)]\n",
    "print(len(one_to_zero))\n",
    "zero_to_one = [177788, 191713, 157392, 116963]\n",
    "zero_to_one.extend([160022, 154959,  93485,  91486, 192071,  56463, 162557,   2906,\n",
    "        36234,  33565, 118761, 144102,  25867,  41358,  29827,   9445,\n",
    "        21000,  35271, 214061,  33137,  30376, 213771,  23863])"
   ]
  },
  {
   "cell_type": "code",
   "execution_count": 23,
   "metadata": {},
   "outputs": [
    {
     "ename": "KeyError",
     "evalue": "'[93350] not in index'",
     "output_type": "error",
     "traceback": [
      "\u001b[0;31m---------------------------------------------------------------------------\u001b[0m",
      "\u001b[0;31mKeyError\u001b[0m                                  Traceback (most recent call last)",
      "\u001b[1;32m/home/hombre/Code/Climate Project/DataPrep/Rzepa/dataset_prep.ipynb Cell 10\u001b[0m line \u001b[0;36m1\n\u001b[0;32m----> <a href='vscode-notebook-cell:/home/hombre/Code/Climate%20Project/DataPrep/Rzepa/dataset_prep.ipynb#X11sZmlsZQ%3D%3D?line=0'>1</a>\u001b[0m df_tagged_all\u001b[39m.\u001b[39;49mloc[one_to_zero, \u001b[39m'\u001b[39;49m\u001b[39mclass\u001b[39;49m\u001b[39m'\u001b[39;49m] \u001b[39m=\u001b[39m np\u001b[39m.\u001b[39mzeros_like(one_to_zero)\n\u001b[1;32m      <a href='vscode-notebook-cell:/home/hombre/Code/Climate%20Project/DataPrep/Rzepa/dataset_prep.ipynb#X11sZmlsZQ%3D%3D?line=1'>2</a>\u001b[0m df_tagged_all\u001b[39m.\u001b[39mloc[zero_to_one, \u001b[39m'\u001b[39m\u001b[39mclass\u001b[39m\u001b[39m'\u001b[39m] \u001b[39m=\u001b[39m np\u001b[39m.\u001b[39mones_like(zero_to_one)\n\u001b[1;32m      <a href='vscode-notebook-cell:/home/hombre/Code/Climate%20Project/DataPrep/Rzepa/dataset_prep.ipynb#X11sZmlsZQ%3D%3D?line=2'>3</a>\u001b[0m df_tagged_all[\u001b[39m'\u001b[39m\u001b[39mtranslated\u001b[39m\u001b[39m'\u001b[39m] \u001b[39m=\u001b[39m np\u001b[39m.\u001b[39mzeros_like(df_tagged_all\u001b[39m.\u001b[39mindex)\n",
      "File \u001b[0;32m~/.local/lib/python3.11/site-packages/pandas/core/indexing.py:814\u001b[0m, in \u001b[0;36m_LocationIndexer.__setitem__\u001b[0;34m(self, key, value)\u001b[0m\n\u001b[1;32m    812\u001b[0m \u001b[39melse\u001b[39;00m:\n\u001b[1;32m    813\u001b[0m     key \u001b[39m=\u001b[39m com\u001b[39m.\u001b[39mapply_if_callable(key, \u001b[39mself\u001b[39m\u001b[39m.\u001b[39mobj)\n\u001b[0;32m--> 814\u001b[0m indexer \u001b[39m=\u001b[39m \u001b[39mself\u001b[39;49m\u001b[39m.\u001b[39;49m_get_setitem_indexer(key)\n\u001b[1;32m    815\u001b[0m \u001b[39mself\u001b[39m\u001b[39m.\u001b[39m_has_valid_setitem_indexer(key)\n\u001b[1;32m    817\u001b[0m iloc \u001b[39m=\u001b[39m \u001b[39mself\u001b[39m \u001b[39mif\u001b[39;00m \u001b[39mself\u001b[39m\u001b[39m.\u001b[39mname \u001b[39m==\u001b[39m \u001b[39m\"\u001b[39m\u001b[39miloc\u001b[39m\u001b[39m\"\u001b[39m \u001b[39melse\u001b[39;00m \u001b[39mself\u001b[39m\u001b[39m.\u001b[39mobj\u001b[39m.\u001b[39miloc\n",
      "File \u001b[0;32m~/.local/lib/python3.11/site-packages/pandas/core/indexing.py:697\u001b[0m, in \u001b[0;36m_LocationIndexer._get_setitem_indexer\u001b[0;34m(self, key)\u001b[0m\n\u001b[1;32m    694\u001b[0m \u001b[39mif\u001b[39;00m \u001b[39misinstance\u001b[39m(key, \u001b[39mtuple\u001b[39m):\n\u001b[1;32m    695\u001b[0m     \u001b[39mwith\u001b[39;00m suppress(IndexingError):\n\u001b[1;32m    696\u001b[0m         \u001b[39m# suppress \"Too many indexers\"\u001b[39;00m\n\u001b[0;32m--> 697\u001b[0m         \u001b[39mreturn\u001b[39;00m \u001b[39mself\u001b[39;49m\u001b[39m.\u001b[39;49m_convert_tuple(key)\n\u001b[1;32m    699\u001b[0m \u001b[39mif\u001b[39;00m \u001b[39misinstance\u001b[39m(key, \u001b[39mrange\u001b[39m):\n\u001b[1;32m    700\u001b[0m     \u001b[39m# GH#45479 test_loc_setitem_range_key\u001b[39;00m\n\u001b[1;32m    701\u001b[0m     key \u001b[39m=\u001b[39m \u001b[39mlist\u001b[39m(key)\n",
      "File \u001b[0;32m~/.local/lib/python3.11/site-packages/pandas/core/indexing.py:896\u001b[0m, in \u001b[0;36m_LocationIndexer._convert_tuple\u001b[0;34m(self, key)\u001b[0m\n\u001b[1;32m    892\u001b[0m \u001b[39m@final\u001b[39m\n\u001b[1;32m    893\u001b[0m \u001b[39mdef\u001b[39;00m \u001b[39m_convert_tuple\u001b[39m(\u001b[39mself\u001b[39m, key: \u001b[39mtuple\u001b[39m) \u001b[39m-\u001b[39m\u001b[39m>\u001b[39m \u001b[39mtuple\u001b[39m:\n\u001b[1;32m    894\u001b[0m     \u001b[39m# Note: we assume _tupleize_axis_indexer has been called, if necessary.\u001b[39;00m\n\u001b[1;32m    895\u001b[0m     \u001b[39mself\u001b[39m\u001b[39m.\u001b[39m_validate_key_length(key)\n\u001b[0;32m--> 896\u001b[0m     keyidx \u001b[39m=\u001b[39m [\u001b[39mself\u001b[39;49m\u001b[39m.\u001b[39;49m_convert_to_indexer(k, axis\u001b[39m=\u001b[39;49mi) \u001b[39mfor\u001b[39;49;00m i, k \u001b[39min\u001b[39;49;00m \u001b[39menumerate\u001b[39;49m(key)]\n\u001b[1;32m    897\u001b[0m     \u001b[39mreturn\u001b[39;00m \u001b[39mtuple\u001b[39m(keyidx)\n",
      "File \u001b[0;32m~/.local/lib/python3.11/site-packages/pandas/core/indexing.py:896\u001b[0m, in \u001b[0;36m<listcomp>\u001b[0;34m(.0)\u001b[0m\n\u001b[1;32m    892\u001b[0m \u001b[39m@final\u001b[39m\n\u001b[1;32m    893\u001b[0m \u001b[39mdef\u001b[39;00m \u001b[39m_convert_tuple\u001b[39m(\u001b[39mself\u001b[39m, key: \u001b[39mtuple\u001b[39m) \u001b[39m-\u001b[39m\u001b[39m>\u001b[39m \u001b[39mtuple\u001b[39m:\n\u001b[1;32m    894\u001b[0m     \u001b[39m# Note: we assume _tupleize_axis_indexer has been called, if necessary.\u001b[39;00m\n\u001b[1;32m    895\u001b[0m     \u001b[39mself\u001b[39m\u001b[39m.\u001b[39m_validate_key_length(key)\n\u001b[0;32m--> 896\u001b[0m     keyidx \u001b[39m=\u001b[39m [\u001b[39mself\u001b[39;49m\u001b[39m.\u001b[39;49m_convert_to_indexer(k, axis\u001b[39m=\u001b[39;49mi) \u001b[39mfor\u001b[39;00m i, k \u001b[39min\u001b[39;00m \u001b[39menumerate\u001b[39m(key)]\n\u001b[1;32m    897\u001b[0m     \u001b[39mreturn\u001b[39;00m \u001b[39mtuple\u001b[39m(keyidx)\n",
      "File \u001b[0;32m~/.local/lib/python3.11/site-packages/pandas/core/indexing.py:1396\u001b[0m, in \u001b[0;36m_LocIndexer._convert_to_indexer\u001b[0;34m(self, key, axis)\u001b[0m\n\u001b[1;32m   1394\u001b[0m         \u001b[39mreturn\u001b[39;00m key\n\u001b[1;32m   1395\u001b[0m     \u001b[39melse\u001b[39;00m:\n\u001b[0;32m-> 1396\u001b[0m         \u001b[39mreturn\u001b[39;00m \u001b[39mself\u001b[39;49m\u001b[39m.\u001b[39;49m_get_listlike_indexer(key, axis)[\u001b[39m1\u001b[39m]\n\u001b[1;32m   1397\u001b[0m \u001b[39melse\u001b[39;00m:\n\u001b[1;32m   1398\u001b[0m     \u001b[39mtry\u001b[39;00m:\n",
      "File \u001b[0;32m~/.local/lib/python3.11/site-packages/pandas/core/indexing.py:1432\u001b[0m, in \u001b[0;36m_LocIndexer._get_listlike_indexer\u001b[0;34m(self, key, axis)\u001b[0m\n\u001b[1;32m   1429\u001b[0m ax \u001b[39m=\u001b[39m \u001b[39mself\u001b[39m\u001b[39m.\u001b[39mobj\u001b[39m.\u001b[39m_get_axis(axis)\n\u001b[1;32m   1430\u001b[0m axis_name \u001b[39m=\u001b[39m \u001b[39mself\u001b[39m\u001b[39m.\u001b[39mobj\u001b[39m.\u001b[39m_get_axis_name(axis)\n\u001b[0;32m-> 1432\u001b[0m keyarr, indexer \u001b[39m=\u001b[39m ax\u001b[39m.\u001b[39;49m_get_indexer_strict(key, axis_name)\n\u001b[1;32m   1434\u001b[0m \u001b[39mreturn\u001b[39;00m keyarr, indexer\n",
      "File \u001b[0;32m~/.local/lib/python3.11/site-packages/pandas/core/indexes/base.py:6070\u001b[0m, in \u001b[0;36mIndex._get_indexer_strict\u001b[0;34m(self, key, axis_name)\u001b[0m\n\u001b[1;32m   6067\u001b[0m \u001b[39melse\u001b[39;00m:\n\u001b[1;32m   6068\u001b[0m     keyarr, indexer, new_indexer \u001b[39m=\u001b[39m \u001b[39mself\u001b[39m\u001b[39m.\u001b[39m_reindex_non_unique(keyarr)\n\u001b[0;32m-> 6070\u001b[0m \u001b[39mself\u001b[39;49m\u001b[39m.\u001b[39;49m_raise_if_missing(keyarr, indexer, axis_name)\n\u001b[1;32m   6072\u001b[0m keyarr \u001b[39m=\u001b[39m \u001b[39mself\u001b[39m\u001b[39m.\u001b[39mtake(indexer)\n\u001b[1;32m   6073\u001b[0m \u001b[39mif\u001b[39;00m \u001b[39misinstance\u001b[39m(key, Index):\n\u001b[1;32m   6074\u001b[0m     \u001b[39m# GH 42790 - Preserve name from an Index\u001b[39;00m\n",
      "File \u001b[0;32m~/.local/lib/python3.11/site-packages/pandas/core/indexes/base.py:6133\u001b[0m, in \u001b[0;36mIndex._raise_if_missing\u001b[0;34m(self, key, indexer, axis_name)\u001b[0m\n\u001b[1;32m   6130\u001b[0m     \u001b[39mraise\u001b[39;00m \u001b[39mKeyError\u001b[39;00m(\u001b[39mf\u001b[39m\u001b[39m\"\u001b[39m\u001b[39mNone of [\u001b[39m\u001b[39m{\u001b[39;00mkey\u001b[39m}\u001b[39;00m\u001b[39m] are in the [\u001b[39m\u001b[39m{\u001b[39;00maxis_name\u001b[39m}\u001b[39;00m\u001b[39m]\u001b[39m\u001b[39m\"\u001b[39m)\n\u001b[1;32m   6132\u001b[0m not_found \u001b[39m=\u001b[39m \u001b[39mlist\u001b[39m(ensure_index(key)[missing_mask\u001b[39m.\u001b[39mnonzero()[\u001b[39m0\u001b[39m]]\u001b[39m.\u001b[39munique())\n\u001b[0;32m-> 6133\u001b[0m \u001b[39mraise\u001b[39;00m \u001b[39mKeyError\u001b[39;00m(\u001b[39mf\u001b[39m\u001b[39m\"\u001b[39m\u001b[39m{\u001b[39;00mnot_found\u001b[39m}\u001b[39;00m\u001b[39m not in index\u001b[39m\u001b[39m\"\u001b[39m)\n",
      "\u001b[0;31mKeyError\u001b[0m: '[93350] not in index'"
     ]
    }
   ],
   "source": [
    "df_tagged_all.loc[one_to_zero, 'class'] = np.zeros_like(one_to_zero)\n",
    "df_tagged_all.loc[zero_to_one, 'class'] = np.ones_like(zero_to_one)\n",
    "df_tagged_all['translated'] = np.zeros_like(df_tagged_all.index)\n",
    "df_tagged_all.to_csv('dataset/dataset_6.csv')"
   ]
  },
  {
   "cell_type": "code",
   "execution_count": null,
   "metadata": {},
   "outputs": [],
   "source": [
    "data_translated = pd.concat([pd.read_csv(f'tagged/translated/translated_{i}.csv', index_col='id') for i in range(2)])\n",
    "translated_1_to_0 = data_translated[data_translated.index.isin(one_to_zero)].index.values\n",
    "translated_0_to_1 = data_translated[data_translated.index.isin(zero_to_one)].index.values"
   ]
  },
  {
   "cell_type": "code",
   "execution_count": null,
   "metadata": {},
   "outputs": [],
   "source": [
    "def author_extract(text):\n",
    "    extracted = re.search('((?<=\\\\t—).*)|(.*(?=@rp\\.pl))', text)\n",
    "    return extracted[0] if extracted is not None else extracted\n",
    "\n",
    "def restore_authors(df):\n",
    "    df['last'] = df['text'].apply(lambda x: x.split(' ')[-1])\n",
    "    df['extracted'] = df['last'].apply(author_extract)\n",
    "    df.loc[df['author']=='None', 'author'] = df[\"extracted\"]\n",
    "    df.drop(columns = ['last', 'extracted'], inplace = True)\n",
    "    return df"
   ]
  },
  {
   "cell_type": "code",
   "execution_count": null,
   "metadata": {},
   "outputs": [],
   "source": [
    "data_translated.loc[translated_1_to_0, 'class'] = np.zeros_like(translated_1_to_0) # these misclassified samples were present\n",
    "data_translated.loc[translated_0_to_1, 'class'] = np.ones_like(translated_0_to_1) # these misclassified samples were present\n",
    "data_translated = data_translated[~data_translated.index.duplicated(keep='first')]\n",
    "data_translated['translated'] = np.ones_like(data_translated.index)\n",
    "data_translated['class'] = data_translated['class'].astype(int)\n",
    "data_translated = restore_authors(data_translated)"
   ]
  },
  {
   "cell_type": "code",
   "execution_count": null,
   "metadata": {},
   "outputs": [],
   "source": [
    "data_translated.to_csv('dataset/dataset_6_translated.csv')"
   ]
  },
  {
   "cell_type": "code",
   "execution_count": null,
   "metadata": {},
   "outputs": [],
   "source": [
    "!rm 'rzepa_all.csv'"
   ]
  },
  {
   "cell_type": "code",
   "execution_count": null,
   "metadata": {},
   "outputs": [],
   "source": []
  }
 ],
 "metadata": {
  "kernelspec": {
   "display_name": "usr",
   "language": "python",
   "name": "python3"
  },
  "language_info": {
   "codemirror_mode": {
    "name": "ipython",
    "version": 3
   },
   "file_extension": ".py",
   "mimetype": "text/x-python",
   "name": "python",
   "nbconvert_exporter": "python",
   "pygments_lexer": "ipython3",
   "version": "3.11.4"
  },
  "orig_nbformat": 4,
  "vscode": {
   "interpreter": {
    "hash": "767d51c1340bd893661ea55ea3124f6de3c7a262a8b4abca0554b478b1e2ff90"
   }
  }
 },
 "nbformat": 4,
 "nbformat_minor": 2
}
