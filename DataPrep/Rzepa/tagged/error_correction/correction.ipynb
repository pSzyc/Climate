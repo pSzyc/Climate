{
 "cells": [
  {
   "cell_type": "code",
   "execution_count": 1,
   "metadata": {},
   "outputs": [],
   "source": [
    "import pandas as pd"
   ]
  },
  {
   "cell_type": "code",
   "execution_count": 2,
   "metadata": {},
   "outputs": [
    {
     "data": {
      "text/html": [
       "<div>\n",
       "<style scoped>\n",
       "    .dataframe tbody tr th:only-of-type {\n",
       "        vertical-align: middle;\n",
       "    }\n",
       "\n",
       "    .dataframe tbody tr th {\n",
       "        vertical-align: top;\n",
       "    }\n",
       "\n",
       "    .dataframe thead th {\n",
       "        text-align: right;\n",
       "    }\n",
       "</style>\n",
       "<table border=\"1\" class=\"dataframe\">\n",
       "  <thead>\n",
       "    <tr style=\"text-align: right;\">\n",
       "      <th></th>\n",
       "      <th>label</th>\n",
       "      <th>predict</th>\n",
       "      <th>prob</th>\n",
       "      <th>text</th>\n",
       "      <th>title</th>\n",
       "      <th>translated</th>\n",
       "      <th>vectorized</th>\n",
       "      <th>clean_text</th>\n",
       "      <th>words</th>\n",
       "      <th>len_words</th>\n",
       "      <th>actual</th>\n",
       "      <th>problem</th>\n",
       "    </tr>\n",
       "    <tr>\n",
       "      <th>id</th>\n",
       "      <th></th>\n",
       "      <th></th>\n",
       "      <th></th>\n",
       "      <th></th>\n",
       "      <th></th>\n",
       "      <th></th>\n",
       "      <th></th>\n",
       "      <th></th>\n",
       "      <th></th>\n",
       "      <th></th>\n",
       "      <th></th>\n",
       "      <th></th>\n",
       "    </tr>\n",
       "  </thead>\n",
       "  <tbody>\n",
       "    <tr>\n",
       "      <th>147521</th>\n",
       "      <td>1</td>\n",
       "      <td>0</td>\n",
       "      <td>0.073135</td>\n",
       "      <td>Konserwatyzm ma zakorzenienie w przeszłości, a...</td>\n",
       "      <td>Nadzieja i nostalgia</td>\n",
       "      <td>0</td>\n",
       "      <td>[0.0, 0.0, 0.0, 0.0, 0.0, 0.0, 0.0, 0.0, 0.0, ...</td>\n",
       "      <td>konserwatyzm zakorzenieć przeszłość otwarty wy...</td>\n",
       "      <td>[]</td>\n",
       "      <td>0</td>\n",
       "      <td>0</td>\n",
       "      <td>NaN</td>\n",
       "    </tr>\n",
       "    <tr>\n",
       "      <th>100383</th>\n",
       "      <td>1</td>\n",
       "      <td>0</td>\n",
       "      <td>0.073135</td>\n",
       "      <td>Klienci pośredników coraz częściej zwracają uw...</td>\n",
       "      <td>Reprywatyzacja w anonsach</td>\n",
       "      <td>0</td>\n",
       "      <td>[0.0, 0.0, 0.0, 0.0, 0.0, 0.0, 0.0, 0.0, 0.0, ...</td>\n",
       "      <td>klient pośrednik coraz często zwracać uwaga hi...</td>\n",
       "      <td>[]</td>\n",
       "      <td>0</td>\n",
       "      <td>0</td>\n",
       "      <td>NaN</td>\n",
       "    </tr>\n",
       "    <tr>\n",
       "      <th>88415</th>\n",
       "      <td>1</td>\n",
       "      <td>0</td>\n",
       "      <td>0.073135</td>\n",
       "      <td>Piotr Łopuszański stara się w swojej nowej ksi...</td>\n",
       "      <td>Warszawa od literackiej strony</td>\n",
       "      <td>0</td>\n",
       "      <td>[0.0, 0.0, 0.0, 0.0, 0.0, 0.0, 0.0, 0.0, 0.0, ...</td>\n",
       "      <td>Piotr łopuszański starać swój nowy książka odt...</td>\n",
       "      <td>[]</td>\n",
       "      <td>0</td>\n",
       "      <td>0</td>\n",
       "      <td>NaN</td>\n",
       "    </tr>\n",
       "    <tr>\n",
       "      <th>113014</th>\n",
       "      <td>1</td>\n",
       "      <td>0</td>\n",
       "      <td>0.073135</td>\n",
       "      <td>Paweł KowalDżentelmeni, jak się okazuje, nie p...</td>\n",
       "      <td>Maria Przełomiec i klub dżentelmenów</td>\n",
       "      <td>0</td>\n",
       "      <td>[0.0, 0.0, 0.0, 0.0, 0.0, 0.0, 0.0, 0.0, 0.0, ...</td>\n",
       "      <td>Paweł kowaldżentelmony okazować przebierać sło...</td>\n",
       "      <td>[]</td>\n",
       "      <td>0</td>\n",
       "      <td>0</td>\n",
       "      <td>NaN</td>\n",
       "    </tr>\n",
       "    <tr>\n",
       "      <th>198686</th>\n",
       "      <td>1</td>\n",
       "      <td>0</td>\n",
       "      <td>0.073135</td>\n",
       "      <td>Wyobraźmy sobie świat zamieszkany przez ludzi,...</td>\n",
       "      <td>Planszowa Nauka łączenia sił</td>\n",
       "      <td>0</td>\n",
       "      <td>[0.0, 0.0, 0.0, 0.0, 0.0, 0.0, 0.0, 0.0, 0.0, ...</td>\n",
       "      <td>wyobraźmy świat zamieszkać człowiek magiczny u...</td>\n",
       "      <td>[]</td>\n",
       "      <td>0</td>\n",
       "      <td>0</td>\n",
       "      <td>NaN</td>\n",
       "    </tr>\n",
       "  </tbody>\n",
       "</table>\n",
       "</div>"
      ],
      "text/plain": [
       "        label  predict      prob  \\\n",
       "id                                 \n",
       "147521      1        0  0.073135   \n",
       "100383      1        0  0.073135   \n",
       "88415       1        0  0.073135   \n",
       "113014      1        0  0.073135   \n",
       "198686      1        0  0.073135   \n",
       "\n",
       "                                                     text  \\\n",
       "id                                                          \n",
       "147521  Konserwatyzm ma zakorzenienie w przeszłości, a...   \n",
       "100383  Klienci pośredników coraz częściej zwracają uw...   \n",
       "88415   Piotr Łopuszański stara się w swojej nowej ksi...   \n",
       "113014  Paweł KowalDżentelmeni, jak się okazuje, nie p...   \n",
       "198686  Wyobraźmy sobie świat zamieszkany przez ludzi,...   \n",
       "\n",
       "                                       title  translated  \\\n",
       "id                                                         \n",
       "147521                  Nadzieja i nostalgia           0   \n",
       "100383             Reprywatyzacja w anonsach           0   \n",
       "88415         Warszawa od literackiej strony           0   \n",
       "113014  Maria Przełomiec i klub dżentelmenów           0   \n",
       "198686          Planszowa Nauka łączenia sił           0   \n",
       "\n",
       "                                               vectorized  \\\n",
       "id                                                          \n",
       "147521  [0.0, 0.0, 0.0, 0.0, 0.0, 0.0, 0.0, 0.0, 0.0, ...   \n",
       "100383  [0.0, 0.0, 0.0, 0.0, 0.0, 0.0, 0.0, 0.0, 0.0, ...   \n",
       "88415   [0.0, 0.0, 0.0, 0.0, 0.0, 0.0, 0.0, 0.0, 0.0, ...   \n",
       "113014  [0.0, 0.0, 0.0, 0.0, 0.0, 0.0, 0.0, 0.0, 0.0, ...   \n",
       "198686  [0.0, 0.0, 0.0, 0.0, 0.0, 0.0, 0.0, 0.0, 0.0, ...   \n",
       "\n",
       "                                               clean_text words  len_words  \\\n",
       "id                                                                           \n",
       "147521  konserwatyzm zakorzenieć przeszłość otwarty wy...    []          0   \n",
       "100383  klient pośrednik coraz często zwracać uwaga hi...    []          0   \n",
       "88415   Piotr łopuszański starać swój nowy książka odt...    []          0   \n",
       "113014  Paweł kowaldżentelmony okazować przebierać sło...    []          0   \n",
       "198686  wyobraźmy świat zamieszkać człowiek magiczny u...    []          0   \n",
       "\n",
       "        actual problem  \n",
       "id                      \n",
       "147521       0     NaN  \n",
       "100383       0     NaN  \n",
       "88415        0     NaN  \n",
       "113014       0     NaN  \n",
       "198686       0     NaN  "
      ]
     },
     "execution_count": 2,
     "metadata": {},
     "output_type": "execute_result"
    }
   ],
   "source": [
    "df = pd.concat([pd.read_csv(\"tagged/ones_miss.csv\", index_col='id'), pd.read_csv(\"tagged/zeros_miss.csv\", index_col='id')])\n",
    "df.head()"
   ]
  },
  {
   "cell_type": "code",
   "execution_count": 3,
   "metadata": {},
   "outputs": [
    {
     "data": {
      "text/plain": [
       "array([147521, 100383,  88415, 113014, 198686, 213536, 210098, 118933,\n",
       "       128253, 198685, 120812, 123203, 106132, 150356, 159867, 155776,\n",
       "       143483, 152903, 200337, 194524, 110438, 149109, 213246, 203029,\n",
       "       133157, 213907, 122621, 160077, 178269, 160965, 189486, 102565,\n",
       "       213842, 202292, 183495, 112524,  95627,  65447, 122011, 191277,\n",
       "       136626, 213476, 154219,  99147, 111853, 187641, 157392, 194987,\n",
       "       211263, 187037, 149484, 103954, 186329, 202952, 127724, 115554])"
      ]
     },
     "execution_count": 3,
     "metadata": {},
     "output_type": "execute_result"
    }
   ],
   "source": [
    "df[(df['label'] == 1 ) &  (df['actual'] == 0)].index.values"
   ]
  },
  {
   "cell_type": "code",
   "execution_count": 5,
   "metadata": {},
   "outputs": [
    {
     "data": {
      "text/plain": [
       "array([160022, 154959,  93485,  91486, 192071,  56463, 162557,   2906,\n",
       "        36234,  33565, 118761, 144102,  25867,  41358,  29827,   9445,\n",
       "        21000,  35271, 214061,  33137,  30376,  93350, 213771,  23863])"
      ]
     },
     "execution_count": 5,
     "metadata": {},
     "output_type": "execute_result"
    }
   ],
   "source": [
    "df[(df['label'] == 0 ) &  (df['actual'] == 1)].index.values"
   ]
  },
  {
   "cell_type": "code",
   "execution_count": null,
   "metadata": {},
   "outputs": [],
   "source": []
  }
 ],
 "metadata": {
  "kernelspec": {
   "display_name": "Python 3",
   "language": "python",
   "name": "python3"
  },
  "language_info": {
   "codemirror_mode": {
    "name": "ipython",
    "version": 3
   },
   "file_extension": ".py",
   "mimetype": "text/x-python",
   "name": "python",
   "nbconvert_exporter": "python",
   "pygments_lexer": "ipython3",
   "version": "3.11.4"
  },
  "orig_nbformat": 4
 },
 "nbformat": 4,
 "nbformat_minor": 2
}
