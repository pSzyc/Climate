{
 "cells": [
  {
   "cell_type": "code",
   "execution_count": 2,
   "metadata": {},
   "outputs": [],
   "source": [
    "import pandas as pd\n",
    "from data_pipeline import data_pipeline, restore_authors, dot_problem_solver\n",
    "from math import ceil\n",
    "from pathlib import Path"
   ]
  },
  {
   "cell_type": "code",
   "execution_count": 3,
   "metadata": {},
   "outputs": [],
   "source": [
    "file_rzepa = 'Rzeczpospolita 2015-2022.xlsx'\n",
    "data = pd.read_excel(file_rzepa)\n",
    "drive_korpusy = Path(\"/run/user/1000/gvfs/google-drive:host=gmail.com,user=przemek.7678/Shared drives/SKN AI FUW /Projekt z Dagmarą Mateją/Korpusy/Rzeczpospolita 2015-2022\")"
   ]
  },
  {
   "cell_type": "code",
   "execution_count": 8,
   "metadata": {},
   "outputs": [],
   "source": [
    "cols = ['title', 'text', 'image_text']"
   ]
  },
  {
   "cell_type": "code",
   "execution_count": 9,
   "metadata": {},
   "outputs": [
    {
     "name": "stderr",
     "output_type": "stream",
     "text": [
      "/home/ps/Code/Climate/DataPrep/Rzepa/data_pipeline.py:39: SettingWithCopyWarning: \n",
      "A value is trying to be set on a copy of a slice from a DataFrame.\n",
      "Try using .loc[row_indexer,col_indexer] = value instead\n",
      "\n",
      "See the caveats in the documentation: https://pandas.pydata.org/pandas-docs/stable/user_guide/indexing.html#returning-a-view-versus-a-copy\n",
      "  data[col] = data[col].fillna('None')\n",
      "/home/ps/Code/Climate/DataPrep/Rzepa/data_pipeline.py:43: SettingWithCopyWarning: \n",
      "A value is trying to be set on a copy of a slice from a DataFrame.\n",
      "Try using .loc[row_indexer,col_indexer] = value instead\n",
      "\n",
      "See the caveats in the documentation: https://pandas.pydata.org/pandas-docs/stable/user_guide/indexing.html#returning-a-view-versus-a-copy\n",
      "  data['text'] = data['text'].apply(lambda x: re.split('(?i)©℗\\s*Więcej\\s*na', x)[0])\n",
      "/home/ps/Code/Climate/DataPrep/Rzepa/data_pipeline.py:45: SettingWithCopyWarning: \n",
      "A value is trying to be set on a copy of a slice from a DataFrame.\n",
      "Try using .loc[row_indexer,col_indexer] = value instead\n",
      "\n",
      "See the caveats in the documentation: https://pandas.pydata.org/pandas-docs/stable/user_guide/indexing.html#returning-a-view-versus-a-copy\n",
      "  data[col] = data[col].apply(lambda x: REPLACE_EXCESS_SPACES_RE.sub(' ', x))\n",
      "/home/ps/Code/Climate/DataPrep/Rzepa/data_pipeline.py:46: SettingWithCopyWarning: \n",
      "A value is trying to be set on a copy of a slice from a DataFrame.\n",
      "Try using .loc[row_indexer,col_indexer] = value instead\n",
      "\n",
      "See the caveats in the documentation: https://pandas.pydata.org/pandas-docs/stable/user_guide/indexing.html#returning-a-view-versus-a-copy\n",
      "  data[col] = data[col].apply(lambda x: CLEAN_XLSX_1.sub('', x))\n",
      "/home/ps/Code/Climate/DataPrep/Rzepa/data_pipeline.py:47: SettingWithCopyWarning: \n",
      "A value is trying to be set on a copy of a slice from a DataFrame.\n",
      "Try using .loc[row_indexer,col_indexer] = value instead\n",
      "\n",
      "See the caveats in the documentation: https://pandas.pydata.org/pandas-docs/stable/user_guide/indexing.html#returning-a-view-versus-a-copy\n",
      "  data[col] = data[col].apply(lambda x: x.replace(\"\\xad\", \"\"))\n",
      "/home/ps/Code/Climate/DataPrep/Rzepa/data_pipeline.py:48: SettingWithCopyWarning: \n",
      "A value is trying to be set on a copy of a slice from a DataFrame.\n",
      "Try using .loc[row_indexer,col_indexer] = value instead\n",
      "\n",
      "See the caveats in the documentation: https://pandas.pydata.org/pandas-docs/stable/user_guide/indexing.html#returning-a-view-versus-a-copy\n",
      "  data[col] = data[col].apply(lambda x: x.replace(\"\\xa0\", \" \"))\n",
      "/home/ps/Code/Climate/DataPrep/Rzepa/data_pipeline.py:49: SettingWithCopyWarning: \n",
      "A value is trying to be set on a copy of a slice from a DataFrame.\n",
      "Try using .loc[row_indexer,col_indexer] = value instead\n",
      "\n",
      "See the caveats in the documentation: https://pandas.pydata.org/pandas-docs/stable/user_guide/indexing.html#returning-a-view-versus-a-copy\n",
      "  data[col] = data[col].apply(lambda x: x.replace(\"_x0007_\", \" \"))\n",
      "/home/ps/Code/Climate/DataPrep/Rzepa/data_pipeline.py:52: SettingWithCopyWarning: \n",
      "A value is trying to be set on a copy of a slice from a DataFrame.\n",
      "Try using .loc[row_indexer,col_indexer] = value instead\n",
      "\n",
      "See the caveats in the documentation: https://pandas.pydata.org/pandas-docs/stable/user_guide/indexing.html#returning-a-view-versus-a-copy\n",
      "  data['department'] = data['department'].str.strip()\n",
      "/home/ps/Code/Climate/DataPrep/Rzepa/data_pipeline.py:53: SettingWithCopyWarning: \n",
      "A value is trying to be set on a copy of a slice from a DataFrame.\n",
      "Try using .loc[row_indexer,col_indexer] = value instead\n",
      "\n",
      "See the caveats in the documentation: https://pandas.pydata.org/pandas-docs/stable/user_guide/indexing.html#returning-a-view-versus-a-copy\n",
      "  data['author'] = data['author'].str.strip()\n"
     ]
    }
   ],
   "source": [
    "data = data_pipeline(data, cols)\n",
    "data = restore_authors(data)\n",
    "data['text'] = data['text'].apply(dot_problem_solver)"
   ]
  },
  {
   "cell_type": "code",
   "execution_count": 10,
   "metadata": {},
   "outputs": [],
   "source": [
    "data.to_csv(\"rzepa_all.csv\", index=False)"
   ]
  },
  {
   "cell_type": "markdown",
   "metadata": {},
   "source": [
    "# chunks"
   ]
  },
  {
   "cell_type": "code",
   "execution_count": null,
   "metadata": {},
   "outputs": [],
   "source": [
    "!mkdir chunks"
   ]
  },
  {
   "cell_type": "code",
   "execution_count": null,
   "metadata": {},
   "outputs": [],
   "source": [
    "def chunkit(df, chunk_size= 10000):\n",
    "    num_chunks = ceil(len(df) / chunk_size)\n",
    "    for i in range(num_chunks):\n",
    "        yield df[i*chunk_size:(i + 1) * chunk_size]\n",
    "\n",
    "for i, chunk in enumerate(chunkit(data)): chunk.to_csv(f\"chunks/rzepa_{i}.csv\", index=False)"
   ]
  },
  {
   "cell_type": "code",
   "execution_count": null,
   "metadata": {},
   "outputs": [],
   "source": [
    "!rm -r chunks"
   ]
  }
 ],
 "metadata": {
  "kernelspec": {
   "display_name": "tf",
   "language": "python",
   "name": "python3"
  },
  "language_info": {
   "codemirror_mode": {
    "name": "ipython",
    "version": 3
   },
   "file_extension": ".py",
   "mimetype": "text/x-python",
   "name": "python",
   "nbconvert_exporter": "python",
   "pygments_lexer": "ipython3",
   "version": "3.11.6"
  },
  "orig_nbformat": 4,
  "vscode": {
   "interpreter": {
    "hash": "3a2be30295172717884411af564ad630433b1e83c9c4d3e12b02d716b3136821"
   }
  }
 },
 "nbformat": 4,
 "nbformat_minor": 2
}
