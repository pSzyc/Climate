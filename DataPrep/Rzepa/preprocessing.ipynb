{
 "cells": [
  {
   "cell_type": "code",
   "execution_count": 1,
   "metadata": {},
   "outputs": [],
   "source": [
    "import pandas as pd\n",
    "import regex as re"
   ]
  },
  {
   "cell_type": "code",
   "execution_count": 2,
   "metadata": {},
   "outputs": [],
   "source": [
    "file_rzepa = 'Rzeczpospolita 2015-2022.xlsx'\n",
    "file_gpc = 'excels/Gazeta Polska Codziennie 2015-2022.xlsx'\n",
    "file_newsweek = 'excels/Newsweek.xlsx'\n",
    "file_wprost = \"excels/wprost-2015.xlsx\"\n",
    "cols_rzepa = ['title', 'text', 'source', 'author','link','department','imgage','image_text']\n",
    "cols_gpc = ['title', 'text', 'source', 'author','link','department','imgage']\n",
    "cols_newsweek = ['title', 'text']"
   ]
  },
  {
   "cell_type": "code",
   "execution_count": 3,
   "metadata": {},
   "outputs": [],
   "source": [
    "data = pd.read_excel(file_rzepa)"
   ]
  },
  {
   "cell_type": "code",
   "execution_count": 4,
   "metadata": {},
   "outputs": [
    {
     "data": {
      "text/plain": [
       "source\n",
       "Rzeczpospolita    216163\n",
       "Name: count, dtype: int64"
      ]
     },
     "execution_count": 4,
     "metadata": {},
     "output_type": "execute_result"
    }
   ],
   "source": [
    "data['source'].value_counts()"
   ]
  },
  {
   "cell_type": "code",
   "execution_count": 5,
   "metadata": {},
   "outputs": [],
   "source": [
    "# Newsweek\n",
    "#data.rename(columns={'title_main': 'title', 'author 1': 'author', \"Wydanie\": \"department\"}, inplace=True)"
   ]
  },
  {
   "cell_type": "code",
   "execution_count": 6,
   "metadata": {},
   "outputs": [],
   "source": [
    "def data_pipeline(data, cols):\n",
    "    data = data[data['text'].notna()]\n",
    "    data.loc[~data['title'].apply(lambda x: isinstance(x, str)), 'title'] = \"None\"  # newsweek\n",
    "\n",
    "    for col in cols:\n",
    "        data[col] = data[col].fillna('None')\n",
    "\n",
    "    CLEAN_XLSX_1 = re.compile('[(∑)]')\n",
    "    REPLACE_EXCESS_SPACES_RE = re.compile('\\s\\s+')\n",
    "    data['text'] = data['text'].apply(lambda x: re.split('(?i)©℗\\s*Więcej\\s*na', x)[0])\n",
    "    for col in cols:\n",
    "        data[col] = data[col].apply(lambda x: REPLACE_EXCESS_SPACES_RE.sub(' ', x))\n",
    "        data[col] = data[col].apply(lambda x: CLEAN_XLSX_1.sub('', x))\n",
    "        data[col] = data[col].apply(lambda x: x.replace(\"\\xad\", \"\"))\n",
    "        data[col] = data[col].apply(lambda x: x.replace(\"\\xa0\", \" \"))\n",
    "        data[col] = data[col].apply(lambda x: x.replace(\"_x0007_\", \" \"))\n",
    "\n",
    "\n",
    "    data['department'] = data['department'].str.strip()\n",
    "    data['author'] = data['author'].str.strip()\n",
    "    return data"
   ]
  },
  {
   "cell_type": "code",
   "execution_count": 7,
   "metadata": {},
   "outputs": [],
   "source": [
    "def author_extract(text):\n",
    "    extracted = re.search('((?<=\\\\t—).*)|(.*(?=@rp\\.pl))', text)\n",
    "    return extracted[0] if extracted is not None else extracted\n",
    "\n",
    "\n",
    "def restore_authors(df):\n",
    "    df['last'] = df['text'].apply(lambda x: x.split(' ')[-1])\n",
    "    df['extracted'] = df['last'].apply(author_extract)\n",
    "    df.loc[df['author']=='None', 'author'] = df[\"extracted\"]\n",
    "    df.drop(columns = ['last', 'extracted'], inplace = True)\n",
    "    return df\n",
    "\n",
    "def dot_problem_solver(text):\n",
    "    THREE_DOT_RE = re.compile('(?<=[^\\s])\\.\\.\\.(?=[^\\s])')\n",
    "    text = THREE_DOT_RE.sub('... ', text)\n",
    "    DOT_RE = re.compile('(?<=[^\\s\\.])\\.(?=[^\\s\\.])')\n",
    "    text = DOT_RE.sub('. ', text)\n",
    "    QUEST_RE = re.compile('(?<=[^\\s])\\?(?=[^\\s])')\n",
    "    text = QUEST_RE.sub('? ', text)\n",
    "    return text"
   ]
  },
  {
   "cell_type": "code",
   "execution_count": 8,
   "metadata": {},
   "outputs": [],
   "source": [
    "def splitter(text):\n",
    "    re_expr = \"([A-Z]*[a-z]+)([A-Z][a-z]*)\"\n",
    "    matches = re.findall(re_expr, text)\n",
    "    if matches != None:\n",
    "        for match in matches:\n",
    "            text_found = \"\".join(match)\n",
    "            to_replace = match[0] + \" \" + match[1]\n",
    "            text = text.replace(text_found, to_replace)\n",
    "    return text\n"
   ]
  },
  {
   "cell_type": "code",
   "execution_count": 9,
   "metadata": {},
   "outputs": [
    {
     "name": "stderr",
     "output_type": "stream",
     "text": [
      "/tmp/ipykernel_3248/2377280704.py:6: SettingWithCopyWarning: \n",
      "A value is trying to be set on a copy of a slice from a DataFrame.\n",
      "Try using .loc[row_indexer,col_indexer] = value instead\n",
      "\n",
      "See the caveats in the documentation: https://pandas.pydata.org/pandas-docs/stable/user_guide/indexing.html#returning-a-view-versus-a-copy\n",
      "  data[col] = data[col].fillna('None')\n",
      "/tmp/ipykernel_3248/2377280704.py:10: SettingWithCopyWarning: \n",
      "A value is trying to be set on a copy of a slice from a DataFrame.\n",
      "Try using .loc[row_indexer,col_indexer] = value instead\n",
      "\n",
      "See the caveats in the documentation: https://pandas.pydata.org/pandas-docs/stable/user_guide/indexing.html#returning-a-view-versus-a-copy\n",
      "  data['text'] = data['text'].apply(lambda x: re.split('(?i)©℗\\s*Więcej\\s*na', x)[0])\n",
      "/tmp/ipykernel_3248/2377280704.py:12: SettingWithCopyWarning: \n",
      "A value is trying to be set on a copy of a slice from a DataFrame.\n",
      "Try using .loc[row_indexer,col_indexer] = value instead\n",
      "\n",
      "See the caveats in the documentation: https://pandas.pydata.org/pandas-docs/stable/user_guide/indexing.html#returning-a-view-versus-a-copy\n",
      "  data[col] = data[col].apply(lambda x: REPLACE_EXCESS_SPACES_RE.sub(' ', x))\n",
      "/tmp/ipykernel_3248/2377280704.py:13: SettingWithCopyWarning: \n",
      "A value is trying to be set on a copy of a slice from a DataFrame.\n",
      "Try using .loc[row_indexer,col_indexer] = value instead\n",
      "\n",
      "See the caveats in the documentation: https://pandas.pydata.org/pandas-docs/stable/user_guide/indexing.html#returning-a-view-versus-a-copy\n",
      "  data[col] = data[col].apply(lambda x: CLEAN_XLSX_1.sub('', x))\n",
      "/tmp/ipykernel_3248/2377280704.py:14: SettingWithCopyWarning: \n",
      "A value is trying to be set on a copy of a slice from a DataFrame.\n",
      "Try using .loc[row_indexer,col_indexer] = value instead\n",
      "\n",
      "See the caveats in the documentation: https://pandas.pydata.org/pandas-docs/stable/user_guide/indexing.html#returning-a-view-versus-a-copy\n",
      "  data[col] = data[col].apply(lambda x: x.replace(\"\\xad\", \"\"))\n",
      "/tmp/ipykernel_3248/2377280704.py:15: SettingWithCopyWarning: \n",
      "A value is trying to be set on a copy of a slice from a DataFrame.\n",
      "Try using .loc[row_indexer,col_indexer] = value instead\n",
      "\n",
      "See the caveats in the documentation: https://pandas.pydata.org/pandas-docs/stable/user_guide/indexing.html#returning-a-view-versus-a-copy\n",
      "  data[col] = data[col].apply(lambda x: x.replace(\"\\xa0\", \" \"))\n",
      "/tmp/ipykernel_3248/2377280704.py:16: SettingWithCopyWarning: \n",
      "A value is trying to be set on a copy of a slice from a DataFrame.\n",
      "Try using .loc[row_indexer,col_indexer] = value instead\n",
      "\n",
      "See the caveats in the documentation: https://pandas.pydata.org/pandas-docs/stable/user_guide/indexing.html#returning-a-view-versus-a-copy\n",
      "  data[col] = data[col].apply(lambda x: x.replace(\"_x0007_\", \" \"))\n",
      "/tmp/ipykernel_3248/2377280704.py:12: SettingWithCopyWarning: \n",
      "A value is trying to be set on a copy of a slice from a DataFrame.\n",
      "Try using .loc[row_indexer,col_indexer] = value instead\n",
      "\n",
      "See the caveats in the documentation: https://pandas.pydata.org/pandas-docs/stable/user_guide/indexing.html#returning-a-view-versus-a-copy\n",
      "  data[col] = data[col].apply(lambda x: REPLACE_EXCESS_SPACES_RE.sub(' ', x))\n",
      "/tmp/ipykernel_3248/2377280704.py:13: SettingWithCopyWarning: \n",
      "A value is trying to be set on a copy of a slice from a DataFrame.\n",
      "Try using .loc[row_indexer,col_indexer] = value instead\n",
      "\n",
      "See the caveats in the documentation: https://pandas.pydata.org/pandas-docs/stable/user_guide/indexing.html#returning-a-view-versus-a-copy\n",
      "  data[col] = data[col].apply(lambda x: CLEAN_XLSX_1.sub('', x))\n",
      "/tmp/ipykernel_3248/2377280704.py:14: SettingWithCopyWarning: \n",
      "A value is trying to be set on a copy of a slice from a DataFrame.\n",
      "Try using .loc[row_indexer,col_indexer] = value instead\n",
      "\n",
      "See the caveats in the documentation: https://pandas.pydata.org/pandas-docs/stable/user_guide/indexing.html#returning-a-view-versus-a-copy\n",
      "  data[col] = data[col].apply(lambda x: x.replace(\"\\xad\", \"\"))\n",
      "/tmp/ipykernel_3248/2377280704.py:15: SettingWithCopyWarning: \n",
      "A value is trying to be set on a copy of a slice from a DataFrame.\n",
      "Try using .loc[row_indexer,col_indexer] = value instead\n",
      "\n",
      "See the caveats in the documentation: https://pandas.pydata.org/pandas-docs/stable/user_guide/indexing.html#returning-a-view-versus-a-copy\n",
      "  data[col] = data[col].apply(lambda x: x.replace(\"\\xa0\", \" \"))\n",
      "/tmp/ipykernel_3248/2377280704.py:16: SettingWithCopyWarning: \n",
      "A value is trying to be set on a copy of a slice from a DataFrame.\n",
      "Try using .loc[row_indexer,col_indexer] = value instead\n",
      "\n",
      "See the caveats in the documentation: https://pandas.pydata.org/pandas-docs/stable/user_guide/indexing.html#returning-a-view-versus-a-copy\n",
      "  data[col] = data[col].apply(lambda x: x.replace(\"_x0007_\", \" \"))\n",
      "/tmp/ipykernel_3248/2377280704.py:19: SettingWithCopyWarning: \n",
      "A value is trying to be set on a copy of a slice from a DataFrame.\n",
      "Try using .loc[row_indexer,col_indexer] = value instead\n",
      "\n",
      "See the caveats in the documentation: https://pandas.pydata.org/pandas-docs/stable/user_guide/indexing.html#returning-a-view-versus-a-copy\n",
      "  data['department'] = data['department'].str.strip()\n",
      "/tmp/ipykernel_3248/2377280704.py:20: SettingWithCopyWarning: \n",
      "A value is trying to be set on a copy of a slice from a DataFrame.\n",
      "Try using .loc[row_indexer,col_indexer] = value instead\n",
      "\n",
      "See the caveats in the documentation: https://pandas.pydata.org/pandas-docs/stable/user_guide/indexing.html#returning-a-view-versus-a-copy\n",
      "  data['author'] = data['author'].str.strip()\n"
     ]
    }
   ],
   "source": [
    "data = data_pipeline(data, cols_newsweek)"
   ]
  },
  {
   "cell_type": "code",
   "execution_count": 10,
   "metadata": {},
   "outputs": [],
   "source": [
    "#data_all = restore_authors(data_all) # Rzepa\n",
    "data['text'] = data['text'].apply(dot_problem_solver)\n"
   ]
  },
  {
   "cell_type": "code",
   "execution_count": 15,
   "metadata": {},
   "outputs": [],
   "source": [
    "!mkdir chunks"
   ]
  },
  {
   "cell_type": "code",
   "execution_count": 17,
   "metadata": {},
   "outputs": [
    {
     "data": {
      "text/plain": [
       "['xd xd haha nie ma jej tu']"
      ]
     },
     "execution_count": 17,
     "metadata": {},
     "output_type": "execute_result"
    }
   ],
   "source": [
    "re.split(\"twoja stara\", \"xd xd haha nie ma jej tu\")"
   ]
  },
  {
   "cell_type": "code",
   "execution_count": 16,
   "metadata": {},
   "outputs": [],
   "source": [
    "from math import ceil\n",
    "\n",
    "def chunkit(df, chunk_size= 10000):\n",
    "    num_chunks = ceil(len(df) / chunk_size)\n",
    "    for i in range(num_chunks):\n",
    "        yield df[i*chunk_size:(i + 1) * chunk_size]\n",
    "\n",
    "for i, chunk in enumerate(chunkit(data)): chunk.to_csv(f\"chunks/rzepa_{i}.csv\", index=False)"
   ]
  },
  {
   "cell_type": "code",
   "execution_count": 18,
   "metadata": {},
   "outputs": [],
   "source": [
    "!rm -r chunks"
   ]
  },
  {
   "cell_type": "code",
   "execution_count": 19,
   "metadata": {},
   "outputs": [],
   "source": [
    "data.to_csv(\"rzepa_all.csv\", index=False)"
   ]
  },
  {
   "cell_type": "code",
   "execution_count": null,
   "metadata": {},
   "outputs": [],
   "source": []
  }
 ],
 "metadata": {
  "kernelspec": {
   "display_name": "tf",
   "language": "python",
   "name": "python3"
  },
  "language_info": {
   "codemirror_mode": {
    "name": "ipython",
    "version": 3
   },
   "file_extension": ".py",
   "mimetype": "text/x-python",
   "name": "python",
   "nbconvert_exporter": "python",
   "pygments_lexer": "ipython3",
   "version": "3.11.4"
  },
  "orig_nbformat": 4,
  "vscode": {
   "interpreter": {
    "hash": "3a2be30295172717884411af564ad630433b1e83c9c4d3e12b02d716b3136821"
   }
  }
 },
 "nbformat": 4,
 "nbformat_minor": 2
}
