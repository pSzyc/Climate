{
 "cells": [
  {
   "cell_type": "code",
   "execution_count": 50,
   "metadata": {},
   "outputs": [],
   "source": [
    "import pandas as pd\n",
    "import regex as re"
   ]
  },
  {
   "cell_type": "code",
   "execution_count": 51,
   "metadata": {},
   "outputs": [],
   "source": [
    "df = pd.read_excel(\"Newsweek.xlsx\", index_col='id')"
   ]
  },
  {
   "cell_type": "code",
   "execution_count": 52,
   "metadata": {},
   "outputs": [
    {
     "name": "stdout",
     "output_type": "stream",
     "text": [
      "title_main     0.000132\n",
      "title_sub      0.933152\n",
      "magazine_nr    0.000331\n",
      "Wydanie        0.000331\n",
      "pod_wydanie    0.000331\n",
      "text           0.003045\n",
      "link           0.000662\n",
      "source         0.000794\n",
      "author 1       0.000794\n",
      "author 2       0.000794\n",
      "image          0.000860\n",
      "image_desp     0.001456\n",
      "tag_1          0.006883\n",
      "tag_2          0.039579\n",
      "tag_3          0.094381\n",
      "tag_4          0.279568\n",
      "tag_5          0.455292\n",
      "tag_6          0.665299\n",
      "tag_7          0.780991\n",
      "tag_8          0.850685\n",
      "tag_9          0.897280\n",
      "tag_10         0.929181\n",
      "date           0.000927\n",
      "dtype: float64\n"
     ]
    }
   ],
   "source": [
    "print(df.isna().sum() / len(df))"
   ]
  },
  {
   "cell_type": "code",
   "execution_count": 53,
   "metadata": {},
   "outputs": [
    {
     "data": {
      "text/plain": [
       "15052"
      ]
     },
     "execution_count": 53,
     "metadata": {},
     "output_type": "execute_result"
    }
   ],
   "source": [
    "df = df[~df['text'].isna()]\n",
    "df = df[df['source'] == 'Newsweek']\n",
    "len(df)"
   ]
  },
  {
   "cell_type": "code",
   "execution_count": 54,
   "metadata": {},
   "outputs": [],
   "source": [
    "df['magazine_nr'] = df['magazine_nr'].apply(lambda x: x.replace('_x000D_', '').strip())"
   ]
  },
  {
   "cell_type": "code",
   "execution_count": 55,
   "metadata": {},
   "outputs": [],
   "source": [
    "df['magazine_nr'] = df['magazine_nr'].apply(lambda x: re.search(\"\\d+/\\d+\", x).group(0) if re.search(\"\\d+/\\d+\", x) is not None else None)"
   ]
  },
  {
   "cell_type": "code",
   "execution_count": 56,
   "metadata": {},
   "outputs": [
    {
     "data": {
      "text/plain": [
       "date\n",
       "43346         62\n",
       "43409         59\n",
       "43437         57\n",
       "43681         57\n",
       "43500         56\n",
       "              ..\n",
       "44147          5\n",
       "44349          1\n",
       "44391          1\n",
       "13.04.2022     1\n",
       "43745          1\n",
       "Name: count, Length: 450, dtype: int64"
      ]
     },
     "execution_count": 56,
     "metadata": {},
     "output_type": "execute_result"
    }
   ],
   "source": [
    "df['date'].value_counts()"
   ]
  },
  {
   "cell_type": "code",
   "execution_count": 57,
   "metadata": {},
   "outputs": [
    {
     "data": {
      "text/plain": [
       "'Darmowe leki dla mieszkańców Akwizgranu, pielgrzymka muzułmanów do Mekki, unieważnienie wyborów prezydenckich w Kenii, wyrok śmierci dla dziennikarzy w Korei. Czym\\xa0żyliśmy w\\xa0ostatnich dniach?Mieszkańcy zachodnioniemieckiego Akwizgranu otrzymują darmowe tabletki z jodem. Chroni on tarczycę przed promieniowaniem. Wszystko przez elektrownię jądrową w odległym o 70 kilometrów belgijskim Tihange. Eksperci obawiają się, że w uruchomionej w latach 70. elektrowni może dojść do poważnej awarii – zanotowano w niej bowiem niewielkie pęknięcia pokryw ochronnych. Reaktory elektrowni mają zostać wyłączone do 2025 roku.            Nawet dwa miliony osób bierze udział w corocznej pielgrzymce do Mekki. Strzeże ich ok. 100 tysięcy funkcjonariuszy sił bezpieczeństwa, a 30 tys. wolontariuszy sanitarnych świadczy im pierwszą pomoc – w tym roku upały przekraczają 40 stopni. Uroczystości trwają sześć dni, a ich centralnym punktem jest symboliczne uśmiercanie diabła – gdy pielgrzymi ciskają w skały drobnymi kamieniami. Każdy muzułmanin powinien odbyć hadż przynajmniej raz w życiu.            Po raz pierwszy w historii Afryki wyborczy spór udało się rozwiązać w sali sądowej, a nie przemocą. Kenijski sąd najwyższy unieważnił wynik wyborów prezydenckich, w których wcześniej zwycięstwo ogłosił dotychczasowy prezydent Uhuru Kenyatta. Sędziowie stosunkiem głosów 4 do 2 przychylili się do skargi 72-letniego polityka opozycji Raila Odingi, który twierdził, że hakerzy włamali się do centralnej komisji wyborczej i sfałszowali wyniki.            Dwóch dziennikarzy z Korei Południowej zostało zaocznie skazanych na śmierć przez sąd w rządzonej przez Kim Dzong Una Korei Północnej. Zawinili tym, że przeprowadzili wywiad z autorami książki o korupcji komunistycznych władz. Zdaniem sądu w Pjongjangu to „znieważenie godności państwa”. Skazani dziennikarze otrzymali ochronę od władz Korei Południowej. '"
      ]
     },
     "execution_count": 57,
     "metadata": {},
     "output_type": "execute_result"
    }
   ],
   "source": [
    "df.sample(1).iloc[0].text"
   ]
  },
  {
   "cell_type": "code",
   "execution_count": 58,
   "metadata": {},
   "outputs": [],
   "source": [
    "df.to_csv(\"nesweek.csv\")"
   ]
  }
 ],
 "metadata": {
  "kernelspec": {
   "display_name": "Python 3",
   "language": "python",
   "name": "python3"
  },
  "language_info": {
   "codemirror_mode": {
    "name": "ipython",
    "version": 3
   },
   "file_extension": ".py",
   "mimetype": "text/x-python",
   "name": "python",
   "nbconvert_exporter": "python",
   "pygments_lexer": "ipython3",
   "version": "3.11.4"
  },
  "orig_nbformat": 4
 },
 "nbformat": 4,
 "nbformat_minor": 2
}
