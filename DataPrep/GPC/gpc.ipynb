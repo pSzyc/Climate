{
 "cells": [
  {
   "cell_type": "code",
   "execution_count": 1,
   "metadata": {},
   "outputs": [],
   "source": [
    "import pandas as pd\n"
   ]
  },
  {
   "cell_type": "code",
   "execution_count": 2,
   "metadata": {},
   "outputs": [],
   "source": [
    "df = pd.read_excel(\"Gazeta Polska Codziennie 2015-2022.xlsx\")"
   ]
  },
  {
   "cell_type": "code",
   "execution_count": 7,
   "metadata": {},
   "outputs": [],
   "source": [
    "df['text'] = df['text'].str.replace('\\n', ' ').str.strip()"
   ]
  },
  {
   "cell_type": "code",
   "execution_count": 8,
   "metadata": {},
   "outputs": [
    {
     "data": {
      "text/plain": [
       "0         Okres Bożego Narodzenia i poprzedzające go dni...\n",
       "1         Zapowiedzi likwidacji TVP Info; pozywanie wszy...\n",
       "2         Frank Sinatra śpiewał kiedyś przebój „It was a...\n",
       "3         Odchodzisz, roku straszny, pełen krwi i grobów...\n",
       "4         Skazany za pedofilię Krzysztof F. był pełnomoc...\n",
       "                                ...                        \n",
       "125773    Rok Nowy już od wczoraj nastał  w świecie cały...\n",
       "125774    To możne być rok przełomu. To powinien być rok...\n",
       "125775    Mogło się zdarzyć, że wyborcy nieświadomie pop...\n",
       "125776    Zakończony 2014 r. upłynął pod znakiem obchodó...\n",
       "125777    Miniony rok był cezurą między dwiema epokami –...\n",
       "Name: text, Length: 125778, dtype: object"
      ]
     },
     "execution_count": 8,
     "metadata": {},
     "output_type": "execute_result"
    }
   ],
   "source": [
    "df.to_csv(\"gpc.csv\")"
   ]
  }
 ],
 "metadata": {
  "kernelspec": {
   "display_name": "Python 3",
   "language": "python",
   "name": "python3"
  },
  "language_info": {
   "codemirror_mode": {
    "name": "ipython",
    "version": 3
   },
   "file_extension": ".py",
   "mimetype": "text/x-python",
   "name": "python",
   "nbconvert_exporter": "python",
   "pygments_lexer": "ipython3",
   "version": "3.11.6"
  }
 },
 "nbformat": 4,
 "nbformat_minor": 2
}
