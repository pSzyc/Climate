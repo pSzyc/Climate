{
 "cells": [
  {
   "cell_type": "code",
   "execution_count": 37,
   "metadata": {},
   "outputs": [],
   "source": [
    "import pandas as pd\n",
    "import numpy as np\n",
    "import seaborn as sns\n",
    "import matplotlib.pyplot as plt\n",
    "import csv\n",
    "import regex as re"
   ]
  },
  {
   "cell_type": "code",
   "execution_count": 38,
   "metadata": {},
   "outputs": [],
   "source": [
    "files = ['wprost-2016.csv', 'wprost-2017.csv', 'wprost-2015.csv']"
   ]
  },
  {
   "cell_type": "code",
   "execution_count": 45,
   "metadata": {},
   "outputs": [
    {
     "name": "stdout",
     "output_type": "stream",
     "text": [
      "24\n"
     ]
    }
   ],
   "source": [
    "data = []\n",
    "file = files[1]\n",
    "with open(file, \"r\") as f:\n",
    "\n",
    "    lines = f.readlines()\n",
    "    lines = [ re.sub(r\"\\\"\", \"\", line) for line in lines ]\n",
    "    lines = [ re.sub(r\",+$\", \"\", line) for line in lines ]\n",
    "\n",
    "    tables = lines[0].split(\";\")\n",
    "    tables = [table.strip() for table in tables]\n",
    "    n = len(tables)\n",
    "    print(n)\n",
    "\n",
    "    for line in lines[1:]:\n",
    "        splits = line.split(\";\")\n",
    "        if len(splits) > n:\n",
    "            text =  \";\".join(splits[4: - n+5])\n",
    "            splits = splits[:4] + [text] + splits[-n+5:]\n",
    "        data.append(splits)\n",
    "\n",
    "df = pd.DataFrame(data, columns=tables)\n",
    "df['text'] = df['text'].apply(lambda x: x.strip())\n",
    "\n",
    "if file.endswith('2016.csv'):\n",
    "    df.drop(columns=['Column1','_1','_2','_3','_4','_5'], inplace=True)\n",
    "\n",
    "df.to_csv(\"data/\"+file, index=False)"
   ]
  },
  {
   "cell_type": "code",
   "execution_count": 47,
   "metadata": {},
   "outputs": [],
   "source": [
    "df['ok'] = df['link'].apply(lambda x: x[:4] == 'http')\n"
   ]
  },
  {
   "cell_type": "code",
   "execution_count": 48,
   "metadata": {},
   "outputs": [
    {
     "data": {
      "text/html": [
       "<div>\n",
       "<style scoped>\n",
       "    .dataframe tbody tr th:only-of-type {\n",
       "        vertical-align: middle;\n",
       "    }\n",
       "\n",
       "    .dataframe tbody tr th {\n",
       "        vertical-align: top;\n",
       "    }\n",
       "\n",
       "    .dataframe thead th {\n",
       "        text-align: right;\n",
       "    }\n",
       "</style>\n",
       "<table border=\"1\" class=\"dataframe\">\n",
       "  <thead>\n",
       "    <tr style=\"text-align: right;\">\n",
       "      <th></th>\n",
       "      <th>id</th>\n",
       "      <th>title_main</th>\n",
       "      <th>title_sub</th>\n",
       "      <th>magazine_nr</th>\n",
       "      <th>Wydanie</th>\n",
       "      <th>text</th>\n",
       "      <th>link</th>\n",
       "      <th>source</th>\n",
       "      <th>author 1</th>\n",
       "      <th>author 2</th>\n",
       "      <th>...</th>\n",
       "      <th>author 8</th>\n",
       "      <th>author 9</th>\n",
       "      <th>author 10</th>\n",
       "      <th>image</th>\n",
       "      <th>image_desp</th>\n",
       "      <th>hot</th>\n",
       "      <th>vote_up</th>\n",
       "      <th>vote_down</th>\n",
       "      <th>date</th>\n",
       "      <th>ok</th>\n",
       "    </tr>\n",
       "  </thead>\n",
       "  <tbody>\n",
       "    <tr>\n",
       "      <th>0</th>\n",
       "      <td>0</td>\n",
       "      <td></td>\n",
       "      <td></td>\n",
       "      <td>0</td>\n",
       "      <td></td>\n",
       "      <td></td>\n",
       "      <td></td>\n",
       "      <td></td>\n",
       "      <td></td>\n",
       "      <td></td>\n",
       "      <td>...</td>\n",
       "      <td></td>\n",
       "      <td></td>\n",
       "      <td></td>\n",
       "      <td></td>\n",
       "      <td></td>\n",
       "      <td></td>\n",
       "      <td></td>\n",
       "      <td></td>\n",
       "      <td>\\n</td>\n",
       "      <td>False</td>\n",
       "    </tr>\n",
       "  </tbody>\n",
       "</table>\n",
       "<p>1 rows × 25 columns</p>\n",
       "</div>"
      ],
      "text/plain": [
       "  id title_main title_sub magazine_nr Wydanie text link source author 1  \\\n",
       "0  0                                0                                     \n",
       "\n",
       "  author 2  ... author 8 author 9 author 10 image image_desp hot vote_up  \\\n",
       "0           ...                                                            \n",
       "\n",
       "  vote_down date     ok  \n",
       "0             \\n  False  \n",
       "\n",
       "[1 rows x 25 columns]"
      ]
     },
     "execution_count": 48,
     "metadata": {},
     "output_type": "execute_result"
    }
   ],
   "source": [
    "df[~df['ok']]"
   ]
  },
  {
   "cell_type": "code",
   "execution_count": 66,
   "metadata": {},
   "outputs": [
    {
     "name": "stdout",
     "output_type": "stream",
     "text": [
      "Wydanie wprost-2022.csv\n",
      "Wydanie wprost-2020.csv\n",
      "Wydanie wprost-2017.csv\n",
      "Wydanie wprost-2019.csv\n",
      "Wydanie wprost-2021.csv\n",
      "Wydanie wprost-2018.csv\n"
     ]
    }
   ],
   "source": [
    "import os\n",
    "files = os.listdir(\"data\")\n",
    "columns = pd.read_csv(\"data/\" + files[2]).columns.values\n",
    "\n",
    "for file in files:\n",
    "\n",
    "    df = pd.read_csv(\"data/\" + file)\n",
    "    for col in df.columns.values:\n",
    "        if col not in columns:\n",
    "            print(col + \" \" + file)"
   ]
  },
  {
   "cell_type": "code",
   "execution_count": 67,
   "metadata": {},
   "outputs": [],
   "source": [
    "df_list = []\n",
    "for file in files:\n",
    "    df = pd.read_csv(\"data/\" + file)\n",
    "    df_list.append(df)\n",
    "df_all = pd.concat(df_list)"
   ]
  },
  {
   "cell_type": "code",
   "execution_count": 69,
   "metadata": {},
   "outputs": [],
   "source": [
    "df_all.to_csv(\"Wprost.csv\", index=False)"
   ]
  },
  {
   "cell_type": "code",
   "execution_count": null,
   "metadata": {},
   "outputs": [],
   "source": []
  }
 ],
 "metadata": {
  "kernelspec": {
   "display_name": "Python 3",
   "language": "python",
   "name": "python3"
  },
  "language_info": {
   "codemirror_mode": {
    "name": "ipython",
    "version": 3
   },
   "file_extension": ".py",
   "mimetype": "text/x-python",
   "name": "python",
   "nbconvert_exporter": "python",
   "pygments_lexer": "ipython3",
   "version": "3.11.4"
  },
  "orig_nbformat": 4
 },
 "nbformat": 4,
 "nbformat_minor": 2
}
