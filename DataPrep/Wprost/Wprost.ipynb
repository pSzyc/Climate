{
 "cells": [
  {
   "cell_type": "code",
   "execution_count": null,
   "metadata": {},
   "outputs": [],
   "source": [
    "import pandas as pd\n",
    "import regex as re"
   ]
  },
  {
   "cell_type": "code",
   "execution_count": null,
   "metadata": {},
   "outputs": [],
   "source": [
    "files = ['wprost-2016.csv', 'wprost-2017.csv', 'wprost-2015.csv']"
   ]
  },
  {
   "cell_type": "code",
   "execution_count": null,
   "metadata": {},
   "outputs": [],
   "source": [
    "data = []\n",
    "file = files[1]\n",
    "with open(file, \"r\") as f:\n",
    "\n",
    "    lines = f.readlines()\n",
    "    lines = [ re.sub(r\"\\\"\", \"\", line) for line in lines ]\n",
    "    lines = [ re.sub(r\",+$\", \"\", line) for line in lines ]\n",
    "\n",
    "    tables = lines[0].split(\";\")\n",
    "    tables = [table.strip() for table in tables]\n",
    "    n = len(tables)\n",
    "    print(n)\n",
    "\n",
    "    for line in lines[1:]:\n",
    "        splits = line.split(\";\")\n",
    "        if len(splits) > n:\n",
    "            text =  \";\".join(splits[4: - n+5])\n",
    "            splits = splits[:4] + [text] + splits[-n+5:]\n",
    "        data.append(splits)\n",
    "\n",
    "df = pd.DataFrame(data, columns=tables)\n",
    "df['text'] = df['text'].apply(lambda x: x.strip())\n",
    "\n",
    "if file.endswith('2016.csv'):\n",
    "    df.drop(columns=['Column1','_1','_2','_3','_4','_5'], inplace=True)\n",
    "\n",
    "df.to_csv(\"data/\"+file, index=False)"
   ]
  },
  {
   "cell_type": "code",
   "execution_count": null,
   "metadata": {},
   "outputs": [],
   "source": [
    "df['ok'] = df['link'].apply(lambda x: x[:4] == 'http')"
   ]
  },
  {
   "cell_type": "code",
   "execution_count": null,
   "metadata": {},
   "outputs": [],
   "source": [
    "df[~df['ok']]"
   ]
  },
  {
   "cell_type": "code",
   "execution_count": null,
   "metadata": {},
   "outputs": [],
   "source": [
    "import os\n",
    "files = os.listdir(\"data\")\n",
    "columns = pd.read_csv(\"data/\" + files[2]).columns.values\n",
    "\n",
    "for file in files:\n",
    "\n",
    "    df = pd.read_csv(\"data/\" + file)\n",
    "    for col in df.columns.values:\n",
    "        if col not in columns:\n",
    "            print(col + \" \" + file)"
   ]
  },
  {
   "cell_type": "code",
   "execution_count": null,
   "metadata": {},
   "outputs": [],
   "source": [
    "df_list = []\n",
    "for file in files:\n",
    "    df = pd.read_csv(\"data/\" + file)\n",
    "    df_list.append(df)\n",
    "df_all = pd.concat(df_list)"
   ]
  },
  {
   "cell_type": "code",
   "execution_count": null,
   "metadata": {},
   "outputs": [],
   "source": [
    "df_all.to_csv(\"Wprost.csv\", index=False)"
   ]
  }
 ],
 "metadata": {
  "kernelspec": {
   "display_name": "Python 3",
   "language": "python",
   "name": "python3"
  },
  "language_info": {
   "codemirror_mode": {
    "name": "ipython",
    "version": 3
   },
   "file_extension": ".py",
   "mimetype": "text/x-python",
   "name": "python",
   "nbconvert_exporter": "python",
   "pygments_lexer": "ipython3",
   "version": "3.11.4"
  },
  "orig_nbformat": 4
 },
 "nbformat": 4,
 "nbformat_minor": 2
}
