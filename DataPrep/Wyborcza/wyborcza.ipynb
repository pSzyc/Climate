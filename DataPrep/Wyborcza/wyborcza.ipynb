{
 "cells": [
  {
   "cell_type": "code",
   "execution_count": 15,
   "metadata": {},
   "outputs": [],
   "source": [
    "import pandas as pd\n",
    "import os"
   ]
  },
  {
   "cell_type": "code",
   "execution_count": 21,
   "metadata": {},
   "outputs": [
    {
     "name": "stdout",
     "output_type": "stream",
     "text": [
      "['Wyborcza 23.07-02.08.2018.xlsx', 'Wyborcza 17.11.2017-21.07.2018.xlsx', 'Wyborcza 18.05.2017-17.11.2017.xlsx', 'GW 01.01.2015-17.05.2017.xlsx', 'Wyborcza 03.08.2018-19.11.2018.xlsx']\n"
     ]
    }
   ],
   "source": [
    "\n",
    "for dir, _, files in os.walk(\"data\"):\n",
    "    print(files)\n",
    "    df = pd.concat([pd.read_excel(os.path.join(dir, f)) for f in files])"
   ]
  },
  {
   "cell_type": "code",
   "execution_count": 22,
   "metadata": {},
   "outputs": [
    {
     "data": {
      "text/plain": [
       "id               0\n",
       "title            8\n",
       "page             0\n",
       "text          1178\n",
       "link             5\n",
       "source           5\n",
       "author        1117\n",
       "department     452\n",
       "date          1117\n",
       "dtype: int64"
      ]
     },
     "execution_count": 22,
     "metadata": {},
     "output_type": "execute_result"
    }
   ],
   "source": [
    "df.isna().sum()"
   ]
  },
  {
   "cell_type": "code",
   "execution_count": 23,
   "metadata": {},
   "outputs": [],
   "source": [
    "df = df[~df['text'].isna()]"
   ]
  },
  {
   "cell_type": "code",
   "execution_count": 24,
   "metadata": {},
   "outputs": [
    {
     "data": {
      "text/plain": [
       "Index(['id', 'title', 'page', 'text', 'link', 'source', 'author', 'department',\n",
       "       'date'],\n",
       "      dtype='object')"
      ]
     },
     "execution_count": 24,
     "metadata": {},
     "output_type": "execute_result"
    }
   ],
   "source": [
    "df.columns"
   ]
  },
  {
   "cell_type": "code",
   "execution_count": 25,
   "metadata": {},
   "outputs": [
    {
     "data": {
      "text/plain": [
       "'To będzie wydarzenie! W piątek 13 maja, na scenie Teatru im. Mickiewicza w ramach projektu Kantor_Tropy, po raz pierwszy będzie można zobaczyć widowiskowe przedstawienie w wykonaniu polsko-japońskiej grupy aktorów i tancerzy.Spektakl \"Kantor_Tropy: Collage\" w reżyserii Katarzyny Pastuszak stanowi połączenie japońskiego tańca buto, sztuki wizualnej i muzyki nowoczesnej z twórczością Tadeusza Kantora. Muzykę do tego przedsięwzięcia skomponowali i wykonują na żywo Joanna Duda i Jan Młynarski (J=J). Autorem kostiumów jest japoński projektant Rebelis (Daisuke Tsukuda). - To nietuzinkowy projekt. Na scenie wystąpi kilkanaście osób, w tym japońscy tancerze i artyści Teatru Amareya - zapowiada Joanna Karkoszka-Toborek, szefowa działu promocyjno-literackiego Teatru im. Mickiewicza. - Zależało nam jednak na tym, żeby to niezwykłe wydarzenie było dostępne dla jak największej liczby widzów, dlatego ceny biletów nie są wygórowane. Zresztą proponujemy, żeby w piątek trzynastego cały wieczór spędzić w naszym teatrze. O godz. 18 zapraszamy więc na dużą salę i projekt Kantor_Tropy: Collage\", a o 20 - na spektakl \"Proca\" grany na scenie kameralnej.Sztukę Nikolaja Kolady \"Proca\", przeniesioną na częstochowską scenę przez André Hübnera-Ochodlo, po prostu trzeba zobaczyć. Znakomicie zagrana - na scenie Adam Hutyra, Tomasz Włosok i Iwona Chołuj - opowieść o bólu duszy, złamanym życiu i miłości, która nie zna płci. Bilety na widowisko \"Kantor_Tropy: Collage\" kosztują 25 zł (normalne - parter), 20 zł (ulgowe - parter i normalne - balon) oraz 15 zł (ulgowe - balkon), a na \"Procę\" 30 zł (normalne) i 25 zł (ulgowe)Teatr im. Mickiewicza ufundował dal czytelników trzy podwójne zaproszenia na spektakl \"Kantor_Tropy: Collage\" oraz dwa podwójne zaproszenia na spektakl \"Proca\" grane 13 maja. By zagrać o jedną z nagród wskaż, spektakl, który częstochowski teatr pokaże 25 i 26 maja w ramach \"Dnia Mamy w Teatrze\":a) \"Mayday\"b) \"Miłość i polityka\"c) \"Kredyt\"Odpowiedź wyślij e-mailem 13 maja o godz. 10 na adres: konkursy@czestochowa.agora.pl. W tytule wiadomości wpisz (w zależności od nagrody) \"Teatr - Kantor\" lub \"Teatr- Proca\", a obok odpowiedzi - swoje imię i nazwisko. Wygrają osoby, których e-maile z prawidłową odpowiedzią zostaną zarejestrowane jako pierwsze. Regulamin konkursu dostępny jest w siedzibie organizatora przy ul. Racławickiej 6a.'"
      ]
     },
     "execution_count": 25,
     "metadata": {},
     "output_type": "execute_result"
    }
   ],
   "source": [
    "df.sample(1).text.iloc[0]"
   ]
  },
  {
   "cell_type": "code",
   "execution_count": 26,
   "metadata": {},
   "outputs": [
    {
     "data": {
      "text/plain": [
       "214227"
      ]
     },
     "execution_count": 26,
     "metadata": {},
     "output_type": "execute_result"
    }
   ],
   "source": [
    "len(df)"
   ]
  },
  {
   "cell_type": "code",
   "execution_count": 27,
   "metadata": {},
   "outputs": [],
   "source": [
    "from math import ceil\n",
    "\n",
    "def chunkit(df, chunk_size= 10000):\n",
    "    num_chunks = ceil(len(df) / chunk_size)\n",
    "    for i in range(num_chunks):\n",
    "        yield df[i*chunk_size:(i + 1) * chunk_size]\n",
    "\n",
    "for i, chunk in enumerate(chunkit(df)): chunk.to_csv(f\"data/wyborcza_{i}.csv\", index=False)"
   ]
  },
  {
   "cell_type": "code",
   "execution_count": null,
   "metadata": {},
   "outputs": [],
   "source": []
  }
 ],
 "metadata": {
  "kernelspec": {
   "display_name": "Python 3",
   "language": "python",
   "name": "python3"
  },
  "language_info": {
   "codemirror_mode": {
    "name": "ipython",
    "version": 3
   },
   "file_extension": ".py",
   "mimetype": "text/x-python",
   "name": "python",
   "nbconvert_exporter": "python",
   "pygments_lexer": "ipython3",
   "version": "3.11.4"
  },
  "orig_nbformat": 4
 },
 "nbformat": 4,
 "nbformat_minor": 2
}
