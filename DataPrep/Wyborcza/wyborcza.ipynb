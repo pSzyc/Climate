{
 "cells": [
  {
   "cell_type": "code",
   "execution_count": 2,
   "metadata": {},
   "outputs": [],
   "source": [
    "import pandas as pd\n",
    "import os"
   ]
  },
  {
   "cell_type": "code",
   "execution_count": 5,
   "metadata": {},
   "outputs": [],
   "source": [
    "df = pd.read_csv('wyborcza_2019-2022.csv')\n",
    "df = df.drop(columns=['Unnamed: 0'])\n",
    "for year in range(2019, 2023):\n",
    "    if not os.path.exists(f'wyborcza_{year}.csv'):\n",
    "        df[df['date'].str.contains(str(year))].to_csv(f'wyborcza_{year}.csv', index=False)\n",
    "    else:\n",
    "        print(f'wyborcza_{year}.csv already exists')"
   ]
  }
 ],
 "metadata": {
  "kernelspec": {
   "display_name": "Python 3",
   "language": "python",
   "name": "python3"
  },
  "language_info": {
   "codemirror_mode": {
    "name": "ipython",
    "version": 3
   },
   "file_extension": ".py",
   "mimetype": "text/x-python",
   "name": "python",
   "nbconvert_exporter": "python",
   "pygments_lexer": "ipython3",
   "version": "3.11.6"
  },
  "orig_nbformat": 4
 },
 "nbformat": 4,
 "nbformat_minor": 2
}
