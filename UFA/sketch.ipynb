{
 "cells": [
  {
   "cell_type": "code",
   "execution_count": 2,
   "metadata": {},
   "outputs": [],
   "source": [
    "from pathlib import Path\n",
    "import os\n",
    "import pandas as pd\n",
    "\n",
    "drive_path = Path(\"/run/user/1000/gvfs/google-drive:host=gmail.com,user=przemek.7678/Shared drives/SKN AI FUW /Projekt z Dagmarą Mateją/Korpusy/Korpus\")"
   ]
  },
  {
   "cell_type": "code",
   "execution_count": 9,
   "metadata": {},
   "outputs": [],
   "source": [
    "columns = ['id', 'title', 'source', 'author', 'department', 'date', 'text']"
   ]
  },
  {
   "cell_type": "code",
   "execution_count": 10,
   "metadata": {},
   "outputs": [
    {
     "name": "stdout",
     "output_type": "stream",
     "text": [
      "Column department not found in 1k-Yp-YKK_m2MPGzArGTiVeDFKevQe8U3\n",
      "Error reading 1DiYvyWfZfWU-3HdO5gC9KS_ImEP_fy0C\n",
      "Column department not found in 1G8_M46Fkr1MTEqTlKQ1uIsPye9yDS1sr\n",
      "Column id not found in 1mQy5b8qnSEhZh-Mkmz3o3H17nc3mqWo4\n",
      "Column department not found in 1WhtapWRmozmnXtUGdtaAYHIy8Sy-YKve\n",
      "Column id not found in 19QavqAYn6WeCoXba-DcolKEmuStbMo2N\n",
      "Column department not found in 1fY6-IZIjWVuEWKVIctwurLOrQeWjGNGS\n"
     ]
    }
   ],
   "source": [
    "corp_dfs = []\n",
    "for corp in os.listdir(drive_path):\n",
    "    # Read the file\n",
    "    try:\n",
    "        df = pd.read_csv(drive_path / corp)\n",
    "    except:\n",
    "        print(f\"Error reading {corp}\")\n",
    "        continue\n",
    "    \n",
    "    # Check if all columns are present\n",
    "    for col in columns:\n",
    "        if col not in df.columns:\n",
    "            print(f\"Column {col} not found in {corp}\")\n",
    "            if col == 'id':\n",
    "                df['id'] = df.index\n",
    "            else:\n",
    "                df[col] = None\n",
    "\n",
    "    # text is None\n",
    "    df = df[df['text'].isna() == False]\n",
    "\n",
    "    # Id is duplicated or missing\n",
    "    if df.id.duplicated().sum() > 0 or df.id.isna().sum() > 0:\n",
    "        print(f\"Duplicated or missing index found in {corp}\")\n",
    "        df = df.reset_index()\n",
    "        df['id'] = df.index\n",
    "        \n",
    "    # Source is not unique\n",
    "    if len(df['source'].unique()) != 1:\n",
    "        raise ValueError(\"Multiple sources in one file\")\n",
    "    \n",
    "    # Select only the columns we want and fill NaN with None\n",
    "    df = df[columns]\n",
    "    df = df.fillna(\"None\")\n",
    "\n",
    "    corp_dfs.append(df)"
   ]
  },
  {
   "cell_type": "code",
   "execution_count": 11,
   "metadata": {},
   "outputs": [],
   "source": [
    "def to_sketch_format(df):\n",
    "    for col in df.columns:\n",
    "        df[col] = df[col].astype(str)\n",
    "    sketch_text = \"<doc text_id=\\\"\" + df['id'] + \"\\\" title=\\\"\" + df['title'] + \"\\\" source=\\\"\" + df['source'] + \"\\\" author=\\\"\" + df['author'] + \"\\\" department=\\\"\" + df['department'] + \"\\\" date=\\\"\" + df['date'] + \"\\\">\" + df['text'] + \"</doc>\"\n",
    "    return sketch_text\n"
   ]
  },
  {
   "cell_type": "code",
   "execution_count": 13,
   "metadata": {},
   "outputs": [
    {
     "name": "stdout",
     "output_type": "stream",
     "text": [
      "19429\n"
     ]
    }
   ],
   "source": [
    "import re\n",
    "corpus = 0\n",
    "for df in corp_dfs:\n",
    "\n",
    "    # Convert to sketch format\n",
    "    df['sketch'] = to_sketch_format(df)\n",
    "    \n",
    "    # Save to file\n",
    "    file = \"sketch_\" + df['source'][0] + \".txt\"\n",
    "    df['sketch'].to_csv(file, index=False, header=False)\n",
    "    corpus += len(df)\n",
    "    # Clean the file\n",
    "    with open(file, \"r\") as f:\n",
    "        text = f.read()\n",
    "        text = re.sub(r'\\\"+', \"\\\"\", text)\n",
    "        text = re.sub(r\"\\n\", \" \", text)\n",
    "        text = re.sub(r\"\\s+\", \" \", text)\n",
    "    with open(file, \"w\") as f:\n",
    "        f.write(text)\n",
    "        \n",
    "print(corpus)"
   ]
  },
  {
   "cell_type": "code",
   "execution_count": null,
   "metadata": {},
   "outputs": [],
   "source": []
  }
 ],
 "metadata": {
  "kernelspec": {
   "display_name": "Python 3",
   "language": "python",
   "name": "python3"
  },
  "language_info": {
   "codemirror_mode": {
    "name": "ipython",
    "version": 3
   },
   "file_extension": ".py",
   "mimetype": "text/x-python",
   "name": "python",
   "nbconvert_exporter": "python",
   "pygments_lexer": "ipython3",
   "version": "3.11.8"
  }
 },
 "nbformat": 4,
 "nbformat_minor": 2
}
