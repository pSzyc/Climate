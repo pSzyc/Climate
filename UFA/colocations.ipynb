{
 "cells": [
  {
   "cell_type": "code",
   "execution_count": 1,
   "metadata": {},
   "outputs": [
    {
     "data": {
      "text/plain": [
       "['eco_rzepa.csv',\n",
       " 'eco_gpc.csv',\n",
       " 'eco_dorzeczy.csv',\n",
       " 'eco_wyborcza.csv',\n",
       " 'eco_newsweek.csv',\n",
       " 'eco_wprost.csv',\n",
       " 'eco_wpolityce.csv',\n",
       " 'eco_polityka.csv']"
      ]
     },
     "execution_count": 1,
     "metadata": {},
     "output_type": "execute_result"
    }
   ],
   "source": [
    "import pandas as pd\n",
    "import os\n",
    "import regex as re\n",
    "path = \"corpus\"\n",
    "corp_files = os.listdir(path)\n",
    "corp_files"
   ]
  },
  {
   "cell_type": "code",
   "execution_count": 2,
   "metadata": {},
   "outputs": [],
   "source": [
    "data_list = []\n",
    "cols = [\"text\", \"id\", 'date', 'source']\n",
    "\n",
    "for file in corp_files:\n",
    "    df = pd.read_csv(path+\"/\"+file, parse_dates=['date'])\n",
    "    if 'id' not in df.columns:\n",
    "        df['id'] = df.index\n",
    "    df = df[cols]    \n",
    "    data_list.append(df)\n",
    "df = pd.concat(data_list)"
   ]
  },
  {
   "cell_type": "code",
   "execution_count": 3,
   "metadata": {},
   "outputs": [],
   "source": [
    "word_regex = r'(?:[AaĄąBbCcĆćDdEeĘęFfGgHhIiJjKkLlŁłMmNnŃńOoÓóPpRrSsŚśTtUuWwYyZzŹźŻż\\d]+\\s+)'\n",
    "regex_expression = word_regex + r'{1,5}' + \"zmian[^ ]* klimat[^ ]*\\s+\" + word_regex + r'{1,5}'"
   ]
  },
  {
   "cell_type": "markdown",
   "metadata": {},
   "source": [
    "\"(?:[AaĄąBbCcĆćDdEeĘęFfGgHhIiJjKkLlŁłMmNnŃńOoÓóPpRrSsŚśTtUuWwYyZzŹźŻż\\d\\.\\-]+\\s+){3}zmian[^ ]* klimat[^ ]*\\s+(?:[AaĄąBbCcĆćDdEeĘęFfGgHhIiJjKkLlŁłMmNnŃńOoÓóPpRrSsŚśTtUuWwYyZzŹźŻż\\d\\.\\-]+\\s+){3}\""
   ]
  },
  {
   "cell_type": "code",
   "execution_count": 4,
   "metadata": {},
   "outputs": [],
   "source": [
    "df['text_processed'] = df['text'].apply(lambda x: re.sub(r'[\\n\\.\\-]', ' ', x))\n",
    "df['text_processed'] = df['text_processed'].apply(lambda x: re.sub(r'\\s+', ' ', x))\n",
    "df['text_processed'] = df['text_processed'].apply(lambda x: re.sub(r'[^\\dAaĄąBbCcĆćDdEeĘęFfGgHhIiJjKkLlŁłMmNnŃńOoÓóPpRrSsŚśTtUuWwYyZzŹźŻż ]', '', x))\n",
    "df['text_processed'] = df['text_processed'].str.lower()"
   ]
  },
  {
   "cell_type": "code",
   "execution_count": 5,
   "metadata": {},
   "outputs": [],
   "source": [
    "df['raw_colocates'] = df['text_processed'].apply(lambda x: re.findall(regex_expression, x))"
   ]
  },
  {
   "cell_type": "code",
   "execution_count": 6,
   "metadata": {},
   "outputs": [
    {
     "name": "stdout",
     "output_type": "stream",
     "text": [
      "8069\n"
     ]
    }
   ],
   "source": [
    "df['count'] = df['raw_colocates'].apply(lambda x: len(x))\n",
    "print(df['count'].sum())"
   ]
  },
  {
   "cell_type": "code",
   "execution_count": 7,
   "metadata": {},
   "outputs": [
    {
     "name": "stdout",
     "output_type": "stream",
     "text": [
      "8223\n"
     ]
    }
   ],
   "source": [
    "df['real_count'] = df['text_processed'].apply(lambda x: len(re.findall(\"zmian[^ ]* klimat[^ ]*\", x)))\n",
    "print(df['real_count'].sum())"
   ]
  },
  {
   "cell_type": "code",
   "execution_count": 8,
   "metadata": {},
   "outputs": [
    {
     "data": {
      "text/plain": [
       "source\n",
       "Wyborcza                    1992\n",
       "Rzeczpospolita              1374\n",
       "Gazeta Polska Codziennie     252\n",
       "POLITYKA                     225\n",
       "Newsweek                     113\n",
       "wPolityce                    105\n",
       "WPROST                        65\n",
       "DoRzeczy                      47\n",
       "Name: count, dtype: int64"
      ]
     },
     "execution_count": 8,
     "metadata": {},
     "output_type": "execute_result"
    }
   ],
   "source": [
    "df[df['real_count'] > 0].source.value_counts()"
   ]
  },
  {
   "cell_type": "code",
   "execution_count": 9,
   "metadata": {},
   "outputs": [
    {
     "data": {
      "text/html": [
       "<div>\n",
       "<style scoped>\n",
       "    .dataframe tbody tr th:only-of-type {\n",
       "        vertical-align: middle;\n",
       "    }\n",
       "\n",
       "    .dataframe tbody tr th {\n",
       "        vertical-align: top;\n",
       "    }\n",
       "\n",
       "    .dataframe thead th {\n",
       "        text-align: right;\n",
       "    }\n",
       "</style>\n",
       "<table border=\"1\" class=\"dataframe\">\n",
       "  <thead>\n",
       "    <tr style=\"text-align: right;\">\n",
       "      <th></th>\n",
       "      <th>text_id</th>\n",
       "      <th>date</th>\n",
       "      <th>source</th>\n",
       "      <th>colocate</th>\n",
       "      <th>id</th>\n",
       "    </tr>\n",
       "  </thead>\n",
       "  <tbody>\n",
       "    <tr>\n",
       "      <th>0</th>\n",
       "      <td>43</td>\n",
       "      <td>2015-01-02</td>\n",
       "      <td>Rzeczpospolita</td>\n",
       "      <td>rolnictwa i leśnictwa do postępujących zmian k...</td>\n",
       "      <td>0</td>\n",
       "    </tr>\n",
       "    <tr>\n",
       "      <th>1</th>\n",
       "      <td>78</td>\n",
       "      <td>2015-01-02</td>\n",
       "      <td>Rzeczpospolita</td>\n",
       "      <td>środowiska przeciwdziałaniu i adaptacji do zmi...</td>\n",
       "      <td>1</td>\n",
       "    </tr>\n",
       "    <tr>\n",
       "      <th>2</th>\n",
       "      <td>411</td>\n",
       "      <td>2015-01-08</td>\n",
       "      <td>Rzeczpospolita</td>\n",
       "      <td>powiększania się bądź ograniczania ubóstwa zmi...</td>\n",
       "      <td>2</td>\n",
       "    </tr>\n",
       "    <tr>\n",
       "      <th>3</th>\n",
       "      <td>411</td>\n",
       "      <td>2015-01-08</td>\n",
       "      <td>Rzeczpospolita</td>\n",
       "      <td>2008 r ustawa o przeciwdziałaniu zmianom klima...</td>\n",
       "      <td>3</td>\n",
       "    </tr>\n",
       "    <tr>\n",
       "      <th>4</th>\n",
       "      <td>1154</td>\n",
       "      <td>2015-01-16</td>\n",
       "      <td>Rzeczpospolita</td>\n",
       "      <td>ogłosić encyklikę koncentrującą się na zmianac...</td>\n",
       "      <td>4</td>\n",
       "    </tr>\n",
       "  </tbody>\n",
       "</table>\n",
       "</div>"
      ],
      "text/plain": [
       "   text_id       date          source  \\\n",
       "0       43 2015-01-02  Rzeczpospolita   \n",
       "1       78 2015-01-02  Rzeczpospolita   \n",
       "2      411 2015-01-08  Rzeczpospolita   \n",
       "3      411 2015-01-08  Rzeczpospolita   \n",
       "4     1154 2015-01-16  Rzeczpospolita   \n",
       "\n",
       "                                            colocate  id  \n",
       "0  rolnictwa i leśnictwa do postępujących zmian k...   0  \n",
       "1  środowiska przeciwdziałaniu i adaptacji do zmi...   1  \n",
       "2  powiększania się bądź ograniczania ubóstwa zmi...   2  \n",
       "3  2008 r ustawa o przeciwdziałaniu zmianom klima...   3  \n",
       "4  ogłosić encyklikę koncentrującą się na zmianac...   4  "
      ]
     },
     "execution_count": 9,
     "metadata": {},
     "output_type": "execute_result"
    }
   ],
   "source": [
    "df_exploded = df[df['count'] > 0].explode('raw_colocates')\n",
    "df_exploded.reset_index(drop=True, inplace=True)\n",
    "df_exploded.rename(columns={'raw_colocates': 'colocate', 'id': 'text_id'}, inplace=True)\n",
    "df_exploded['id'] = df_exploded.index\n",
    "df_exploded.drop(columns=['text', 'text_processed', 'count', 'real_count'], inplace=True)\n",
    "df_exploded.head()"
   ]
  },
  {
   "cell_type": "code",
   "execution_count": 10,
   "metadata": {},
   "outputs": [],
   "source": [
    "df_exploded.to_csv(\"colocates.csv\", index=False)"
   ]
  }
 ],
 "metadata": {
  "kernelspec": {
   "display_name": "Python 3",
   "language": "python",
   "name": "python3"
  },
  "language_info": {
   "codemirror_mode": {
    "name": "ipython",
    "version": 3
   },
   "file_extension": ".py",
   "mimetype": "text/x-python",
   "name": "python",
   "nbconvert_exporter": "python",
   "pygments_lexer": "ipython3",
   "version": "3.11.6"
  }
 },
 "nbformat": 4,
 "nbformat_minor": 2
}
