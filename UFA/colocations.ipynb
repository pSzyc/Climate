{
 "cells": [
  {
   "cell_type": "code",
   "execution_count": 1,
   "metadata": {},
   "outputs": [
    {
     "data": {
      "text/plain": [
       "['eco_dorzeczy.csv',\n",
       " 'eco_gpc.csv',\n",
       " 'eco_newsweek.csv',\n",
       " 'eco_polityka.csv',\n",
       " 'eco_rzepa.csv',\n",
       " 'eco_wpolityce.csv',\n",
       " 'eco_wprost.csv',\n",
       " 'eco_wyborcza_colocates.csv',\n",
       " 'eco_wyborcza.csv']"
      ]
     },
     "execution_count": 1,
     "metadata": {},
     "output_type": "execute_result"
    }
   ],
   "source": [
    "import pandas as pd\n",
    "import os\n",
    "import regex as re\n",
    "\n",
    "# Path to stored files\n",
    "path = \"../Corpus\"\n",
    "corp_files = os.listdir(path)\n",
    "corp_files"
   ]
  },
  {
   "cell_type": "markdown",
   "metadata": {},
   "source": [
    "## Load and concatenate data"
   ]
  },
  {
   "cell_type": "code",
   "execution_count": 3,
   "metadata": {},
   "outputs": [
    {
     "name": "stdout",
     "output_type": "stream",
     "text": [
      "No id in eco_gpc.csv\n",
      "No id in eco_wyborcza.csv\n"
     ]
    }
   ],
   "source": [
    "data_list = []\n",
    "cols = [\"text\", \"id\", 'date', 'source']\n",
    "\n",
    "for file in corp_files:\n",
    "    # Load the data\n",
    "    data = pd.read_csv(path+\"/\"+file, parse_dates=['date'])\n",
    "   \n",
    "    # Make sure to only include columns of interest\n",
    "    if 'id' not in data.columns:\n",
    "        print(f\"No id in {file}\")\n",
    "        data['id'] = data.index\n",
    "    data = data[cols]   \n",
    "\n",
    "    # Append to list\n",
    "    data_list.append(data)\n",
    "\n",
    "df = pd.concat(data_list)"
   ]
  },
  {
   "cell_type": "markdown",
   "metadata": {},
   "source": [
    "## Preprocessing"
   ]
  },
  {
   "cell_type": "code",
   "execution_count": null,
   "metadata": {},
   "outputs": [],
   "source": [
    "df['text_processed'] = df['text'].apply(lambda x: re.sub(r'[\\n\\.\\-]', ' ', x))\n",
    "df['text_processed'] = df['text_processed'].apply(lambda x: re.sub(r'\\s+', ' ', x))\n",
    "df['text_processed'] = df['text_processed'].apply(lambda x: re.sub(r'[^\\dAaĄąBbCcĆćDdEeĘęFfGgHhIiJjKkLlŁłMmNnŃńOoÓóPpRrSsŚśTtUuWwYyZzŹźŻż ]', '', x))\n",
    "df['text_processed'] = df['text_processed'].str.lower()"
   ]
  },
  {
   "cell_type": "markdown",
   "metadata": {},
   "source": [
    "## Extracting collocates"
   ]
  },
  {
   "cell_type": "code",
   "execution_count": null,
   "metadata": {},
   "outputs": [],
   "source": [
    "word_regex = r'(?:[AaĄąBbCcĆćDdEeĘęFfGgHhIiJjKkLlŁłMmNnŃńOoÓóPpRrSsŚśTtUuWwYyZzŹźŻż\\d]+\\s+)'\n",
    "regex_expression = word_regex + r'{1,5}' + \"zmian[^ ]* klimat[^ ]*\\s+\" + word_regex + r'{1,5}'\n",
    "\n",
    "df['raw_colocates'] = df['text_processed'].apply(lambda x: re.findall(regex_expression, x))"
   ]
  },
  {
   "cell_type": "markdown",
   "metadata": {},
   "source": [
    "## Checking the extraction process"
   ]
  },
  {
   "cell_type": "code",
   "execution_count": null,
   "metadata": {},
   "outputs": [],
   "source": [
    "df['count'] = df['raw_colocates'].apply(lambda x: len(x))\n",
    "print(df['count'].sum())"
   ]
  },
  {
   "cell_type": "code",
   "execution_count": null,
   "metadata": {},
   "outputs": [],
   "source": [
    "df['real_count'] = df['text_processed'].apply(lambda x: len(re.findall(\"zmian[^ ]* klimat[^ ]*\", x)))\n",
    "print(df['real_count'].sum())"
   ]
  },
  {
   "cell_type": "markdown",
   "metadata": {},
   "source": [
    "## Collocates by source"
   ]
  },
  {
   "cell_type": "code",
   "execution_count": null,
   "metadata": {},
   "outputs": [],
   "source": [
    "df[df['real_count'] > 0].source.value_counts()"
   ]
  },
  {
   "cell_type": "markdown",
   "metadata": {},
   "source": [
    "## Saving"
   ]
  },
  {
   "cell_type": "code",
   "execution_count": null,
   "metadata": {},
   "outputs": [],
   "source": [
    "df_exploded = df[df['count'] > 0].explode('raw_colocates')\n",
    "df_exploded.reset_index(drop=True, inplace=True)\n",
    "df_exploded.rename(columns={'raw_colocates': 'colocate', 'id': 'text_id'}, inplace=True)\n",
    "df_exploded['id'] = df_exploded.index\n",
    "df_exploded.drop(columns=['text', 'text_processed', 'count', 'real_count'], inplace=True)\n",
    "df_exploded.head()"
   ]
  },
  {
   "cell_type": "code",
   "execution_count": null,
   "metadata": {},
   "outputs": [],
   "source": [
    "df_exploded.to_csv(\"colocates.csv\", index=False)"
   ]
  }
 ],
 "metadata": {
  "kernelspec": {
   "display_name": "Python 3",
   "language": "python",
   "name": "python3"
  },
  "language_info": {
   "codemirror_mode": {
    "name": "ipython",
    "version": 3
   },
   "file_extension": ".py",
   "mimetype": "text/x-python",
   "name": "python",
   "nbconvert_exporter": "python",
   "pygments_lexer": "ipython3",
   "version": "3.11.8"
  }
 },
 "nbformat": 4,
 "nbformat_minor": 2
}
