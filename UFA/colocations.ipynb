{
 "cells": [
  {
   "cell_type": "code",
   "execution_count": 1,
   "metadata": {},
   "outputs": [
    {
     "data": {
      "text/plain": [
       "['eco_dorzeczy.csv',\n",
       " 'eco_gpc.csv',\n",
       " 'eco_newsweek.csv',\n",
       " 'eco_polityka.csv',\n",
       " 'eco_rzepa.csv',\n",
       " 'eco_wpolityce.csv',\n",
       " 'eco_wprost.csv',\n",
       " 'eco_wyborcza_colocates.csv',\n",
       " 'eco_wyborcza.csv']"
      ]
     },
     "execution_count": 1,
     "metadata": {},
     "output_type": "execute_result"
    }
   ],
   "source": [
    "import pandas as pd\n",
    "import os\n",
    "import regex as re\n",
    "\n",
    "# Path to stored files\n",
    "path = \"../Corpus\"\n",
    "corp_files = os.listdir(path)\n",
    "corp_files"
   ]
  },
  {
   "cell_type": "markdown",
   "metadata": {},
   "source": [
    "## Load and concatenate data"
   ]
  },
  {
   "cell_type": "code",
   "execution_count": 4,
   "metadata": {},
   "outputs": [
    {
     "name": "stdout",
     "output_type": "stream",
     "text": [
      "No id in eco_gpc.csv\n",
      "No id in eco_wyborcza.csv\n"
     ]
    }
   ],
   "source": [
    "data_list = []\n",
    "cols = [\"text\", \"id\", 'date', 'source']\n",
    "\n",
    "for file in corp_files:\n",
    "    # Load the data\n",
    "    data = pd.read_csv(path+\"/\"+file, parse_dates=['date'])\n",
    "   \n",
    "    # Make sure to only include columns of interest\n",
    "    if 'id' not in data.columns:\n",
    "        print(f\"No id in {file}\")\n",
    "        data['id'] = data.index\n",
    "    data = data[cols]   \n",
    "\n",
    "    # Append to list\n",
    "    data_list.append(data)\n",
    "\n",
    "df = pd.concat(data_list)\n",
    "df = df[df['text'].isna() == False]"
   ]
  },
  {
   "cell_type": "markdown",
   "metadata": {},
   "source": [
    "## Preprocessing"
   ]
  },
  {
   "cell_type": "code",
   "execution_count": 5,
   "metadata": {},
   "outputs": [],
   "source": [
    "df['text_processed'] = df['text'].apply(lambda x: re.sub(r'[\\n\\.\\-]', ' ', x))\n",
    "df['text_processed'] = df['text_processed'].apply(lambda x: re.sub(r'\\s+', ' ', x))\n",
    "df['text_processed'] = df['text_processed'].apply(lambda x: re.sub(r'[^\\dAaĄąBbCcĆćDdEeĘęFfGgHhIiJjKkLlŁłMmNnŃńOoÓóPpRrSsŚśTtUuWwYyZzŹźŻż ]', '', x))\n",
    "df['text_processed'] = df['text_processed'].str.lower()"
   ]
  },
  {
   "cell_type": "markdown",
   "metadata": {},
   "source": [
    "## Extracting collocates"
   ]
  },
  {
   "cell_type": "code",
   "execution_count": 6,
   "metadata": {},
   "outputs": [],
   "source": [
    "word_regex = r'(?:[AaĄąBbCcĆćDdEeĘęFfGgHhIiJjKkLlŁłMmNnŃńOoÓóPpRrSsŚśTtUuWwYyZzŹźŻż\\d]+\\s+)'\n",
    "regex_expression = word_regex + r'{1,5}' + \"zmian[^ ]* klimat[^ ]*\\s+\" + word_regex + r'{1,5}'\n",
    "\n",
    "df['raw_colocates'] = df['text_processed'].apply(lambda x: re.findall(regex_expression, x))"
   ]
  },
  {
   "cell_type": "code",
   "execution_count": 8,
   "metadata": {},
   "outputs": [
    {
     "data": {
      "text/plain": [
       "0                                                      []\n",
       "1                                                      []\n",
       "2       [twierdzą  niezbędne żeby przeciwstawić się zm...\n",
       "3                                                      []\n",
       "4       [fałszywy alarm jak panika wokół zmiany klimat...\n",
       "                              ...                        \n",
       "7223                                                   []\n",
       "7224                                                   []\n",
       "7225                                                   []\n",
       "7226                                                   []\n",
       "7227                                                   []\n",
       "Name: raw_colocates, Length: 26642, dtype: object"
      ]
     },
     "execution_count": 8,
     "metadata": {},
     "output_type": "execute_result"
    }
   ],
   "source": [
    "df['raw_colocates']"
   ]
  },
  {
   "cell_type": "markdown",
   "metadata": {},
   "source": [
    "## Checking the extraction process"
   ]
  },
  {
   "cell_type": "code",
   "execution_count": 9,
   "metadata": {},
   "outputs": [
    {
     "name": "stdout",
     "output_type": "stream",
     "text": [
      "11956\n"
     ]
    }
   ],
   "source": [
    "df['count'] = df['raw_colocates'].apply(lambda x: len(x))\n",
    "print(df['count'].sum())"
   ]
  },
  {
   "cell_type": "code",
   "execution_count": 10,
   "metadata": {},
   "outputs": [
    {
     "name": "stdout",
     "output_type": "stream",
     "text": [
      "12162\n"
     ]
    }
   ],
   "source": [
    "df['real_count'] = df['text_processed'].apply(lambda x: len(re.findall(\"zmian[^ ]* klimat[^ ]*\", x)))\n",
    "print(df['real_count'].sum())"
   ]
  },
  {
   "cell_type": "markdown",
   "metadata": {},
   "source": [
    "## Collocates by source"
   ]
  },
  {
   "cell_type": "code",
   "execution_count": 11,
   "metadata": {},
   "outputs": [
    {
     "data": {
      "text/plain": [
       "Wyborcza                    4025\n",
       "Rzeczpospolita              1376\n",
       "POLITYKA                     255\n",
       "Gazeta Polska Codziennie     252\n",
       "Newsweek                     115\n",
       "wPolityce                     91\n",
       "WPROST                        69\n",
       "DoRzeczy                      55\n",
       "Name: source, dtype: int64"
      ]
     },
     "execution_count": 11,
     "metadata": {},
     "output_type": "execute_result"
    }
   ],
   "source": [
    "df[df['real_count'] > 0].source.value_counts()"
   ]
  },
  {
   "cell_type": "code",
   "execution_count": 24,
   "metadata": {},
   "outputs": [
    {
     "data": {
      "text/html": [
       "<div>\n",
       "<style scoped>\n",
       "    .dataframe tbody tr th:only-of-type {\n",
       "        vertical-align: middle;\n",
       "    }\n",
       "\n",
       "    .dataframe tbody tr th {\n",
       "        vertical-align: top;\n",
       "    }\n",
       "\n",
       "    .dataframe thead th {\n",
       "        text-align: right;\n",
       "    }\n",
       "</style>\n",
       "<table border=\"1\" class=\"dataframe\">\n",
       "  <thead>\n",
       "    <tr style=\"text-align: right;\">\n",
       "      <th></th>\n",
       "      <th>text</th>\n",
       "      <th>id</th>\n",
       "      <th>date</th>\n",
       "      <th>source</th>\n",
       "      <th>text_processed</th>\n",
       "      <th>raw_colocates</th>\n",
       "      <th>count</th>\n",
       "      <th>real_count</th>\n",
       "    </tr>\n",
       "  </thead>\n",
       "  <tbody>\n",
       "    <tr>\n",
       "      <th>2</th>\n",
       "      <td>Ekologiczne i energooszczędne rozwiązania domi...</td>\n",
       "      <td>111</td>\n",
       "      <td>2021-02-21</td>\n",
       "      <td>DoRzeczy</td>\n",
       "      <td>ekologiczne i energooszczędne rozwiązania domi...</td>\n",
       "      <td>twierdzą  niezbędne żeby przeciwstawić się zmi...</td>\n",
       "      <td>1</td>\n",
       "      <td>1</td>\n",
       "    </tr>\n",
       "    <tr>\n",
       "      <th>4</th>\n",
       "      <td>Bjørn Lomborg przekłuwa balon paniki, nakręcan...</td>\n",
       "      <td>156</td>\n",
       "      <td>2021-02-28</td>\n",
       "      <td>DoRzeczy</td>\n",
       "      <td>bjrn lomborg przekłuwa balon paniki nakręcanej...</td>\n",
       "      <td>fałszywy alarm jak panika wokół zmiany klimatu...</td>\n",
       "      <td>7</td>\n",
       "      <td>7</td>\n",
       "    </tr>\n",
       "    <tr>\n",
       "      <th>4</th>\n",
       "      <td>Bjørn Lomborg przekłuwa balon paniki, nakręcan...</td>\n",
       "      <td>156</td>\n",
       "      <td>2021-02-28</td>\n",
       "      <td>DoRzeczy</td>\n",
       "      <td>bjrn lomborg przekłuwa balon paniki nakręcanej...</td>\n",
       "      <td>klimatyści tak jak model kosztów zmian klimaty...</td>\n",
       "      <td>7</td>\n",
       "      <td>7</td>\n",
       "    </tr>\n",
       "    <tr>\n",
       "      <th>4</th>\n",
       "      <td>Bjørn Lomborg przekłuwa balon paniki, nakręcan...</td>\n",
       "      <td>156</td>\n",
       "      <td>2021-02-28</td>\n",
       "      <td>DoRzeczy</td>\n",
       "      <td>bjrn lomborg przekłuwa balon paniki nakręcanej...</td>\n",
       "      <td>2030 r  aby rozwiązać problem zmian klimatyczn...</td>\n",
       "      <td>7</td>\n",
       "      <td>7</td>\n",
       "    </tr>\n",
       "    <tr>\n",
       "      <th>4</th>\n",
       "      <td>Bjørn Lomborg przekłuwa balon paniki, nakręcan...</td>\n",
       "      <td>156</td>\n",
       "      <td>2021-02-28</td>\n",
       "      <td>DoRzeczy</td>\n",
       "      <td>bjrn lomborg przekłuwa balon paniki nakręcanej...</td>\n",
       "      <td>trzeba by zrobić żeby utrzymać zmiany klimatyc...</td>\n",
       "      <td>7</td>\n",
       "      <td>7</td>\n",
       "    </tr>\n",
       "    <tr>\n",
       "      <th>...</th>\n",
       "      <td>...</td>\n",
       "      <td>...</td>\n",
       "      <td>...</td>\n",
       "      <td>...</td>\n",
       "      <td>...</td>\n",
       "      <td>...</td>\n",
       "      <td>...</td>\n",
       "      <td>...</td>\n",
       "    </tr>\n",
       "    <tr>\n",
       "      <th>7215</th>\n",
       "      <td>Dwoje dzieci naszego czytelnika pana Marcina j...</td>\n",
       "      <td>7215</td>\n",
       "      <td>2022-12-14</td>\n",
       "      <td>Wyborcza</td>\n",
       "      <td>dwoje dzieci naszego czytelnika pana marcina j...</td>\n",
       "      <td>ze stanem środowiska naturalnego więc zmiany k...</td>\n",
       "      <td>1</td>\n",
       "      <td>1</td>\n",
       "    </tr>\n",
       "    <tr>\n",
       "      <th>7219</th>\n",
       "      <td>Do końca roku pod głosowanie Rady Miejskiej w ...</td>\n",
       "      <td>7219</td>\n",
       "      <td>2022-12-22</td>\n",
       "      <td>Wyborcza</td>\n",
       "      <td>do końca roku pod głosowanie rady miejskiej w ...</td>\n",
       "      <td>sektorów i obszarów wrażliwych na zmiany klima...</td>\n",
       "      <td>1</td>\n",
       "      <td>1</td>\n",
       "    </tr>\n",
       "    <tr>\n",
       "      <th>7221</th>\n",
       "      <td>- Zacznijmy lepiej od tego, że robiliśmy to w ...</td>\n",
       "      <td>7221</td>\n",
       "      <td>2022-12-24</td>\n",
       "      <td>Wyborcza</td>\n",
       "      <td>zacznijmy lepiej od tego że robiliśmy to w pe...</td>\n",
       "      <td>przyrody dlaczego dziś nie łapiemy zmian klima...</td>\n",
       "      <td>2</td>\n",
       "      <td>2</td>\n",
       "    </tr>\n",
       "    <tr>\n",
       "      <th>7221</th>\n",
       "      <td>- Zacznijmy lepiej od tego, że robiliśmy to w ...</td>\n",
       "      <td>7221</td>\n",
       "      <td>2022-12-24</td>\n",
       "      <td>Wyborcza</td>\n",
       "      <td>zacznijmy lepiej od tego że robiliśmy to w pe...</td>\n",
       "      <td>pseudonauki z życia codziennego kwestionowanie...</td>\n",
       "      <td>2</td>\n",
       "      <td>2</td>\n",
       "    </tr>\n",
       "    <tr>\n",
       "      <th>7222</th>\n",
       "      <td>Zabierają wodę z potoków, zjadają drogi prąd -...</td>\n",
       "      <td>7222</td>\n",
       "      <td>2022-12-28</td>\n",
       "      <td>Wyborcza</td>\n",
       "      <td>zabierają wodę z potoków zjadają drogi prąd mi...</td>\n",
       "      <td>narciarski zdaje się nie przejmować zmianami k...</td>\n",
       "      <td>1</td>\n",
       "      <td>1</td>\n",
       "    </tr>\n",
       "  </tbody>\n",
       "</table>\n",
       "<p>11956 rows × 8 columns</p>\n",
       "</div>"
      ],
      "text/plain": [
       "                                                   text    id       date  \\\n",
       "2     Ekologiczne i energooszczędne rozwiązania domi...   111 2021-02-21   \n",
       "4     Bjørn Lomborg przekłuwa balon paniki, nakręcan...   156 2021-02-28   \n",
       "4     Bjørn Lomborg przekłuwa balon paniki, nakręcan...   156 2021-02-28   \n",
       "4     Bjørn Lomborg przekłuwa balon paniki, nakręcan...   156 2021-02-28   \n",
       "4     Bjørn Lomborg przekłuwa balon paniki, nakręcan...   156 2021-02-28   \n",
       "...                                                 ...   ...        ...   \n",
       "7215  Dwoje dzieci naszego czytelnika pana Marcina j...  7215 2022-12-14   \n",
       "7219  Do końca roku pod głosowanie Rady Miejskiej w ...  7219 2022-12-22   \n",
       "7221  - Zacznijmy lepiej od tego, że robiliśmy to w ...  7221 2022-12-24   \n",
       "7221  - Zacznijmy lepiej od tego, że robiliśmy to w ...  7221 2022-12-24   \n",
       "7222  Zabierają wodę z potoków, zjadają drogi prąd -...  7222 2022-12-28   \n",
       "\n",
       "        source                                     text_processed  \\\n",
       "2     DoRzeczy  ekologiczne i energooszczędne rozwiązania domi...   \n",
       "4     DoRzeczy  bjrn lomborg przekłuwa balon paniki nakręcanej...   \n",
       "4     DoRzeczy  bjrn lomborg przekłuwa balon paniki nakręcanej...   \n",
       "4     DoRzeczy  bjrn lomborg przekłuwa balon paniki nakręcanej...   \n",
       "4     DoRzeczy  bjrn lomborg przekłuwa balon paniki nakręcanej...   \n",
       "...        ...                                                ...   \n",
       "7215  Wyborcza  dwoje dzieci naszego czytelnika pana marcina j...   \n",
       "7219  Wyborcza  do końca roku pod głosowanie rady miejskiej w ...   \n",
       "7221  Wyborcza   zacznijmy lepiej od tego że robiliśmy to w pe...   \n",
       "7221  Wyborcza   zacznijmy lepiej od tego że robiliśmy to w pe...   \n",
       "7222  Wyborcza  zabierają wodę z potoków zjadają drogi prąd mi...   \n",
       "\n",
       "                                          raw_colocates  count  real_count  \n",
       "2     twierdzą  niezbędne żeby przeciwstawić się zmi...      1           1  \n",
       "4     fałszywy alarm jak panika wokół zmiany klimatu...      7           7  \n",
       "4     klimatyści tak jak model kosztów zmian klimaty...      7           7  \n",
       "4     2030 r  aby rozwiązać problem zmian klimatyczn...      7           7  \n",
       "4     trzeba by zrobić żeby utrzymać zmiany klimatyc...      7           7  \n",
       "...                                                 ...    ...         ...  \n",
       "7215  ze stanem środowiska naturalnego więc zmiany k...      1           1  \n",
       "7219  sektorów i obszarów wrażliwych na zmiany klima...      1           1  \n",
       "7221  przyrody dlaczego dziś nie łapiemy zmian klima...      2           2  \n",
       "7221  pseudonauki z życia codziennego kwestionowanie...      2           2  \n",
       "7222  narciarski zdaje się nie przejmować zmianami k...      1           1  \n",
       "\n",
       "[11956 rows x 8 columns]"
      ]
     },
     "execution_count": 24,
     "metadata": {},
     "output_type": "execute_result"
    }
   ],
   "source": [
    "df[df['count'] > 0].explode('raw_colocates')#.explode('raw_colocates')"
   ]
  },
  {
   "cell_type": "markdown",
   "metadata": {},
   "source": [
    "## Saving"
   ]
  },
  {
   "cell_type": "code",
   "execution_count": null,
   "metadata": {},
   "outputs": [],
   "source": [
    "df_exploded = df[df['count'] > 0].explode('raw_colocates')\n",
    "df_exploded.reset_index(drop=True, inplace=True)\n",
    "df_exploded.rename(columns={'raw_colocates': 'colocate', 'id': 'text_id'}, inplace=True)\n",
    "df_exploded['id'] = df_exploded.index\n",
    "df_exploded.drop(columns=['text', 'text_processed', 'count', 'real_count'], inplace=True)\n",
    "df_exploded.head()"
   ]
  },
  {
   "cell_type": "code",
   "execution_count": null,
   "metadata": {},
   "outputs": [],
   "source": [
    "df_exploded.to_csv(\"colocates.csv\", index=False)"
   ]
  }
 ],
 "metadata": {
  "kernelspec": {
   "display_name": "Python 3",
   "language": "python",
   "name": "python3"
  },
  "language_info": {
   "codemirror_mode": {
    "name": "ipython",
    "version": 3
   },
   "file_extension": ".py",
   "mimetype": "text/x-python",
   "name": "python",
   "nbconvert_exporter": "python",
   "pygments_lexer": "ipython3",
   "version": "3.11.8"
  }
 },
 "nbformat": 4,
 "nbformat_minor": 2
}
