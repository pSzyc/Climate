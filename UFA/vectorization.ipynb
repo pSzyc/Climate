{
 "cells": [
  {
   "cell_type": "markdown",
   "metadata": {},
   "source": [
    "## Load The Data"
   ]
  },
  {
   "cell_type": "code",
   "execution_count": 10,
   "metadata": {},
   "outputs": [],
   "source": [
    "import spacy\n",
    "nlp = spacy.load('pl_core_news_sm')"
   ]
  },
  {
   "cell_type": "code",
   "execution_count": 13,
   "metadata": {},
   "outputs": [
    {
     "data": {
      "text/html": [
       "<div>\n",
       "<style scoped>\n",
       "    .dataframe tbody tr th:only-of-type {\n",
       "        vertical-align: middle;\n",
       "    }\n",
       "\n",
       "    .dataframe tbody tr th {\n",
       "        vertical-align: top;\n",
       "    }\n",
       "\n",
       "    .dataframe thead th {\n",
       "        text-align: right;\n",
       "    }\n",
       "</style>\n",
       "<table border=\"1\" class=\"dataframe\">\n",
       "  <thead>\n",
       "    <tr style=\"text-align: right;\">\n",
       "      <th></th>\n",
       "      <th>text_id</th>\n",
       "      <th>date</th>\n",
       "      <th>source</th>\n",
       "      <th>colocates</th>\n",
       "      <th>id</th>\n",
       "    </tr>\n",
       "  </thead>\n",
       "  <tbody>\n",
       "    <tr>\n",
       "      <th>0</th>\n",
       "      <td>111</td>\n",
       "      <td>2021-02-21</td>\n",
       "      <td>DoRzeczy</td>\n",
       "      <td>twierdzą  niezbędne żeby przeciwstawić się zmi...</td>\n",
       "      <td>0</td>\n",
       "    </tr>\n",
       "    <tr>\n",
       "      <th>1</th>\n",
       "      <td>156</td>\n",
       "      <td>2021-02-28</td>\n",
       "      <td>DoRzeczy</td>\n",
       "      <td>fałszywy alarm jak panika wokół zmiany klimatu...</td>\n",
       "      <td>1</td>\n",
       "    </tr>\n",
       "    <tr>\n",
       "      <th>2</th>\n",
       "      <td>156</td>\n",
       "      <td>2021-02-28</td>\n",
       "      <td>DoRzeczy</td>\n",
       "      <td>klimatyści tak jak model kosztów zmian klimaty...</td>\n",
       "      <td>2</td>\n",
       "    </tr>\n",
       "    <tr>\n",
       "      <th>3</th>\n",
       "      <td>156</td>\n",
       "      <td>2021-02-28</td>\n",
       "      <td>DoRzeczy</td>\n",
       "      <td>2030 r  aby rozwiązać problem zmian klimatyczn...</td>\n",
       "      <td>3</td>\n",
       "    </tr>\n",
       "    <tr>\n",
       "      <th>4</th>\n",
       "      <td>156</td>\n",
       "      <td>2021-02-28</td>\n",
       "      <td>DoRzeczy</td>\n",
       "      <td>trzeba by zrobić żeby utrzymać zmiany klimatyc...</td>\n",
       "      <td>4</td>\n",
       "    </tr>\n",
       "  </tbody>\n",
       "</table>\n",
       "</div>"
      ],
      "text/plain": [
       "   text_id       date    source  \\\n",
       "0      111 2021-02-21  DoRzeczy   \n",
       "1      156 2021-02-28  DoRzeczy   \n",
       "2      156 2021-02-28  DoRzeczy   \n",
       "3      156 2021-02-28  DoRzeczy   \n",
       "4      156 2021-02-28  DoRzeczy   \n",
       "\n",
       "                                           colocates  id  \n",
       "0  twierdzą  niezbędne żeby przeciwstawić się zmi...   0  \n",
       "1  fałszywy alarm jak panika wokół zmiany klimatu...   1  \n",
       "2  klimatyści tak jak model kosztów zmian klimaty...   2  \n",
       "3  2030 r  aby rozwiązać problem zmian klimatyczn...   3  \n",
       "4  trzeba by zrobić żeby utrzymać zmiany klimatyc...   4  "
      ]
     },
     "execution_count": 13,
     "metadata": {},
     "output_type": "execute_result"
    }
   ],
   "source": [
    "import pandas as pd\n",
    "import datetime\n",
    "import matplotlib.pyplot as plt\n",
    "\n",
    "df = pd.read_csv(\"colocates.csv\", parse_dates= ['date'])\n",
    "#df.colocate = df.colocate.apply(lambda colocate: \" \".join([token.lemma_ for token in nlp(colocate)]) )\n",
    "df.head()"
   ]
  },
  {
   "cell_type": "code",
   "execution_count": 18,
   "metadata": {},
   "outputs": [
    {
     "data": {
      "text/html": [
       "<div>\n",
       "<style scoped>\n",
       "    .dataframe tbody tr th:only-of-type {\n",
       "        vertical-align: middle;\n",
       "    }\n",
       "\n",
       "    .dataframe tbody tr th {\n",
       "        vertical-align: top;\n",
       "    }\n",
       "\n",
       "    .dataframe thead th {\n",
       "        text-align: right;\n",
       "    }\n",
       "</style>\n",
       "<table border=\"1\" class=\"dataframe\">\n",
       "  <thead>\n",
       "    <tr style=\"text-align: right;\">\n",
       "      <th></th>\n",
       "      <th>text_id</th>\n",
       "      <th>date</th>\n",
       "      <th>source</th>\n",
       "      <th>id</th>\n",
       "      <th>word</th>\n",
       "    </tr>\n",
       "  </thead>\n",
       "  <tbody>\n",
       "    <tr>\n",
       "      <th>0</th>\n",
       "      <td>111</td>\n",
       "      <td>2021-02-21</td>\n",
       "      <td>DoRzeczy</td>\n",
       "      <td>0</td>\n",
       "      <td>twierdzą</td>\n",
       "    </tr>\n",
       "    <tr>\n",
       "      <th>0</th>\n",
       "      <td>111</td>\n",
       "      <td>2021-02-21</td>\n",
       "      <td>DoRzeczy</td>\n",
       "      <td>0</td>\n",
       "      <td></td>\n",
       "    </tr>\n",
       "    <tr>\n",
       "      <th>0</th>\n",
       "      <td>111</td>\n",
       "      <td>2021-02-21</td>\n",
       "      <td>DoRzeczy</td>\n",
       "      <td>0</td>\n",
       "      <td>niezbędne</td>\n",
       "    </tr>\n",
       "    <tr>\n",
       "      <th>0</th>\n",
       "      <td>111</td>\n",
       "      <td>2021-02-21</td>\n",
       "      <td>DoRzeczy</td>\n",
       "      <td>0</td>\n",
       "      <td>żeby</td>\n",
       "    </tr>\n",
       "    <tr>\n",
       "      <th>0</th>\n",
       "      <td>111</td>\n",
       "      <td>2021-02-21</td>\n",
       "      <td>DoRzeczy</td>\n",
       "      <td>0</td>\n",
       "      <td>przeciwstawić</td>\n",
       "    </tr>\n",
       "  </tbody>\n",
       "</table>\n",
       "</div>"
      ],
      "text/plain": [
       "   text_id       date    source  id           word\n",
       "0      111 2021-02-21  DoRzeczy   0       twierdzą\n",
       "0      111 2021-02-21  DoRzeczy   0               \n",
       "0      111 2021-02-21  DoRzeczy   0      niezbędne\n",
       "0      111 2021-02-21  DoRzeczy   0           żeby\n",
       "0      111 2021-02-21  DoRzeczy   0  przeciwstawić"
      ]
     },
     "execution_count": 18,
     "metadata": {},
     "output_type": "execute_result"
    }
   ],
   "source": [
    "df['word'] = df.colocates.str.split(\" \")\n",
    "df = df.explode('word')\n",
    "df.drop('colocates', inplace=True, axis=1)\n",
    "df.head()"
   ]
  },
  {
   "cell_type": "code",
   "execution_count": 19,
   "metadata": {},
   "outputs": [
    {
     "name": "stdout",
     "output_type": "stream",
     "text": [
      "34 windows created\n"
     ]
    }
   ],
   "source": [
    "window_width = 6 * 30 # 6 months\n",
    "time_step = 3 * 30 # 3 months\n",
    "\n",
    "start_date = df.date.min()\n",
    "end_date = start_date + datetime.timedelta(days=window_width)\n",
    "max_date = df.date.max()\n",
    "\n",
    "df['window_group'] = None\n",
    "index = 0\n",
    "dates = []\n",
    "while start_date < max_date:\n",
    "    df.loc[df.date.between(start_date, end_date), 'window_group'] = index\n",
    "    end_date += datetime.timedelta(days=time_step)\n",
    "    start_date += datetime.timedelta(days=time_step)\n",
    "    dates.append(start_date + datetime.timedelta(days=window_width/2))\n",
    "    index += 1\n",
    "    \n",
    "print(f\"{index + 1} windows created\")"
   ]
  },
  {
   "cell_type": "code",
   "execution_count": 20,
   "metadata": {},
   "outputs": [
    {
     "name": "stdout",
     "output_type": "stream",
     "text": [
      "Number of unique words: 15332\n"
     ]
    }
   ],
   "source": [
    "n_words =len(df['word'].unique())\n",
    "print(f\"Number of unique words: {n_words}\")"
   ]
  },
  {
   "cell_type": "markdown",
   "metadata": {},
   "source": [
    "# Vector"
   ]
  },
  {
   "cell_type": "code",
   "execution_count": 21,
   "metadata": {},
   "outputs": [
    {
     "data": {
      "text/plain": [
       "Text(0, 0.5, 'Number of nodes')"
      ]
     },
     "execution_count": 21,
     "metadata": {},
     "output_type": "execute_result"
    },
    {
     "data": {
      "image/png": "[encoded data removed]",
      "text/plain": [
       "<Figure size 640x480 with 1 Axes>"
      ]
     },
     "metadata": {},
     "output_type": "display_data"
    }
   ],
   "source": [
    "window_nodes_count = df.groupby('window_group').id.unique().apply(len)\n",
    "plt.scatter(dates, window_nodes_count)\n",
    "plt.xlabel('Date')\n",
    "plt.ylabel('Number of nodes')"
   ]
  },
  {
   "cell_type": "code",
   "execution_count": 22,
   "metadata": {},
   "outputs": [
    {
     "data": {
      "text/plain": [
       "count     15332.000000\n",
       "mean         89.047352\n",
       "std        1289.197633\n",
       "min           9.000000\n",
       "25%          13.000000\n",
       "50%          13.000000\n",
       "75%          39.000000\n",
       "max      113705.000000\n",
       "Name: count, dtype: float64"
      ]
     },
     "execution_count": 22,
     "metadata": {},
     "output_type": "execute_result"
    }
   ],
   "source": [
    "import seaborn as sns\n",
    "count_words = df['word'].value_counts()\n",
    "count_words.describe()"
   ]
  },
  {
   "cell_type": "code",
   "execution_count": 23,
   "metadata": {},
   "outputs": [
    {
     "data": {
      "text/plain": [
       "Text(0, 0.5, 'Count')"
      ]
     },
     "execution_count": 23,
     "metadata": {},
     "output_type": "execute_result"
    },
    {
     "data": {
      "image/png": "[encoded data removed]",
      "text/plain": [
       "<Figure size 640x480 with 1 Axes>"
      ]
     },
     "metadata": {},
     "output_type": "display_data"
    }
   ],
   "source": [
    "plt.hist(count_words[count_words > 100])\n",
    "plt.yscale('log')\n",
    "plt.xlabel('Times word appear')\n",
    "plt.ylabel('Count')"
   ]
  },
  {
   "cell_type": "markdown",
   "metadata": {},
   "source": [
    "# Colocates By Score"
   ]
  },
  {
   "cell_type": "code",
   "execution_count": 30,
   "metadata": {},
   "outputs": [
    {
     "data": {
      "text/plain": [
       "word\n",
       "            113705\n",
       "klimatu      61566\n",
       "zmian        43919\n",
       "w            34061\n",
       "zmiany       32435\n",
       "             ...  \n",
       "walka         1241\n",
       "jako          1237\n",
       "skutkami      1236\n",
       "działań       1222\n",
       "panelu        1220\n",
       "Name: count, Length: 100, dtype: int64"
      ]
     },
     "execution_count": 30,
     "metadata": {},
     "output_type": "execute_result"
    }
   ],
   "source": [
    "df['word'].value_counts().head(100)"
   ]
  },
  {
   "cell_type": "code",
   "execution_count": 25,
   "metadata": {},
   "outputs": [],
   "source": [
    "import os\n",
    "import pandas as pd\n",
    "\n",
    "path = \"corpus\"\n",
    "corp_files = os.listdir(path)\n",
    "data_list = []\n",
    "cols = [\"text\", \"id\", 'date', 'source']\n",
    "\n",
    "for file in corp_files:\n",
    "    # Load the data\n",
    "    data = pd.read_csv(path+\"/\"+file, parse_dates=['date'])\n",
    "   \n",
    "    # Make sure to only include columns of interest\n",
    "    if 'id' not in data.columns:\n",
    "        print(f\"No id in {file}\")\n",
    "        data['id'] = data.index\n",
    "    data = data[cols]   \n",
    "\n",
    "    # Append to list\n",
    "    data_list.append(data)\n",
    "\n",
    "df_corp = pd.concat(data_list)\n",
    "df_corp = df_corp[df_corp['text'].isna() == False]"
   ]
  },
  {
   "cell_type": "code",
   "execution_count": 34,
   "metadata": {},
   "outputs": [],
   "source": [
    "import numpy as np\n",
    "def MI(colocate, df_corp, df, n, fa):\n",
    "    fb = df_corp['text'].apply(lambda x: colocate in x).sum()  \n",
    "    fab = df[df['word'] == colocate]['id'].nunique()\n",
    "    return np.log2(n * (fab / (fa * fb)))\n",
    "\n",
    "fa = df.id.nunique()\n",
    "n = (df_corp['text'].str.split(\" \").apply(lambda x: len(x)) - 1).sum()"
   ]
  },
  {
   "cell_type": "code",
   "execution_count": 36,
   "metadata": {},
   "outputs": [
    {
     "data": {
      "text/plain": [
       "7.72523815114029"
      ]
     },
     "execution_count": 36,
     "metadata": {},
     "output_type": "execute_result"
    }
   ],
   "source": [
    "MI('walka', df_corp, df, n, fa)"
   ]
  },
  {
   "cell_type": "code",
   "execution_count": null,
   "metadata": {},
   "outputs": [],
   "source": [
    "#Todo: Delta P"
   ]
  },
  {
   "cell_type": "markdown",
   "metadata": {},
   "source": [
    "# Selected Colocates into Vector"
   ]
  },
  {
   "cell_type": "code",
   "execution_count": 27,
   "metadata": {},
   "outputs": [],
   "source": [
    "#Todo: decide what does it mean to colocate with the other word\n",
    "#Frequency treshold with normalization "
   ]
  }
 ],
 "metadata": {
  "kernelspec": {
   "display_name": "Python 3",
   "language": "python",
   "name": "python3"
  },
  "language_info": {
   "codemirror_mode": {
    "name": "ipython",
    "version": 3
   },
   "file_extension": ".py",
   "mimetype": "text/x-python",
   "name": "python",
   "nbconvert_exporter": "python",
   "pygments_lexer": "ipython3",
   "version": "3.11.6"
  }
 },
 "nbformat": 4,
 "nbformat_minor": 2
}
