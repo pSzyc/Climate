{
 "cells": [
  {
   "cell_type": "code",
   "execution_count": 1,
   "metadata": {},
   "outputs": [],
   "source": [
    "from wyborcza import get_article_data\n",
    "import pandas as pd\n",
    "from selenium import webdriver\n",
    "from tqdm import tqdm\n",
    "from selenium.webdriver.chrome.options import Options\n",
    "chrome_options = Options()\n",
    "chrome_options.add_argument('--no-sandbox')\n",
    "chrome_options.add_argument(\"--headless\")\n",
    "chrome_options.add_argument(\"user-data-dir=selenium\")"
   ]
  },
  {
   "cell_type": "code",
   "execution_count": 2,
   "metadata": {},
   "outputs": [
    {
     "data": {
      "text/html": [
       "<div>\n",
       "<style scoped>\n",
       "    .dataframe tbody tr th:only-of-type {\n",
       "        vertical-align: middle;\n",
       "    }\n",
       "\n",
       "    .dataframe tbody tr th {\n",
       "        vertical-align: top;\n",
       "    }\n",
       "\n",
       "    .dataframe thead th {\n",
       "        text-align: right;\n",
       "    }\n",
       "</style>\n",
       "<table border=\"1\" class=\"dataframe\">\n",
       "  <thead>\n",
       "    <tr style=\"text-align: right;\">\n",
       "      <th></th>\n",
       "      <th>Title</th>\n",
       "      <th>Department</th>\n",
       "      <th>Author</th>\n",
       "      <th>Date</th>\n",
       "      <th>Text</th>\n",
       "      <th>Link</th>\n",
       "    </tr>\n",
       "  </thead>\n",
       "  <tbody>\n",
       "    <tr>\n",
       "      <th>0</th>\n",
       "      <td>BO ZABRAKŁO JAROSŁAWA</td>\n",
       "      <td>Gazeta Wyborcza</td>\n",
       "      <td>TOMASZ URZYKOWSKI</td>\n",
       "      <td>2019-01-02</td>\n",
       "      <td>Przygotowana z rozmachem ekspozycja \"Znaki wol...</td>\n",
       "      <td>https://classic.wyborcza.pl/archiwumGW/9012194...</td>\n",
       "    </tr>\n",
       "    <tr>\n",
       "      <th>1</th>\n",
       "      <td>TAK W PAŃSTWIE PiS FAŁSZUJĄ HISTORIĘ</td>\n",
       "      <td>Gazeta Wyborcza</td>\n",
       "      <td>NaN</td>\n",
       "      <td>2019-01-02</td>\n",
       "      <td>To zdjęcie przedstawia Lecha i Jarosława Kaczy...</td>\n",
       "      <td>https://classic.wyborcza.pl/archiwumGW/9012193...</td>\n",
       "    </tr>\n",
       "    <tr>\n",
       "      <th>2</th>\n",
       "      <td>SCENARIUSZE NA NOWY ROK</td>\n",
       "      <td>Gazeta Wyborcza</td>\n",
       "      <td>WITOLD GADOMSKI</td>\n",
       "      <td>2019-01-02</td>\n",
       "      <td>To będzie rok wyborczy, więc działania polityk...</td>\n",
       "      <td>https://classic.wyborcza.pl/archiwumGW/9012195...</td>\n",
       "    </tr>\n",
       "    <tr>\n",
       "      <th>3</th>\n",
       "      <td>KTO POKIERUJE UNIĄ EUROPEJSKĄ</td>\n",
       "      <td>Gazeta Wyborcza</td>\n",
       "      <td>BARTOSZ T. WIELIŃSKI</td>\n",
       "      <td>2019-01-02</td>\n",
       "      <td>Oficjalnie Angela Merkel o przeprowadzce do br...</td>\n",
       "      <td>https://classic.wyborcza.pl/archiwumGW/9012198...</td>\n",
       "    </tr>\n",
       "    <tr>\n",
       "      <th>4</th>\n",
       "      <td>NBP pisze do \"Wyborczej\"</td>\n",
       "      <td>Gazeta Wyborcza</td>\n",
       "      <td>AGNIESZKA KUBLIK, WOJCIECH CZUCHNOWSKI</td>\n",
       "      <td>2019-01-02</td>\n",
       "      <td>Pytania do NBP, m.in. o związki prezesa Adama ...</td>\n",
       "      <td>https://classic.wyborcza.pl/archiwumGW/9012196...</td>\n",
       "    </tr>\n",
       "  </tbody>\n",
       "</table>\n",
       "</div>"
      ],
      "text/plain": [
       "                                  Title       Department  \\\n",
       "0                 BO ZABRAKŁO JAROSŁAWA  Gazeta Wyborcza   \n",
       "1  TAK W PAŃSTWIE PiS FAŁSZUJĄ HISTORIĘ  Gazeta Wyborcza   \n",
       "2               SCENARIUSZE NA NOWY ROK  Gazeta Wyborcza   \n",
       "3         KTO POKIERUJE UNIĄ EUROPEJSKĄ  Gazeta Wyborcza   \n",
       "4              NBP pisze do \"Wyborczej\"  Gazeta Wyborcza   \n",
       "\n",
       "                                   Author        Date  \\\n",
       "0                       TOMASZ URZYKOWSKI  2019-01-02   \n",
       "1                                     NaN  2019-01-02   \n",
       "2                         WITOLD GADOMSKI  2019-01-02   \n",
       "3                    BARTOSZ T. WIELIŃSKI  2019-01-02   \n",
       "4  AGNIESZKA KUBLIK, WOJCIECH CZUCHNOWSKI  2019-01-02   \n",
       "\n",
       "                                                Text  \\\n",
       "0  Przygotowana z rozmachem ekspozycja \"Znaki wol...   \n",
       "1  To zdjęcie przedstawia Lecha i Jarosława Kaczy...   \n",
       "2  To będzie rok wyborczy, więc działania polityk...   \n",
       "3  Oficjalnie Angela Merkel o przeprowadzce do br...   \n",
       "4  Pytania do NBP, m.in. o związki prezesa Adama ...   \n",
       "\n",
       "                                                Link  \n",
       "0  https://classic.wyborcza.pl/archiwumGW/9012194...  \n",
       "1  https://classic.wyborcza.pl/archiwumGW/9012193...  \n",
       "2  https://classic.wyborcza.pl/archiwumGW/9012195...  \n",
       "3  https://classic.wyborcza.pl/archiwumGW/9012198...  \n",
       "4  https://classic.wyborcza.pl/archiwumGW/9012196...  "
      ]
     },
     "execution_count": 2,
     "metadata": {},
     "output_type": "execute_result"
    }
   ],
   "source": [
    "df = pd.read_csv(\"wyborcza.csv\")\n",
    "df.head()"
   ]
  },
  {
   "cell_type": "code",
   "execution_count": 3,
   "metadata": {},
   "outputs": [
    {
     "data": {
      "text/html": [
       "<div>\n",
       "<style scoped>\n",
       "    .dataframe tbody tr th:only-of-type {\n",
       "        vertical-align: middle;\n",
       "    }\n",
       "\n",
       "    .dataframe tbody tr th {\n",
       "        vertical-align: top;\n",
       "    }\n",
       "\n",
       "    .dataframe thead th {\n",
       "        text-align: right;\n",
       "    }\n",
       "</style>\n",
       "<table border=\"1\" class=\"dataframe\">\n",
       "  <thead>\n",
       "    <tr style=\"text-align: right;\">\n",
       "      <th></th>\n",
       "      <th>Title</th>\n",
       "      <th>Department</th>\n",
       "      <th>Author</th>\n",
       "      <th>Date</th>\n",
       "      <th>Text</th>\n",
       "      <th>Link</th>\n",
       "    </tr>\n",
       "  </thead>\n",
       "  <tbody>\n",
       "    <tr>\n",
       "      <th>204320</th>\n",
       "      <td>AGA ZANO, TŁUMACZKA</td>\n",
       "      <td>NaN</td>\n",
       "      <td>ARKADIUSZ GRUSZCZYŃSKI</td>\n",
       "      <td>2022-12-31</td>\n",
       "      <td>Aga Zano to tłumaczka z języka angielskiego ta...</td>\n",
       "      <td>https://classic.wyborcza.pl/archiwumGW/9231541...</td>\n",
       "    </tr>\n",
       "    <tr>\n",
       "      <th>204321</th>\n",
       "      <td>MAGDA SZPECH, AKTYWISTKA, CYBERELFKA</td>\n",
       "      <td>NaN</td>\n",
       "      <td>ARKADIUSZ GRUSZCZYŃSKI</td>\n",
       "      <td>2022-12-31</td>\n",
       "      <td>Szpecht jest reżyserką teatralną, która 24 lut...</td>\n",
       "      <td>https://classic.wyborcza.pl/archiwumGW/9231545...</td>\n",
       "    </tr>\n",
       "    <tr>\n",
       "      <th>204322</th>\n",
       "      <td>ANNA BAŃKOWSKA, TŁUMACZKA</td>\n",
       "      <td>NaN</td>\n",
       "      <td>MAGDALENA KARST-ADAMCZYK</td>\n",
       "      <td>2022-12-31</td>\n",
       "      <td>Nowe tłumaczenie książki znanej przez dekady p...</td>\n",
       "      <td>https://classic.wyborcza.pl/archiwumGW/9231553...</td>\n",
       "    </tr>\n",
       "    <tr>\n",
       "      <th>204323</th>\n",
       "      <td>KRYSTYNA LEWENFISZ, PRODUCENTKA</td>\n",
       "      <td>NaN</td>\n",
       "      <td>PAULA SZEWCZYK</td>\n",
       "      <td>2022-12-31</td>\n",
       "      <td>Gdy przeczytała książkę \"Mama zawsze wraca\", p...</td>\n",
       "      <td>https://classic.wyborcza.pl/archiwumGW/9231554...</td>\n",
       "    </tr>\n",
       "    <tr>\n",
       "      <th>204324</th>\n",
       "      <td>DR HANNA MACHIŃSKA, PRAWNICZKA, ZASTĘPCZYNI RPO</td>\n",
       "      <td>NaN</td>\n",
       "      <td>EDYTA BRYŁA</td>\n",
       "      <td>2022-12-31</td>\n",
       "      <td>\"Jako kobieta byłam bardzo wrażliwa na różne s...</td>\n",
       "      <td>https://classic.wyborcza.pl/archiwumGW/9231555...</td>\n",
       "    </tr>\n",
       "  </tbody>\n",
       "</table>\n",
       "</div>"
      ],
      "text/plain": [
       "                                                  Title Department  \\\n",
       "204320                              AGA ZANO, TŁUMACZKA        NaN   \n",
       "204321             MAGDA SZPECH, AKTYWISTKA, CYBERELFKA        NaN   \n",
       "204322                        ANNA BAŃKOWSKA, TŁUMACZKA        NaN   \n",
       "204323                  KRYSTYNA LEWENFISZ, PRODUCENTKA        NaN   \n",
       "204324  DR HANNA MACHIŃSKA, PRAWNICZKA, ZASTĘPCZYNI RPO        NaN   \n",
       "\n",
       "                          Author        Date  \\\n",
       "204320    ARKADIUSZ GRUSZCZYŃSKI  2022-12-31   \n",
       "204321    ARKADIUSZ GRUSZCZYŃSKI  2022-12-31   \n",
       "204322  MAGDALENA KARST-ADAMCZYK  2022-12-31   \n",
       "204323            PAULA SZEWCZYK  2022-12-31   \n",
       "204324               EDYTA BRYŁA  2022-12-31   \n",
       "\n",
       "                                                     Text  \\\n",
       "204320  Aga Zano to tłumaczka z języka angielskiego ta...   \n",
       "204321  Szpecht jest reżyserką teatralną, która 24 lut...   \n",
       "204322  Nowe tłumaczenie książki znanej przez dekady p...   \n",
       "204323  Gdy przeczytała książkę \"Mama zawsze wraca\", p...   \n",
       "204324  \"Jako kobieta byłam bardzo wrażliwa na różne s...   \n",
       "\n",
       "                                                     Link  \n",
       "204320  https://classic.wyborcza.pl/archiwumGW/9231541...  \n",
       "204321  https://classic.wyborcza.pl/archiwumGW/9231545...  \n",
       "204322  https://classic.wyborcza.pl/archiwumGW/9231553...  \n",
       "204323  https://classic.wyborcza.pl/archiwumGW/9231554...  \n",
       "204324  https://classic.wyborcza.pl/archiwumGW/9231555...  "
      ]
     },
     "execution_count": 3,
     "metadata": {},
     "output_type": "execute_result"
    }
   ],
   "source": [
    "df.tail()"
   ]
  },
  {
   "cell_type": "code",
   "execution_count": 4,
   "metadata": {},
   "outputs": [
    {
     "name": "stderr",
     "output_type": "stream",
     "text": [
      "0it [00:00, ?it/s]\n"
     ]
    }
   ],
   "source": [
    "links = df[df['Title'] == 'ERROR'].Link\n",
    "driver = webdriver.Chrome(options=chrome_options)\n",
    "data_list = []\n",
    "for link in tqdm(links):\n",
    "    data_list.append(get_article_data(link, driver))"
   ]
  },
  {
   "cell_type": "code",
   "execution_count": 5,
   "metadata": {},
   "outputs": [],
   "source": [
    "df_corrected = pd.DataFrame(data_list)\n",
    "df_corrected = df_corrected.rename(columns=lambda x: x[0].upper() + x[1:])"
   ]
  },
  {
   "cell_type": "code",
   "execution_count": 9,
   "metadata": {},
   "outputs": [
    {
     "data": {
      "text/html": [
       "<div>\n",
       "<style scoped>\n",
       "    .dataframe tbody tr th:only-of-type {\n",
       "        vertical-align: middle;\n",
       "    }\n",
       "\n",
       "    .dataframe tbody tr th {\n",
       "        vertical-align: top;\n",
       "    }\n",
       "\n",
       "    .dataframe thead th {\n",
       "        text-align: right;\n",
       "    }\n",
       "</style>\n",
       "<table border=\"1\" class=\"dataframe\">\n",
       "  <thead>\n",
       "    <tr style=\"text-align: right;\">\n",
       "      <th></th>\n",
       "    </tr>\n",
       "  </thead>\n",
       "  <tbody>\n",
       "  </tbody>\n",
       "</table>\n",
       "</div>"
      ],
      "text/plain": [
       "Empty DataFrame\n",
       "Columns: []\n",
       "Index: []"
      ]
     },
     "execution_count": 9,
     "metadata": {},
     "output_type": "execute_result"
    }
   ],
   "source": [
    "df_corrected.head()"
   ]
  },
  {
   "cell_type": "code",
   "execution_count": 8,
   "metadata": {},
   "outputs": [
    {
     "ename": "KeyError",
     "evalue": "\"None of ['Link'] are in the columns\"",
     "output_type": "error",
     "traceback": [
      "\u001b[0;31m---------------------------------------------------------------------------\u001b[0m",
      "\u001b[0;31mKeyError\u001b[0m                                  Traceback (most recent call last)",
      "\u001b[0;32m/tmp/ipykernel_3000/347117374.py\u001b[0m in \u001b[0;36m?\u001b[0;34m()\u001b[0m\n\u001b[1;32m      1\u001b[0m \u001b[0mdf_prime\u001b[0m \u001b[0;34m=\u001b[0m \u001b[0mdf\u001b[0m\u001b[0;34m.\u001b[0m\u001b[0mset_index\u001b[0m\u001b[0;34m(\u001b[0m\u001b[0;34m\"Link\"\u001b[0m\u001b[0;34m)\u001b[0m\u001b[0;34m\u001b[0m\u001b[0;34m\u001b[0m\u001b[0m\n\u001b[0;32m----> 2\u001b[0;31m \u001b[0mdf_prime\u001b[0m\u001b[0;34m.\u001b[0m\u001b[0mupdate\u001b[0m\u001b[0;34m(\u001b[0m\u001b[0mdf_corrected\u001b[0m\u001b[0;34m.\u001b[0m\u001b[0mset_index\u001b[0m\u001b[0;34m(\u001b[0m\u001b[0;34m\"Link\"\u001b[0m\u001b[0;34m)\u001b[0m\u001b[0;34m)\u001b[0m\u001b[0;34m\u001b[0m\u001b[0;34m\u001b[0m\u001b[0m\n\u001b[0m",
      "\u001b[0;32m~/.local/lib/python3.11/site-packages/pandas/core/frame.py\u001b[0m in \u001b[0;36m?\u001b[0;34m(self, keys, drop, append, inplace, verify_integrity)\u001b[0m\n\u001b[1;32m   5866\u001b[0m                     \u001b[0;32mif\u001b[0m \u001b[0;32mnot\u001b[0m \u001b[0mfound\u001b[0m\u001b[0;34m:\u001b[0m\u001b[0;34m\u001b[0m\u001b[0;34m\u001b[0m\u001b[0m\n\u001b[1;32m   5867\u001b[0m                         \u001b[0mmissing\u001b[0m\u001b[0;34m.\u001b[0m\u001b[0mappend\u001b[0m\u001b[0;34m(\u001b[0m\u001b[0mcol\u001b[0m\u001b[0;34m)\u001b[0m\u001b[0;34m\u001b[0m\u001b[0;34m\u001b[0m\u001b[0m\n\u001b[1;32m   5868\u001b[0m \u001b[0;34m\u001b[0m\u001b[0m\n\u001b[1;32m   5869\u001b[0m         \u001b[0;32mif\u001b[0m \u001b[0mmissing\u001b[0m\u001b[0;34m:\u001b[0m\u001b[0;34m\u001b[0m\u001b[0;34m\u001b[0m\u001b[0m\n\u001b[0;32m-> 5870\u001b[0;31m             \u001b[0;32mraise\u001b[0m \u001b[0mKeyError\u001b[0m\u001b[0;34m(\u001b[0m\u001b[0;34mf\"None of {missing} are in the columns\"\u001b[0m\u001b[0;34m)\u001b[0m\u001b[0;34m\u001b[0m\u001b[0;34m\u001b[0m\u001b[0m\n\u001b[0m\u001b[1;32m   5871\u001b[0m \u001b[0;34m\u001b[0m\u001b[0m\n\u001b[1;32m   5872\u001b[0m         \u001b[0;32mif\u001b[0m \u001b[0minplace\u001b[0m\u001b[0;34m:\u001b[0m\u001b[0;34m\u001b[0m\u001b[0;34m\u001b[0m\u001b[0m\n\u001b[1;32m   5873\u001b[0m             \u001b[0mframe\u001b[0m \u001b[0;34m=\u001b[0m \u001b[0mself\u001b[0m\u001b[0;34m\u001b[0m\u001b[0;34m\u001b[0m\u001b[0m\n",
      "\u001b[0;31mKeyError\u001b[0m: \"None of ['Link'] are in the columns\""
     ]
    }
   ],
   "source": [
    "df_prime = df.set_index(\"Link\")\n",
    "df_prime.update(df_corrected.set_index(\"Link\"))"
   ]
  },
  {
   "cell_type": "code",
   "execution_count": 6,
   "metadata": {},
   "outputs": [],
   "source": [
    "df_prime.to_csv(\"wyborcza_2019-2023.csv\")"
   ]
  }
 ],
 "metadata": {
  "kernelspec": {
   "display_name": "Python 3",
   "language": "python",
   "name": "python3"
  },
  "language_info": {
   "codemirror_mode": {
    "name": "ipython",
    "version": 3
   },
   "file_extension": ".py",
   "mimetype": "text/x-python",
   "name": "python",
   "nbconvert_exporter": "python",
   "pygments_lexer": "ipython3",
   "version": "3.11.6"
  }
 },
 "nbformat": 4,
 "nbformat_minor": 2
}
