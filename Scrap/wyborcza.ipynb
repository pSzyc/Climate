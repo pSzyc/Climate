{
 "cells": [
  {
   "cell_type": "code",
   "execution_count": 1,
   "metadata": {},
   "outputs": [],
   "source": [
    "from bs4 import BeautifulSoup\n",
    "import requests\n",
    "import csv\n",
    "import os\n",
    "from selenium.webdriver.chrome.options import Options\n",
    "from selenium import webdriver\n",
    "import multiprocessing"
   ]
  },
  {
   "cell_type": "code",
   "execution_count": 2,
   "metadata": {},
   "outputs": [],
   "source": [
    "html_parser = {\n",
    "    'title': 'art-title',\n",
    "    'department': 'art-product-name',\n",
    "    'author': 'art-author',\n",
    "    'date': 'art-datetime',\n",
    "    'text': 'art_paragraph'\n",
    "    }\n",
    "\n",
    "def get_articles(url):\n",
    "    soup = BeautifulSoup(requests.get(url).text, \"html.parser\")\n",
    "    articles = soup.find_all(class_='result-item-link',href=True)\n",
    "    return articles\n",
    "\n",
    "def get_article_data(link, driver):\n",
    "    data = {\n",
    "        'title': None,\n",
    "        'department': None,\n",
    "        'author': None,\n",
    "        'date': None,\n",
    "        'text': None,\n",
    "        'link': link\n",
    "    }\n",
    "    driver.get(link)\n",
    "    soup = BeautifulSoup(driver.page_source, \"html.parser\")\n",
    "    for key, value in html_parser.items():\n",
    "        try:\n",
    "            if key == 'text':\n",
    "                paragraphs = soup.find_all(class_=value)\n",
    "                data[key] = \" \".join([paragraph.text for  paragraph in paragraphs]).replace('\\n',\"\").strip()\n",
    "            else:\n",
    "                data[key] = soup.find(class_=value).text.replace('\\n',\"\").strip()\n",
    "        except:\n",
    "            print(f\"Key: {key} not found in {link}\")\n",
    "    return data\n",
    "\n",
    "def scrap_page(url):\n",
    "    chrome_options = Options()\n",
    "    chrome_options.add_argument(\"user-data-dir=selenium\")\n",
    "    chrome_options.add_argument('headless')\n",
    "    driver = webdriver.Chrome(options=chrome_options)\n",
    "    articles = get_articles(url)\n",
    "    data = []\n",
    "    for article in articles:\n",
    "        link='https://classic.wyborcza.pl/archiwumGW/'+article['href']\n",
    "        data.append(get_article_data(link, driver))\n",
    "    driver.close()\n",
    "    return data\n",
    "\n",
    "def valdidate_csv(csv_file):\n",
    "    if not os.path.exists(csv_file):\n",
    "        print(f\"Creating file {csv_file}\")\n",
    "        column_names = ['Title', 'Department', 'Author', 'Date', 'Text', 'Link']\n",
    "        with open(csv_file, 'w') as csvfile:\n",
    "            writer = csv.writer(csvfile)\n",
    "            writer.writerow(column_names)\n",
    "    else:\n",
    "        print(f\"Appending to {csv_file}\")"
   ]
  },
  {
   "cell_type": "code",
   "execution_count": 3,
   "metadata": {},
   "outputs": [
    {
     "name": "stdout",
     "output_type": "stream",
     "text": [
      "Appending to wyborcza.csv\n"
     ]
    }
   ],
   "source": [
    "csv_file = 'wyborcza.csv'\n",
    "valdidate_csv('wyborcza.csv')"
   ]
  },
  {
   "cell_type": "code",
   "execution_count": 4,
   "metadata": {},
   "outputs": [
    {
     "name": "stdout",
     "output_type": "stream",
     "text": [
      "Key: author not found in https://classic.wyborcza.pl/archiwumGW/7971829/KOMIKS-JACKA-FRASIA\n",
      "Key: author not found in https://classic.wyborcza.pl/archiwumGW/7971837/2014---NASZE-NAJLEPSZE-ZDJECIA\n",
      "Key: author not found in https://classic.wyborcza.pl/archiwumGW/7971834/2015--O-NICH-BEDZIE-GLOSNO\n",
      "Page 2\n",
      "Page 0\n",
      "Page 4\n",
      "Page 1\n",
      "Page 7\n",
      "Page 8\n",
      "Page 5\n",
      "Page 9\n",
      "Page 6\n"
     ]
    },
    {
     "ename": "WebDriverException",
     "evalue": "Message: unknown error: cannot parse internal JSON template: Line: 1, column: 1, Unexpected token.\nStacktrace:\n#0 0x55f119309f83 <unknown>\n#1 0x55f118fc2cf7 <unknown>\n#2 0x55f118ffddba <unknown>\n#3 0x55f118ffe2fa <unknown>\n#4 0x55f118ff8d2c <unknown>\n#5 0x55f118ff726e <unknown>\n#6 0x55f11904780c <unknown>\n#7 0x55f11903be53 <unknown>\n#8 0x55f119003dd4 <unknown>\n#9 0x55f1190051de <unknown>\n#10 0x55f1192ce531 <unknown>\n#11 0x55f1192d2455 <unknown>\n#12 0x55f1192baf55 <unknown>\n#13 0x55f1192d30ef <unknown>\n#14 0x55f11929e99f <unknown>\n#15 0x55f1192f7008 <unknown>\n#16 0x55f1192f71d7 <unknown>\n#17 0x55f119309124 <unknown>\n#18 0x7f3ccb7b2947 start_thread\n#19 0x7f3ccb838860 __clone3\n",
     "output_type": "error",
     "traceback": [
      "\u001b[0;31m---------------------------------------------------------------------------\u001b[0m",
      "\u001b[0;31mRemoteTraceback\u001b[0m                           Traceback (most recent call last)",
      "\u001b[0;31mRemoteTraceback\u001b[0m: \n\"\"\"\nTraceback (most recent call last):\n  File \"/usr/lib64/python3.11/multiprocessing/pool.py\", line 125, in worker\n    result = (True, func(*args, **kwds))\n                    ^^^^^^^^^^^^^^^^^^^\n  File \"/usr/lib64/python3.11/multiprocessing/pool.py\", line 48, in mapstar\n    return list(map(*args))\n           ^^^^^^^^^^^^^^^^\n  File \"/tmp/ipykernel_11593/3189634540.py\", line 3, in process_page\n    data_list = scrap_page(link_page)\n                ^^^^^^^^^^^^^^^^^^^^^\n  File \"/tmp/ipykernel_11593/4043336834.py\", line 40, in scrap_page\n    driver = webdriver.Chrome(options=chrome_options)\n             ^^^^^^^^^^^^^^^^^^^^^^^^^^^^^^^^^^^^^^^^\n  File \"/home/ps/.local/lib/python3.11/site-packages/selenium/webdriver/chrome/webdriver.py\", line 45, in __init__\n    super().__init__(\n  File \"/home/ps/.local/lib/python3.11/site-packages/selenium/webdriver/chromium/webdriver.py\", line 61, in __init__\n    super().__init__(command_executor=executor, options=options)\n  File \"/home/ps/.local/lib/python3.11/site-packages/selenium/webdriver/remote/webdriver.py\", line 209, in __init__\n    self.start_session(capabilities)\n  File \"/home/ps/.local/lib/python3.11/site-packages/selenium/webdriver/remote/webdriver.py\", line 293, in start_session\n    response = self.execute(Command.NEW_SESSION, caps)[\"value\"]\n               ^^^^^^^^^^^^^^^^^^^^^^^^^^^^^^^^^^^^^^^\n  File \"/home/ps/.local/lib/python3.11/site-packages/selenium/webdriver/remote/webdriver.py\", line 348, in execute\n    self.error_handler.check_response(response)\n  File \"/home/ps/.local/lib/python3.11/site-packages/selenium/webdriver/remote/errorhandler.py\", line 229, in check_response\n    raise exception_class(message, screen, stacktrace)\nselenium.common.exceptions.WebDriverException: Message: unknown error: cannot parse internal JSON template: Line: 1, column: 1, Unexpected token.\nStacktrace:\n#0 0x55f119309f83 <unknown>\n#1 0x55f118fc2cf7 <unknown>\n#2 0x55f118ffddba <unknown>\n#3 0x55f118ffe2fa <unknown>\n#4 0x55f118ff8d2c <unknown>\n#5 0x55f118ff726e <unknown>\n#6 0x55f11904780c <unknown>\n#7 0x55f11903be53 <unknown>\n#8 0x55f119003dd4 <unknown>\n#9 0x55f1190051de <unknown>\n#10 0x55f1192ce531 <unknown>\n#11 0x55f1192d2455 <unknown>\n#12 0x55f1192baf55 <unknown>\n#13 0x55f1192d30ef <unknown>\n#14 0x55f11929e99f <unknown>\n#15 0x55f1192f7008 <unknown>\n#16 0x55f1192f71d7 <unknown>\n#17 0x55f119309124 <unknown>\n#18 0x7f3ccb7b2947 start_thread\n#19 0x7f3ccb838860 __clone3\n\n\"\"\"",
      "\nThe above exception was the direct cause of the following exception:\n",
      "\u001b[0;31mWebDriverException\u001b[0m                        Traceback (most recent call last)",
      "Cell \u001b[0;32mIn[4], line 8\u001b[0m\n\u001b[1;32m      5\u001b[0m     \u001b[38;5;28;01mreturn\u001b[39;00m data_list\n\u001b[1;32m      7\u001b[0m \u001b[38;5;28;01mwith\u001b[39;00m multiprocessing\u001b[38;5;241m.\u001b[39mPool(\u001b[38;5;241m4\u001b[39m) \u001b[38;5;28;01mas\u001b[39;00m pool:\n\u001b[0;32m----> 8\u001b[0m     results \u001b[38;5;241m=\u001b[39m \u001b[43mpool\u001b[49m\u001b[38;5;241;43m.\u001b[39;49m\u001b[43mmap\u001b[49m\u001b[43m(\u001b[49m\u001b[43mprocess_page\u001b[49m\u001b[43m,\u001b[49m\u001b[43m \u001b[49m\u001b[38;5;28;43mrange\u001b[39;49m\u001b[43m(\u001b[49m\u001b[38;5;241;43m10\u001b[39;49m\u001b[43m)\u001b[49m\u001b[43m)\u001b[49m\n\u001b[1;32m     10\u001b[0m \u001b[38;5;28;01mwith\u001b[39;00m \u001b[38;5;28mopen\u001b[39m(csv_file, \u001b[38;5;124m'\u001b[39m\u001b[38;5;124ma\u001b[39m\u001b[38;5;124m'\u001b[39m, newline\u001b[38;5;241m=\u001b[39m\u001b[38;5;124m'\u001b[39m\u001b[38;5;124m'\u001b[39m) \u001b[38;5;28;01mas\u001b[39;00m file:\n\u001b[1;32m     11\u001b[0m     writer \u001b[38;5;241m=\u001b[39m csv\u001b[38;5;241m.\u001b[39mwriter(file)\n",
      "File \u001b[0;32m/usr/lib64/python3.11/multiprocessing/pool.py:367\u001b[0m, in \u001b[0;36mPool.map\u001b[0;34m(self, func, iterable, chunksize)\u001b[0m\n\u001b[1;32m    362\u001b[0m \u001b[38;5;28;01mdef\u001b[39;00m \u001b[38;5;21mmap\u001b[39m(\u001b[38;5;28mself\u001b[39m, func, iterable, chunksize\u001b[38;5;241m=\u001b[39m\u001b[38;5;28;01mNone\u001b[39;00m):\n\u001b[1;32m    363\u001b[0m \u001b[38;5;250m    \u001b[39m\u001b[38;5;124;03m'''\u001b[39;00m\n\u001b[1;32m    364\u001b[0m \u001b[38;5;124;03m    Apply `func` to each element in `iterable`, collecting the results\u001b[39;00m\n\u001b[1;32m    365\u001b[0m \u001b[38;5;124;03m    in a list that is returned.\u001b[39;00m\n\u001b[1;32m    366\u001b[0m \u001b[38;5;124;03m    '''\u001b[39;00m\n\u001b[0;32m--> 367\u001b[0m     \u001b[38;5;28;01mreturn\u001b[39;00m \u001b[38;5;28;43mself\u001b[39;49m\u001b[38;5;241;43m.\u001b[39;49m\u001b[43m_map_async\u001b[49m\u001b[43m(\u001b[49m\u001b[43mfunc\u001b[49m\u001b[43m,\u001b[49m\u001b[43m \u001b[49m\u001b[43miterable\u001b[49m\u001b[43m,\u001b[49m\u001b[43m \u001b[49m\u001b[43mmapstar\u001b[49m\u001b[43m,\u001b[49m\u001b[43m \u001b[49m\u001b[43mchunksize\u001b[49m\u001b[43m)\u001b[49m\u001b[38;5;241;43m.\u001b[39;49m\u001b[43mget\u001b[49m\u001b[43m(\u001b[49m\u001b[43m)\u001b[49m\n",
      "File \u001b[0;32m/usr/lib64/python3.11/multiprocessing/pool.py:774\u001b[0m, in \u001b[0;36mApplyResult.get\u001b[0;34m(self, timeout)\u001b[0m\n\u001b[1;32m    772\u001b[0m     \u001b[38;5;28;01mreturn\u001b[39;00m \u001b[38;5;28mself\u001b[39m\u001b[38;5;241m.\u001b[39m_value\n\u001b[1;32m    773\u001b[0m \u001b[38;5;28;01melse\u001b[39;00m:\n\u001b[0;32m--> 774\u001b[0m     \u001b[38;5;28;01mraise\u001b[39;00m \u001b[38;5;28mself\u001b[39m\u001b[38;5;241m.\u001b[39m_value\n",
      "\u001b[0;31mWebDriverException\u001b[0m: Message: unknown error: cannot parse internal JSON template: Line: 1, column: 1, Unexpected token.\nStacktrace:\n#0 0x55f119309f83 <unknown>\n#1 0x55f118fc2cf7 <unknown>\n#2 0x55f118ffddba <unknown>\n#3 0x55f118ffe2fa <unknown>\n#4 0x55f118ff8d2c <unknown>\n#5 0x55f118ff726e <unknown>\n#6 0x55f11904780c <unknown>\n#7 0x55f11903be53 <unknown>\n#8 0x55f119003dd4 <unknown>\n#9 0x55f1190051de <unknown>\n#10 0x55f1192ce531 <unknown>\n#11 0x55f1192d2455 <unknown>\n#12 0x55f1192baf55 <unknown>\n#13 0x55f1192d30ef <unknown>\n#14 0x55f11929e99f <unknown>\n#15 0x55f1192f7008 <unknown>\n#16 0x55f1192f71d7 <unknown>\n#17 0x55f119309124 <unknown>\n#18 0x7f3ccb7b2947 start_thread\n#19 0x7f3ccb838860 __clone3\n"
     ]
    }
   ],
   "source": [
    "def process_page(page):\n",
    "    link_page = f'https://classic.wyborcza.pl/archiwumGW/0,160510.html?searchForm=&datePeriod=0&initDate=2015-01-01&endDate=2023-01-01&publicationsString=1%3B5&author=&page={page}&sort=OLDEST'\n",
    "    data_list = scrap_page(link_page)\n",
    "    print(f\"Page {page}\")\n",
    "    return data_list\n",
    "\n",
    "with multiprocessing.Pool(4) as pool:\n",
    "    results = pool.map(process_page, range(10))\n",
    "\n",
    "with open(csv_file, 'a', newline='') as file:\n",
    "    writer = csv.writer(file)\n",
    "    for data_list in results:\n",
    "        for data in data_list:\n",
    "            writer.writerow([data['title'], data['department'], data['author'], data['date'], data['text'], data['link']])"
   ]
  }
 ],
 "metadata": {
  "kernelspec": {
   "display_name": "Python 3",
   "language": "python",
   "name": "python3"
  },
  "language_info": {
   "codemirror_mode": {
    "name": "ipython",
    "version": 3
   },
   "file_extension": ".py",
   "mimetype": "text/x-python",
   "name": "python",
   "nbconvert_exporter": "python",
   "pygments_lexer": "ipython3",
   "version": "3.11.6"
  }
 },
 "nbformat": 4,
 "nbformat_minor": 2
}
