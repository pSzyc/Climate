{
 "cells": [
  {
   "cell_type": "code",
   "execution_count": 1,
   "metadata": {},
   "outputs": [],
   "source": [
    "from wyborcza import get_article_data\n",
    "import pandas as pd\n",
    "from selenium import webdriver\n",
    "from tqdm import tqdm\n",
    "from selenium.webdriver.chrome.options import Options\n",
    "chrome_options = Options()\n",
    "chrome_options.add_argument('--no-sandbox')\n",
    "chrome_options.add_argument(\"--headless\")\n",
    "chrome_options.add_argument(\"user-data-dir=selenium\")"
   ]
  },
  {
   "cell_type": "code",
   "execution_count": 2,
   "metadata": {},
   "outputs": [
    {
     "data": {
      "text/html": [
       "<div>\n",
       "<style scoped>\n",
       "    .dataframe tbody tr th:only-of-type {\n",
       "        vertical-align: middle;\n",
       "    }\n",
       "\n",
       "    .dataframe tbody tr th {\n",
       "        vertical-align: top;\n",
       "    }\n",
       "\n",
       "    .dataframe thead th {\n",
       "        text-align: right;\n",
       "    }\n",
       "</style>\n",
       "<table border=\"1\" class=\"dataframe\">\n",
       "  <thead>\n",
       "    <tr style=\"text-align: right;\">\n",
       "      <th></th>\n",
       "      <th>Title</th>\n",
       "      <th>Department</th>\n",
       "      <th>Author</th>\n",
       "      <th>Date</th>\n",
       "      <th>Text</th>\n",
       "      <th>Link</th>\n",
       "    </tr>\n",
       "  </thead>\n",
       "  <tbody>\n",
       "    <tr>\n",
       "      <th>0</th>\n",
       "      <td>POZNAŃ 2015: CO POŁOŻYĆ NA SZALI?</td>\n",
       "      <td>Gazeta Lokalna - Poznan</td>\n",
       "      <td>REMIGIUSZ KOZIŃSKI;</td>\n",
       "      <td>2016-01-01</td>\n",
       "      <td>Śmierć dominikanina, przewodnika duchowego tys...</td>\n",
       "      <td>https://classic.wyborcza.pl/archiwumGW/8106617...</td>\n",
       "    </tr>\n",
       "    <tr>\n",
       "      <th>1</th>\n",
       "      <td>POZNAN.WYBORCZA.PL</td>\n",
       "      <td>Gazeta Lokalna - Poznan</td>\n",
       "      <td>NaN</td>\n",
       "      <td>2016-01-01</td>\n",
       "      <td>WYCHODZI 24 GODZINY NA DOBĘ Sześciu handlarzy ...</td>\n",
       "      <td>https://classic.wyborcza.pl/archiwumGW/8106619...</td>\n",
       "    </tr>\n",
       "    <tr>\n",
       "      <th>2</th>\n",
       "      <td>MARCIN WICHA rysuje Świętego Oburza</td>\n",
       "      <td>Gazeta Wyborcza - Kraj</td>\n",
       "      <td>NaN</td>\n",
       "      <td>2016-01-01</td>\n",
       "      <td>MARCIN WICHA rysuje Świętego Oburza</td>\n",
       "      <td>https://classic.wyborcza.pl/archiwumGW/8107058...</td>\n",
       "    </tr>\n",
       "    <tr>\n",
       "      <th>3</th>\n",
       "      <td>NUMERY LOTTO</td>\n",
       "      <td>Gazeta Wyborcza - Kraj</td>\n",
       "      <td>RED</td>\n",
       "      <td>2016-01-01</td>\n",
       "      <td>NaN</td>\n",
       "      <td>https://classic.wyborcza.pl/archiwumGW/8106730...</td>\n",
       "    </tr>\n",
       "    <tr>\n",
       "      <th>4</th>\n",
       "      <td>Prezydent wręczył szpitalowi prezent dla najmł...</td>\n",
       "      <td>Gazeta Lokalna - Wroclaw</td>\n",
       "      <td>BAS</td>\n",
       "      <td>2016-01-02</td>\n",
       "      <td>Nowe USG stanie w Klinice Ginekologii i Położn...</td>\n",
       "      <td>https://classic.wyborcza.pl/archiwumGW/8106663...</td>\n",
       "    </tr>\n",
       "  </tbody>\n",
       "</table>\n",
       "</div>"
      ],
      "text/plain": [
       "                                               Title  \\\n",
       "0                  POZNAŃ 2015: CO POŁOŻYĆ NA SZALI?   \n",
       "1                                 POZNAN.WYBORCZA.PL   \n",
       "2                MARCIN WICHA rysuje Świętego Oburza   \n",
       "3                                       NUMERY LOTTO   \n",
       "4  Prezydent wręczył szpitalowi prezent dla najmł...   \n",
       "\n",
       "                 Department               Author        Date  \\\n",
       "0   Gazeta Lokalna - Poznan  REMIGIUSZ KOZIŃSKI;  2016-01-01   \n",
       "1   Gazeta Lokalna - Poznan                  NaN  2016-01-01   \n",
       "2    Gazeta Wyborcza - Kraj                  NaN  2016-01-01   \n",
       "3    Gazeta Wyborcza - Kraj                  RED  2016-01-01   \n",
       "4  Gazeta Lokalna - Wroclaw                  BAS  2016-01-02   \n",
       "\n",
       "                                                Text  \\\n",
       "0  Śmierć dominikanina, przewodnika duchowego tys...   \n",
       "1  WYCHODZI 24 GODZINY NA DOBĘ Sześciu handlarzy ...   \n",
       "2                MARCIN WICHA rysuje Świętego Oburza   \n",
       "3                                                NaN   \n",
       "4  Nowe USG stanie w Klinice Ginekologii i Położn...   \n",
       "\n",
       "                                                Link  \n",
       "0  https://classic.wyborcza.pl/archiwumGW/8106617...  \n",
       "1  https://classic.wyborcza.pl/archiwumGW/8106619...  \n",
       "2  https://classic.wyborcza.pl/archiwumGW/8107058...  \n",
       "3  https://classic.wyborcza.pl/archiwumGW/8106730...  \n",
       "4  https://classic.wyborcza.pl/archiwumGW/8106663...  "
      ]
     },
     "execution_count": 2,
     "metadata": {},
     "output_type": "execute_result"
    }
   ],
   "source": [
    "df = pd.read_csv(\"wyborcza.csv\")\n",
    "df.head()"
   ]
  },
  {
   "cell_type": "code",
   "execution_count": 3,
   "metadata": {},
   "outputs": [
    {
     "name": "stderr",
     "output_type": "stream",
     "text": [
      "100%|██████████| 360/360 [02:25<00:00,  2.48it/s]\n"
     ]
    }
   ],
   "source": [
    "links = df[df['Title'] == 'ERROR'].Link\n",
    "driver = webdriver.Chrome(options=chrome_options)\n",
    "data_list = []\n",
    "for link in tqdm(links):\n",
    "    data_list.append(get_article_data(link, driver))"
   ]
  },
  {
   "cell_type": "code",
   "execution_count": 4,
   "metadata": {},
   "outputs": [],
   "source": [
    "df_corrected = pd.DataFrame(data_list)\n",
    "df_corrected = df_corrected.rename(columns=lambda x: x[0].upper() + x[1:])"
   ]
  },
  {
   "cell_type": "code",
   "execution_count": 5,
   "metadata": {},
   "outputs": [],
   "source": [
    "df_prime = df.set_index(\"Link\")\n",
    "df_prime.update(df_corrected.set_index(\"Link\"))"
   ]
  },
  {
   "cell_type": "code",
   "execution_count": 6,
   "metadata": {},
   "outputs": [],
   "source": [
    "df_prime.to_csv(\"wyborcza_2015.csv\")"
   ]
  }
 ],
 "metadata": {
  "kernelspec": {
   "display_name": "Python 3",
   "language": "python",
   "name": "python3"
  },
  "language_info": {
   "codemirror_mode": {
    "name": "ipython",
    "version": 3
   },
   "file_extension": ".py",
   "mimetype": "text/x-python",
   "name": "python",
   "nbconvert_exporter": "python",
   "pygments_lexer": "ipython3",
   "version": "3.11.7"
  }
 },
 "nbformat": 4,
 "nbformat_minor": 2
}
