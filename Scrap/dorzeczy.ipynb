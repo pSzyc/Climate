{
 "cells": [
  {
   "cell_type": "code",
   "execution_count": 5,
   "metadata": {},
   "outputs": [],
   "source": [
    "from pathlib import Path\n",
    "import requests\n",
    "from selenium.webdriver.chrome.options import Options\n",
    "from selenium import webdriver\n",
    "import time\n",
    "import pandas as pd\n",
    "import urllib\n",
    "import re\n",
    "import os\n",
    "import re"
   ]
  },
  {
   "cell_type": "code",
   "execution_count": 6,
   "metadata": {},
   "outputs": [],
   "source": [
    "def save_pdfs(pdfs, year):\n",
    "    pdfs.reverse()\n",
    "    for i, url in enumerate(pdfs):\n",
    "        output_file = \"DoRzeczy\"+str(year)\n",
    "        Path(output_file).mkdir(parents=True, exist_ok=True)\n",
    "        filename = Path(f'{output_file}/dorzeczy_{i+1}_{year}.pdf')\n",
    "        response = requests.get(url)\n",
    "        filename.write_bytes(response.content)"
   ]
  },
  {
   "cell_type": "code",
   "execution_count": 7,
   "metadata": {},
   "outputs": [
    {
     "name": "stdout",
     "output_type": "stream",
     "text": [
      "['https://tygodnik.dorzeczy.pl/archiwum/411/dorzeczy-1-2022.html', 'https://tygodnik.dorzeczy.pl/archiwum/412/dorzeczy-2-2022.html', 'https://tygodnik.dorzeczy.pl/archiwum/413/dorzeczy-3-2022.html', 'https://tygodnik.dorzeczy.pl/archiwum/414/dorzeczy-4-2022.html', 'https://tygodnik.dorzeczy.pl/archiwum/415/dorzeczy-5-2022.html', 'https://tygodnik.dorzeczy.pl/archiwum/416/dorzeczy-6-2022.html', 'https://tygodnik.dorzeczy.pl/archiwum/417/dorzeczy-7-2022.html', 'https://tygodnik.dorzeczy.pl/archiwum/418/dorzeczy-8-2022.html', 'https://tygodnik.dorzeczy.pl/archiwum/419/dorzeczy-9-2022.html', 'https://tygodnik.dorzeczy.pl/archiwum/420/dorzeczy-10-2022.html', 'https://tygodnik.dorzeczy.pl/archiwum/421/dorzeczy-11-2022.html', 'https://tygodnik.dorzeczy.pl/archiwum/422/dorzeczy-12-2022.html', 'https://tygodnik.dorzeczy.pl/archiwum/423/dorzeczy-13-2022.html', 'https://tygodnik.dorzeczy.pl/archiwum/424/dorzeczy-14-2022.html', 'https://tygodnik.dorzeczy.pl/archiwum/425/dorzeczy-15-2022.html', 'https://tygodnik.dorzeczy.pl/archiwum/426/dorzeczy-16-2022.html', 'https://tygodnik.dorzeczy.pl/archiwum/427/dorzeczy-17-2022.html', 'https://tygodnik.dorzeczy.pl/archiwum/428/dorzeczy-18-2022.html', 'https://tygodnik.dorzeczy.pl/archiwum/429/dorzeczy-19-2022.html', 'https://tygodnik.dorzeczy.pl/archiwum/430/dorzeczy-20-2022.html', 'https://tygodnik.dorzeczy.pl/archiwum/431/dorzeczy-21-2022.html', 'https://tygodnik.dorzeczy.pl/archiwum/432/dorzeczy-22-2022.html', 'https://tygodnik.dorzeczy.pl/archiwum/433/dorzeczy-23-2022.html', 'https://tygodnik.dorzeczy.pl/archiwum/434/dorzeczy-24-2022.html', 'https://tygodnik.dorzeczy.pl/archiwum/435/dorzeczy-25-2022.html', 'https://tygodnik.dorzeczy.pl/archiwum/436/dorzeczy-26-2022.html', 'https://tygodnik.dorzeczy.pl/archiwum/437/dorzeczy-27-2022.html', 'https://tygodnik.dorzeczy.pl/archiwum/438/dorzeczy-28-2022.html', 'https://tygodnik.dorzeczy.pl/archiwum/439/dorzeczy-29-2022.html', 'https://tygodnik.dorzeczy.pl/archiwum/440/dorzeczy-30-2022.html', 'https://tygodnik.dorzeczy.pl/archiwum/441/dorzeczy-31-2022.html', 'https://tygodnik.dorzeczy.pl/archiwum/442/dorzeczy-32-2022.html', 'https://tygodnik.dorzeczy.pl/archiwum/443/dorzeczy-33-2022.html', 'https://tygodnik.dorzeczy.pl/archiwum/444/dorzeczy-34-2022.html', 'https://tygodnik.dorzeczy.pl/archiwum/445/dorzeczy-35-2022.html', 'https://tygodnik.dorzeczy.pl/archiwum/446/dorzeczy-36-2022.html', 'https://tygodnik.dorzeczy.pl/archiwum/447/dorzeczy-37-2022.html', 'https://tygodnik.dorzeczy.pl/archiwum/448/dorzeczy-38-2022.html', 'https://tygodnik.dorzeczy.pl/archiwum/449/dorzeczy-39-2022.html', 'https://tygodnik.dorzeczy.pl/archiwum/450/dorzeczy-40-2022.html', 'https://tygodnik.dorzeczy.pl/archiwum/451/dorzeczy-41-2022.html', 'https://tygodnik.dorzeczy.pl/archiwum/452/dorzeczy-42-2022.html', 'https://tygodnik.dorzeczy.pl/archiwum/453/dorzeczy-43-2022.html', 'https://tygodnik.dorzeczy.pl/archiwum/454/dorzeczy-44-2022.html', 'https://tygodnik.dorzeczy.pl/archiwum/455/dorzeczy-45-2022.html', 'https://tygodnik.dorzeczy.pl/archiwum/456/dorzeczy-46-2022.html', 'https://tygodnik.dorzeczy.pl/archiwum/457/dorzeczy-47-2022.html', 'https://tygodnik.dorzeczy.pl/archiwum/458/dorzeczy-48-2022.html', 'https://tygodnik.dorzeczy.pl/archiwum/459/dorzeczy-49-2022.html', 'https://tygodnik.dorzeczy.pl/archiwum/460/dorzeczy-50-2022.html', 'https://tygodnik.dorzeczy.pl/archiwum/461/dorzeczy-51-2022.html', 'https://tygodnik.dorzeczy.pl/archiwum/462/dorzeczy-52-2022.html', 'https://tygodnik.dorzeczy.pl/archiwum/463/dorzeczy-53-2022.html', 'https://tygodnik.dorzeczy.pl/archiwum/464/dorzeczy-54-2022.html', 'https://tygodnik.dorzeczy.pl/archiwum/465/dorzeczy-55-2022.html', 'https://tygodnik.dorzeczy.pl/archiwum/466/dorzeczy-56-2022.html', 'https://tygodnik.dorzeczy.pl/archiwum/467/dorzeczy-57-2022.html', 'https://tygodnik.dorzeczy.pl/archiwum/468/dorzeczy-58-2022.html', 'https://tygodnik.dorzeczy.pl/archiwum/469/dorzeczy-59-2022.html', 'https://tygodnik.dorzeczy.pl/archiwum/470/dorzeczy-60-2022.html', 'https://tygodnik.dorzeczy.pl/archiwum/471/dorzeczy-61-2022.html', 'https://tygodnik.dorzeczy.pl/archiwum/472/dorzeczy-62-2022.html', 'https://tygodnik.dorzeczy.pl/archiwum/473/dorzeczy-63-2022.html', 'https://tygodnik.dorzeczy.pl/archiwum/474/dorzeczy-64-2022.html', 'https://tygodnik.dorzeczy.pl/archiwum/475/dorzeczy-65-2022.html', 'https://tygodnik.dorzeczy.pl/archiwum/476/dorzeczy-66-2022.html', 'https://tygodnik.dorzeczy.pl/archiwum/477/dorzeczy-67-2022.html', 'https://tygodnik.dorzeczy.pl/archiwum/478/dorzeczy-68-2022.html', 'https://tygodnik.dorzeczy.pl/archiwum/479/dorzeczy-69-2022.html', 'https://tygodnik.dorzeczy.pl/archiwum/480/dorzeczy-70-2022.html', 'https://tygodnik.dorzeczy.pl/archiwum/481/dorzeczy-71-2022.html', 'https://tygodnik.dorzeczy.pl/archiwum/482/dorzeczy-72-2022.html', 'https://tygodnik.dorzeczy.pl/archiwum/483/dorzeczy-73-2022.html', 'https://tygodnik.dorzeczy.pl/archiwum/484/dorzeczy-74-2022.html', 'https://tygodnik.dorzeczy.pl/archiwum/485/dorzeczy-75-2022.html', 'https://tygodnik.dorzeczy.pl/archiwum/486/dorzeczy-76-2022.html', 'https://tygodnik.dorzeczy.pl/archiwum/487/dorzeczy-77-2022.html', 'https://tygodnik.dorzeczy.pl/archiwum/488/dorzeczy-78-2022.html', 'https://tygodnik.dorzeczy.pl/archiwum/489/dorzeczy-79-2022.html', 'https://tygodnik.dorzeczy.pl/archiwum/490/dorzeczy-80-2022.html', 'https://tygodnik.dorzeczy.pl/archiwum/491/dorzeczy-81-2022.html', 'https://tygodnik.dorzeczy.pl/archiwum/492/dorzeczy-82-2022.html', 'https://tygodnik.dorzeczy.pl/archiwum/493/dorzeczy-83-2022.html', 'https://tygodnik.dorzeczy.pl/archiwum/494/dorzeczy-84-2022.html', 'https://tygodnik.dorzeczy.pl/archiwum/495/dorzeczy-85-2022.html', 'https://tygodnik.dorzeczy.pl/archiwum/496/dorzeczy-86-2022.html', 'https://tygodnik.dorzeczy.pl/archiwum/497/dorzeczy-87-2022.html', 'https://tygodnik.dorzeczy.pl/archiwum/498/dorzeczy-88-2022.html', 'https://tygodnik.dorzeczy.pl/archiwum/499/dorzeczy-89-2022.html', 'https://tygodnik.dorzeczy.pl/archiwum/500/dorzeczy-90-2022.html', 'https://tygodnik.dorzeczy.pl/archiwum/501/dorzeczy-91-2022.html', 'https://tygodnik.dorzeczy.pl/archiwum/502/dorzeczy-92-2022.html', 'https://tygodnik.dorzeczy.pl/archiwum/503/dorzeczy-93-2022.html', 'https://tygodnik.dorzeczy.pl/archiwum/504/dorzeczy-94-2022.html', 'https://tygodnik.dorzeczy.pl/archiwum/505/dorzeczy-95-2022.html', 'https://tygodnik.dorzeczy.pl/archiwum/506/dorzeczy-96-2022.html', 'https://tygodnik.dorzeczy.pl/archiwum/507/dorzeczy-97-2022.html']\n"
     ]
    }
   ],
   "source": [
    "chrome_options = Options()\n",
    "chrome_options.add_argument(\"user-data-dir=selenium\")\n",
    "driver = webdriver.Chrome(options=chrome_options)\n",
    "\n",
    "def get_url_mobi(link):\n",
    "    driver.get(link)\n",
    "    time.sleep(0.5)\n",
    "    button = driver.find_element('link text',\"pdf\")\n",
    "    button.click()\n",
    "    time.sleep(0.5)\n",
    "\n",
    "\n",
    "\n",
    "links =[]\n",
    "begin = 411\n",
    "end = 508\n",
    "for i in range(end - begin):\n",
    "        links.append(f\"https://tygodnik.dorzeczy.pl/archiwum/{begin + i}/dorzeczy-{i+1}-{2022}.html\")\n",
    "\n",
    "print(links)\n",
    "for link in links: pass #get_url_mobi(link)\n"
   ]
  },
  {
   "cell_type": "code",
   "execution_count": null,
   "metadata": {},
   "outputs": [],
   "source": [
    "def get_url(link):\n",
    "    driver.get(link)\n",
    "    button = driver.find_element('link text',\"MOBI\")\n",
    "    button.click()\n",
    "    time.sleep(2)\n",
    "    driver.switch_to.window(driver.window_handles[1])\n",
    "    pdf_link = driver.current_url\n",
    "    driver.close()\n",
    "    driver.switch_to.window(driver.window_handles[0])\n",
    "    print(pdf_link)\n",
    "    return pdf_link\n",
    "\n",
    "current_num = 536 - 29\n",
    "nums = [51, 51, 52, 51, 51, 51, 51, 52, 51]\n",
    "current_year = 2022\n",
    "\n",
    "for num in nums:\n",
    "    links =[]\n",
    "    for i in range(num):\n",
    "        links.append(f\"https://tygodnik.dorzeczy.pl/archiwum/{current_num}/dorzeczy-{num - i}-{current_year}.html\")\n",
    "        current_num -= 1\n",
    "    pdfs = [get_url(link) for link in links]\n",
    "    save_pdfs(pdfs, current_year)\n",
    "    current_year -= 1"
   ]
  },
  {
   "cell_type": "code",
   "execution_count": null,
   "metadata": {},
   "outputs": [],
   "source": [
    "\n",
    "\n",
    "folder_path = 'DoRzeczy2014'  # Replace this with the path to your folder\n",
    "\n",
    "# Define a regular expression pattern to match the files\n",
    "pattern = r'^(dorzeczy)_(\\d+)_(\\d+\\.pdf)$'\n",
    "\n",
    "def rename_files_in_folder(folder_path):\n",
    "    for filename in os.listdir(folder_path):\n",
    "        file_path = os.path.join(folder_path, filename)\n",
    "        if os.path.isfile(file_path):\n",
    "            match = re.match(pattern, filename)\n",
    "            if match:\n",
    "                prefix, index, year = match.groups()\n",
    "                new_index = int(index) - 2\n",
    "                new_filename = f\"{prefix}_{new_index}_{year}\"\n",
    "                new_file_path = os.path.join(folder_path, new_filename)\n",
    "                os.rename(file_path, new_file_path)\n",
    "                print(f\"Renamed {filename} to {new_filename}\")\n",
    "            else:\n",
    "                print(f\"Skipped {filename} (doesn't match the pattern)\")\n",
    "\n",
    "\n",
    "#rename_files_in_folder(folder_path)"
   ]
  },
  {
   "cell_type": "markdown",
   "metadata": {},
   "source": [
    "# DoRzeczy Dates"
   ]
  },
  {
   "cell_type": "code",
   "execution_count": 3,
   "metadata": {},
   "outputs": [
    {
     "name": "stdout",
     "output_type": "stream",
     "text": [
      "https://eprasa.pl/news/do-rzeczy?page=2\n",
      "https://eprasa.pl/news/do-rzeczy?page=3\n",
      "https://eprasa.pl/news/do-rzeczy?page=4\n",
      "https://eprasa.pl/news/do-rzeczy?page=5\n",
      "https://eprasa.pl/news/do-rzeczy?page=6\n",
      "https://eprasa.pl/news/do-rzeczy?page=7\n",
      "https://eprasa.pl/news/do-rzeczy\n"
     ]
    }
   ],
   "source": [
    "dates = set()\n",
    "\n",
    "links = [f'https://eprasa.pl/news/do-rzeczy?page={i}' for i in range(2,8)]\n",
    "links.append(\"https://eprasa.pl/news/do-rzeczy\")\n",
    "\n",
    "for link in links:\n",
    "        with urllib.request.urlopen(link) as url:\n",
    "            print(link)\n",
    "            s = url.read().decode('utf-8')\n",
    "            # I'm guessing this would output the html source code ?\n",
    "            dates.update(set(re.findall(\"(?<=Do Rzeczy )(\\d+) \\(([\\d\\.]+)\\)\", s)))\n",
    "\n",
    "dates.update(set([('17', '08.05.2022'),('17', '07.05.2023')]))"
   ]
  },
  {
   "cell_type": "code",
   "execution_count": null,
   "metadata": {},
   "outputs": [],
   "source": [
    "df = pd.DataFrame(dates, columns=['magazine_nr', 'date'])\n",
    "df['magazine_nr'] = df['magazine_nr'].astype(int)\n",
    "df['date'] = pd.to_datetime(df['date'], format='%d.%m.%Y')\n",
    "df.loc[(df.date.dt.year == 2023) & (df.magazine_nr > 17) & (df.magazine_nr < 21), 'magazine_nr'] -=1\n",
    "df.loc[(df.date.dt.year == 2022) & (df.magazine_nr > 17), 'magazine_nr'] -=1\n",
    "\n",
    "df.loc[df['date'].dt.year == 2022, 'magazine_nr'] += 456\n",
    "df.loc[72, 'magazine_nr'] += 51\n",
    "df.loc[df['date'].dt.year == 2021, 'magazine_nr'] += 405\n",
    "df.loc[df['date'].dt.year == 2023, 'magazine_nr'] += 507\n",
    "#df.to_csv('Extract/dorzeczy_dates.csv', index =False)"
   ]
  },
  {
   "cell_type": "code",
   "execution_count": null,
   "metadata": {},
   "outputs": [],
   "source": [
    "df.to_csv(\"Extract/dorzeczy_dates.csv\",index=False)"
   ]
  },
  {
   "cell_type": "code",
   "execution_count": null,
   "metadata": {},
   "outputs": [],
   "source": [
    "df[df['date'].dt.year ==2021].sort_values('magazine_nr')"
   ]
  },
  {
   "cell_type": "code",
   "execution_count": null,
   "metadata": {},
   "outputs": [],
   "source": [
    "df[df['magazine_nr'] == 473]['date']"
   ]
  },
  {
   "cell_type": "code",
   "execution_count": null,
   "metadata": {},
   "outputs": [],
   "source": [
    "import datetime\n",
    "\n",
    "double_date = datetime.date(2022,5,8)\n",
    "df[df['date'].dt > double_date]"
   ]
  }
 ],
 "metadata": {
  "kernelspec": {
   "display_name": "Python 3",
   "language": "python",
   "name": "python3"
  },
  "language_info": {
   "codemirror_mode": {
    "name": "ipython",
    "version": 3
   },
   "file_extension": ".py",
   "mimetype": "text/x-python",
   "name": "python",
   "nbconvert_exporter": "python",
   "pygments_lexer": "ipython3",
   "version": "3.11.4"
  },
  "orig_nbformat": 4
 },
 "nbformat": 4,
 "nbformat_minor": 2
}
