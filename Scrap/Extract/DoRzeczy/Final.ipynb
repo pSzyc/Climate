{
 "cells": [
  {
   "cell_type": "code",
   "execution_count": 22,
   "metadata": {},
   "outputs": [],
   "source": [
    "import pandas as pd\n",
    "import urllib\n",
    "import re\n",
    "from datetime import datetime"
   ]
  },
  {
   "cell_type": "markdown",
   "metadata": {},
   "source": [
    "# Epub and Mobi"
   ]
  },
  {
   "cell_type": "code",
   "execution_count": 23,
   "metadata": {},
   "outputs": [
    {
     "name": "stdout",
     "output_type": "stream",
     "text": [
      "https://eprasa.pl/news/do-rzeczy?page=2\n",
      "https://eprasa.pl/news/do-rzeczy?page=3\n",
      "https://eprasa.pl/news/do-rzeczy?page=4\n",
      "https://eprasa.pl/news/do-rzeczy?page=5\n",
      "https://eprasa.pl/news/do-rzeczy?page=6\n",
      "https://eprasa.pl/news/do-rzeczy?page=7\n",
      "https://eprasa.pl/news/do-rzeczy\n"
     ]
    }
   ],
   "source": [
    "dates = set()\n",
    "\n",
    "links = [f'https://eprasa.pl/news/do-rzeczy?page={i}' for i in range(2,8)]\n",
    "links.append(\"https://eprasa.pl/news/do-rzeczy\")\n",
    "\n",
    "for link in links:\n",
    "        with urllib.request.urlopen(link) as url:\n",
    "            print(link)\n",
    "            s = url.read().decode('utf-8')\n",
    "            # I'm guessing this would output the html source code ?\n",
    "            dates.update(set(re.findall(\"(?<=Do Rzeczy )(\\d+) \\(([\\d\\.]+)\\)\", s)))\n",
    "\n",
    "dates.update(set([('17', '08.05.2022'),('17', '07.05.2023')]))"
   ]
  },
  {
   "cell_type": "code",
   "execution_count": 24,
   "metadata": {},
   "outputs": [],
   "source": [
    "df_dates = pd.DataFrame(dates, columns=['magazine_nr', 'date'])\n",
    "df_dates['magazine_nr'] = df_dates['magazine_nr'].astype(int)\n",
    "df_dates['date'] = pd.to_datetime(df_dates['date'], format='%d.%m.%Y')\n",
    "df_dates.loc[(df_dates.date.dt.year == 2023) & (df_dates.magazine_nr > 17) & (df_dates.magazine_nr < 21), 'magazine_nr'] -=1\n",
    "df_dates.loc[(df_dates.date.dt.year == 2022) & (df_dates.magazine_nr > 17), 'magazine_nr'] -=1\n",
    "\n",
    "df_dates.loc[df_dates['date'].dt.year == 2022, 'magazine_nr'] += 456\n",
    "df_dates.loc[df_dates['date'].dt.year == 2021, 'magazine_nr'] += 405\n",
    "df_dates.loc[df_dates['date'].dt.year == 2023, 'magazine_nr'] += 507\n",
    "\n",
    "df_dates.loc[df_dates['date'] == datetime.strptime(\"27.12.2022\", \"%d.%m.%Y\"), \"magazine_nr\"] = 508\n",
    "df_dates.loc[df_dates['date'] == datetime.strptime(\"11.04.2022\", \"%d.%m.%Y\"), \"magazine_nr\"] = 573\n"
   ]
  },
  {
   "cell_type": "code",
   "execution_count": 25,
   "metadata": {},
   "outputs": [],
   "source": [
    "df_epub = pd.read_csv(\"Epub/from_epub.csv\")\n",
    "df_epub.drop(columns=\"Unnamed: 0\", inplace = True)\n",
    "df_mobi = pd.read_csv(\"Mobi/from_mobi.csv\")\n",
    "df_mobi.drop(columns=\"Unnamed: 0\", inplace = True)\n",
    "df_epub['file'] = 'epub'\n",
    "df_mobi['file'] = 'mobi'\n",
    "df_all = pd.concat([df_epub, df_mobi])\n",
    "df_all = pd.merge(df_all,df_dates, how='left', on='magazine_nr')"
   ]
  },
  {
   "cell_type": "code",
   "execution_count": 26,
   "metadata": {},
   "outputs": [
    {
     "data": {
      "text/html": [
       "<div>\n",
       "<style scoped>\n",
       "    .dataframe tbody tr th:only-of-type {\n",
       "        vertical-align: middle;\n",
       "    }\n",
       "\n",
       "    .dataframe tbody tr th {\n",
       "        vertical-align: top;\n",
       "    }\n",
       "\n",
       "    .dataframe thead th {\n",
       "        text-align: right;\n",
       "    }\n",
       "</style>\n",
       "<table border=\"1\" class=\"dataframe\">\n",
       "  <thead>\n",
       "    <tr style=\"text-align: right;\">\n",
       "      <th></th>\n",
       "      <th>Missing ratio %</th>\n",
       "    </tr>\n",
       "  </thead>\n",
       "  <tbody>\n",
       "    <tr>\n",
       "      <th>author</th>\n",
       "      <td>27.261493</td>\n",
       "    </tr>\n",
       "    <tr>\n",
       "      <th>title</th>\n",
       "      <td>0.000000</td>\n",
       "    </tr>\n",
       "    <tr>\n",
       "      <th>text</th>\n",
       "      <td>0.000000</td>\n",
       "    </tr>\n",
       "    <tr>\n",
       "      <th>magazine_nr</th>\n",
       "      <td>0.000000</td>\n",
       "    </tr>\n",
       "    <tr>\n",
       "      <th>link</th>\n",
       "      <td>0.000000</td>\n",
       "    </tr>\n",
       "    <tr>\n",
       "      <th>year</th>\n",
       "      <td>0.000000</td>\n",
       "    </tr>\n",
       "    <tr>\n",
       "      <th>file</th>\n",
       "      <td>0.000000</td>\n",
       "    </tr>\n",
       "    <tr>\n",
       "      <th>date</th>\n",
       "      <td>0.000000</td>\n",
       "    </tr>\n",
       "  </tbody>\n",
       "</table>\n",
       "</div>"
      ],
      "text/plain": [
       "             Missing ratio %\n",
       "author             27.261493\n",
       "title               0.000000\n",
       "text                0.000000\n",
       "magazine_nr         0.000000\n",
       "link                0.000000\n",
       "year                0.000000\n",
       "file                0.000000\n",
       "date                0.000000"
      ]
     },
     "execution_count": 26,
     "metadata": {},
     "output_type": "execute_result"
    }
   ],
   "source": [
    "def missing_values(data):\n",
    "    dict = {}\n",
    "    features = data.columns\n",
    "    for feature in features:\n",
    "        dict[feature] = data[feature].isnull().sum() / len(data) * 100\n",
    "    return pd.DataFrame.from_dict(dict,orient ='index', columns=['Missing ratio %']).sort_values('Missing ratio %', ascending=False)\n",
    "\n",
    "df_all.replace('None', None, inplace=True)\n",
    "df_all = df_all[~df_all['text'].isna()]\n",
    "missing_values(df_all)"
   ]
  },
  {
   "cell_type": "markdown",
   "metadata": {},
   "source": [
    "# PDF"
   ]
  },
  {
   "cell_type": "code",
   "execution_count": 27,
   "metadata": {},
   "outputs": [
    {
     "name": "stdout",
     "output_type": "stream",
     "text": [
      "https://eprasa.pl/news/do-rzeczy?page=2\n",
      "https://eprasa.pl/news/do-rzeczy?page=3\n",
      "https://eprasa.pl/news/do-rzeczy?page=4\n",
      "https://eprasa.pl/news/do-rzeczy?page=5\n",
      "https://eprasa.pl/news/do-rzeczy?page=6\n",
      "https://eprasa.pl/news/do-rzeczy?page=7\n",
      "https://eprasa.pl/news/do-rzeczy?page=8\n",
      "https://eprasa.pl/news/do-rzeczy?page=9\n",
      "https://eprasa.pl/news/do-rzeczy?page=10\n",
      "https://eprasa.pl/news/do-rzeczy?page=11\n",
      "https://eprasa.pl/news/do-rzeczy?page=12\n",
      "https://eprasa.pl/news/do-rzeczy?page=13\n",
      "https://eprasa.pl/news/do-rzeczy?page=14\n",
      "https://eprasa.pl/news/do-rzeczy?page=15\n",
      "https://eprasa.pl/news/do-rzeczy?page=16\n",
      "https://eprasa.pl/news/do-rzeczy?page=17\n",
      "https://eprasa.pl/news/do-rzeczy?page=18\n",
      "https://eprasa.pl/news/do-rzeczy?page=19\n",
      "https://eprasa.pl/news/do-rzeczy?page=20\n",
      "https://eprasa.pl/news/do-rzeczy?page=21\n",
      "https://eprasa.pl/news/do-rzeczy?page=22\n",
      "https://eprasa.pl/news/do-rzeczy?page=23\n",
      "https://eprasa.pl/news/do-rzeczy?page=24\n",
      "https://eprasa.pl/news/do-rzeczy\n"
     ]
    }
   ],
   "source": [
    "dates = set()\n",
    "\n",
    "links = [f'https://eprasa.pl/news/do-rzeczy?page={i}' for i in range(2,25)]\n",
    "links.append(\"https://eprasa.pl/news/do-rzeczy\")\n",
    "\n",
    "for link in links:\n",
    "        with urllib.request.urlopen(link) as url:\n",
    "            print(link)\n",
    "            s = url.read().decode('utf-8')\n",
    "            # I'm guessing this would output the html source code ?\n",
    "            dates.update(set(re.findall(\"(?<=Do Rzeczy )([\\d-]+) \\(([\\d\\.]+)\\)\", s)))\n",
    "dates.update(set([ (\"13-14\", \"05.04.2020\"),('13I', '29.03.2020')]))"
   ]
  },
  {
   "cell_type": "code",
   "execution_count": 28,
   "metadata": {},
   "outputs": [],
   "source": [
    "dates.update(set([ (\"13-14\", \"05.04.2020\"),('13', '29.03.2020')]))"
   ]
  },
  {
   "cell_type": "code",
   "execution_count": 29,
   "metadata": {},
   "outputs": [],
   "source": [
    "df_dates = pd.DataFrame(dates, columns=['magazine_nr_1', 'date'])\n",
    "df_dates['date'] = pd.to_datetime(df_dates['date'], format='%d.%m.%Y')\n",
    "df_dates['year'] = df_dates['date'].dt.year"
   ]
  },
  {
   "cell_type": "code",
   "execution_count": 30,
   "metadata": {},
   "outputs": [],
   "source": [
    "df_dates[df_dates['year'] == 2020].sort_values(\"date\").iloc[-1]\n",
    "df_dates.loc[(df_dates['year'] == 2020) & (df_dates['date'] == datetime.strptime(\"2020-12-31 00:00:00\",\"%Y-%m-%d %H:%M:%S\" )), \"year\"] = 2021"
   ]
  },
  {
   "cell_type": "code",
   "execution_count": 31,
   "metadata": {},
   "outputs": [],
   "source": [
    "df_dates.to_csv(\"Final/dates_extracted.csv\")"
   ]
  },
  {
   "cell_type": "markdown",
   "metadata": {},
   "source": [
    "# Merge with csv files"
   ]
  },
  {
   "cell_type": "code",
   "execution_count": 32,
   "metadata": {},
   "outputs": [],
   "source": [
    "def date_merge(year, df_dates=df_dates):\n",
    "    df = pd.read_csv(f\"Pdf/dorzeczy_{year}.csv\")\n",
    "    try:\n",
    "        df.drop(columns=\"Unnamed: 0\", inplace = True)\n",
    "    except:\n",
    "        pass\n",
    "    df['magazine_nr_1'] = df['magazine_nr_1'].astype(str).apply(lambda x: re.sub(\"–\", \"-\", x))\n",
    "    df['magazine_nr_1'] = df['magazine_nr_1'].astype(str).apply(lambda x: re.sub(\"^0\", \"\", x))\n",
    "    df_merged =  pd.merge(df, df_dates[df_dates['year'] == year], on=\"magazine_nr_1\", how=\"left\")\n",
    "    print(f\"{year}: {len(df_merged[df_merged['date'].isna()])}\")\n",
    "    return df_merged"
   ]
  },
  {
   "cell_type": "code",
   "execution_count": 33,
   "metadata": {},
   "outputs": [
    {
     "name": "stdout",
     "output_type": "stream",
     "text": [
      "2015: 0\n",
      "2016: 0\n",
      "2017: 0\n",
      "2018: 0\n",
      "2019: 0\n",
      "2020: 0\n",
      "2021: 0\n",
      "2022: 0\n",
      "2023: 0\n"
     ]
    }
   ],
   "source": [
    "years = [year for year in range(2015,2024)]\n",
    "df_list = list(map(date_merge, years))"
   ]
  },
  {
   "cell_type": "code",
   "execution_count": 34,
   "metadata": {},
   "outputs": [],
   "source": [
    "def link_extractor(row):\n",
    "    year = row['year']\n",
    "    magazine_nr_1 = row['magazine_nr_1']\n",
    "    magazine_nr_2 = row['magazine_nr_2']\n",
    "    return f'https://tygodnik.dorzeczy.pl/archiwum/{magazine_nr_2}/dorzeczy-{magazine_nr_1}-{year}.html'"
   ]
  },
  {
   "cell_type": "code",
   "execution_count": 35,
   "metadata": {},
   "outputs": [],
   "source": [
    "df_pdf = pd.concat(df_list)\n",
    "df_pdf['magazine_nr_2'] = df_pdf['magazine_nr_2'].fillna(\"0\")\n",
    "df_pdf['magazine_nr_2'] = df_pdf['magazine_nr_2'].astype(int)\n",
    "df_pdf['link'] = df_pdf.apply(link_extractor, axis = 1)"
   ]
  },
  {
   "cell_type": "code",
   "execution_count": 36,
   "metadata": {},
   "outputs": [],
   "source": [
    "df_pdf.drop(columns=['file', 'page', 'magazine_nr_1', 'year'], inplace= True)\n",
    "df_pdf.rename(columns = {\"magazine_nr_2\": \"magazine_nr\", \"content\": \"text\", }, inplace=True)"
   ]
  },
  {
   "cell_type": "code",
   "execution_count": 37,
   "metadata": {},
   "outputs": [
    {
     "data": {
      "text/html": [
       "<div>\n",
       "<style scoped>\n",
       "    .dataframe tbody tr th:only-of-type {\n",
       "        vertical-align: middle;\n",
       "    }\n",
       "\n",
       "    .dataframe tbody tr th {\n",
       "        vertical-align: top;\n",
       "    }\n",
       "\n",
       "    .dataframe thead th {\n",
       "        text-align: right;\n",
       "    }\n",
       "</style>\n",
       "<table border=\"1\" class=\"dataframe\">\n",
       "  <thead>\n",
       "    <tr style=\"text-align: right;\">\n",
       "      <th></th>\n",
       "      <th>Missing ratio %</th>\n",
       "    </tr>\n",
       "  </thead>\n",
       "  <tbody>\n",
       "    <tr>\n",
       "      <th>year_x</th>\n",
       "      <td>86.164171</td>\n",
       "    </tr>\n",
       "    <tr>\n",
       "      <th>year_y</th>\n",
       "      <td>86.164171</td>\n",
       "    </tr>\n",
       "    <tr>\n",
       "      <th>title</th>\n",
       "      <td>0.025813</td>\n",
       "    </tr>\n",
       "    <tr>\n",
       "      <th>magazine_nr</th>\n",
       "      <td>0.000000</td>\n",
       "    </tr>\n",
       "    <tr>\n",
       "      <th>text</th>\n",
       "      <td>0.000000</td>\n",
       "    </tr>\n",
       "    <tr>\n",
       "      <th>author</th>\n",
       "      <td>0.000000</td>\n",
       "    </tr>\n",
       "    <tr>\n",
       "      <th>date</th>\n",
       "      <td>0.000000</td>\n",
       "    </tr>\n",
       "    <tr>\n",
       "      <th>link</th>\n",
       "      <td>0.000000</td>\n",
       "    </tr>\n",
       "  </tbody>\n",
       "</table>\n",
       "</div>"
      ],
      "text/plain": [
       "             Missing ratio %\n",
       "year_x             86.164171\n",
       "year_y             86.164171\n",
       "title               0.025813\n",
       "magazine_nr         0.000000\n",
       "text                0.000000\n",
       "author              0.000000\n",
       "date                0.000000\n",
       "link                0.000000"
      ]
     },
     "execution_count": 37,
     "metadata": {},
     "output_type": "execute_result"
    }
   ],
   "source": [
    "missing_values(df_pdf)"
   ]
  },
  {
   "cell_type": "markdown",
   "metadata": {},
   "source": [
    "# Concat"
   ]
  },
  {
   "cell_type": "code",
   "execution_count": 38,
   "metadata": {},
   "outputs": [
    {
     "data": {
      "text/plain": [
       "{'author',\n",
       " 'date',\n",
       " 'file',\n",
       " 'link',\n",
       " 'magazine_nr',\n",
       " 'text',\n",
       " 'title',\n",
       " 'year',\n",
       " 'year_x',\n",
       " 'year_y'}"
      ]
     },
     "execution_count": 38,
     "metadata": {},
     "output_type": "execute_result"
    }
   ],
   "source": [
    "cols = set(df_pdf.columns.values)\n",
    "cols.update(df_all.columns.values)\n",
    "cols"
   ]
  },
  {
   "cell_type": "code",
   "execution_count": 39,
   "metadata": {},
   "outputs": [],
   "source": [
    "df_final = pd.concat([df_all, df_pdf])"
   ]
  },
  {
   "cell_type": "code",
   "execution_count": 40,
   "metadata": {},
   "outputs": [],
   "source": [
    "df_final.reset_index(inplace=True)\n",
    "df_final.rename(columns={\"index\": \"id\"}, inplace=True)"
   ]
  },
  {
   "cell_type": "code",
   "execution_count": 41,
   "metadata": {},
   "outputs": [
    {
     "data": {
      "text/plain": [
       "11794"
      ]
     },
     "execution_count": 41,
     "metadata": {},
     "output_type": "execute_result"
    }
   ],
   "source": [
    "len(df_final)"
   ]
  },
  {
   "cell_type": "code",
   "execution_count": 42,
   "metadata": {},
   "outputs": [],
   "source": [
    "df_final.to_csv(\"dorzeczy.csv\", index = False)"
   ]
  }
 ],
 "metadata": {
  "kernelspec": {
   "display_name": "usr",
   "language": "python",
   "name": "python3"
  },
  "language_info": {
   "codemirror_mode": {
    "name": "ipython",
    "version": 3
   },
   "file_extension": ".py",
   "mimetype": "text/x-python",
   "name": "python",
   "nbconvert_exporter": "python",
   "pygments_lexer": "ipython3",
   "version": "3.11.4"
  },
  "orig_nbformat": 4
 },
 "nbformat": 4,
 "nbformat_minor": 2
}
