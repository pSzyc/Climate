{
 "cells": [
  {
   "cell_type": "code",
   "execution_count": 25,
   "metadata": {},
   "outputs": [],
   "source": [
    "from pathlib import Path\n",
    "import requests\n",
    "from selenium.webdriver.chrome.options import Options\n",
    "from selenium import webdriver\n",
    "import time\n",
    "from bs4 import BeautifulSoup\n",
    "import pandas as pd\n",
    "import urllib\n",
    "import re\n",
    "import os\n",
    "import re"
   ]
  },
  {
   "cell_type": "code",
   "execution_count": 27,
   "metadata": {},
   "outputs": [],
   "source": [
    "def get_driver(year):\n",
    "    chrome_options = Options()\n",
    "    chrome_options.add_experimental_option('prefs', {\n",
    "    \"download.default_directory\": f\"/home/ps/Code/Climate/Scrap/Wprost/{year}\", #Change default directory for downloads\n",
    "    \"download.prompt_for_download\": False, #To auto download the file\n",
    "    \"download.directory_upgrade\": True,\n",
    "    \"plugins.always_open_pdf_externally\": True #It will not show PDF directly in chrome\n",
    "    })\n",
    "    chrome_options.add_argument(\"user-data-dir=selenium\")\n",
    "    driver = webdriver.Chrome(options=chrome_options)\n",
    "    return driver"
   ]
  },
  {
   "cell_type": "code",
   "execution_count": 32,
   "metadata": {},
   "outputs": [
    {
     "name": "stdout",
     "output_type": "stream",
     "text": [
      "https://www.wprost.pl/tygodnik/archiwum/1717/Wprost-52-2015.html\n",
      "https://www.wprost.pl/tygodnik/archiwum/1716/Wprost-51-2015.html\n",
      "https://www.wprost.pl/tygodnik/archiwum/1715/Wprost-50-2015.html\n",
      "https://www.wprost.pl/tygodnik/archiwum/1714/Wprost-49-2015.html\n",
      "https://www.wprost.pl/tygodnik/archiwum/1713/Wprost-48-2015.html\n",
      "https://www.wprost.pl/tygodnik/archiwum/1706/Wprost-47-2015.html\n",
      "https://www.wprost.pl/tygodnik/archiwum/1705/Wprost-46-2015.html\n",
      "https://www.wprost.pl/tygodnik/archiwum/1704/Wprost-45-2015.html\n",
      "https://www.wprost.pl/tygodnik/archiwum/1703/Wprost-44-2015.html\n",
      "https://www.wprost.pl/tygodnik/archiwum/1702/Wprost-43-2015.html\n",
      "https://www.wprost.pl/tygodnik/archiwum/1701/Wprost-42-2015.html\n",
      "https://www.wprost.pl/tygodnik/archiwum/1700/Wprost-41-2015.html\n",
      "https://www.wprost.pl/tygodnik/archiwum/1699/Wprost-40-2015.html\n",
      "https://www.wprost.pl/tygodnik/archiwum/1698/Wprost-39-2015.html\n",
      "https://www.wprost.pl/tygodnik/archiwum/1697/Wprost-38-2015.html\n",
      "https://www.wprost.pl/tygodnik/archiwum/1696/Wprost-37-2015.html\n",
      "https://www.wprost.pl/tygodnik/archiwum/1695/Wprost-36-2015.html\n",
      "https://www.wprost.pl/tygodnik/archiwum/1694/Wprost-35-2015.html\n",
      "https://www.wprost.pl/tygodnik/archiwum/1693/Wprost-34-2015.html\n",
      "https://www.wprost.pl/tygodnik/archiwum/1692/Wprost-33-2015.html\n",
      "https://www.wprost.pl/tygodnik/archiwum/1691/Wprost-32-2015.html\n",
      "https://www.wprost.pl/tygodnik/archiwum/1690/Wprost-31-2015.html\n",
      "https://www.wprost.pl/tygodnik/archiwum/1689/Wprost-30-2015.html\n",
      "https://www.wprost.pl/tygodnik/archiwum/1688/Wprost-29-2015.html\n",
      "https://www.wprost.pl/tygodnik/archiwum/1687/Wprost-28-2015.html\n",
      "https://www.wprost.pl/tygodnik/archiwum/1686/Wprost-27-2015.html\n",
      "https://www.wprost.pl/tygodnik/archiwum/1685/Wprost-26-2015.html\n",
      "https://www.wprost.pl/tygodnik/archiwum/1684/Wprost-25-2015.html\n",
      "https://www.wprost.pl/tygodnik/archiwum/1683/Wprost-24-2015.html\n",
      "https://www.wprost.pl/tygodnik/archiwum/1682/Wprost-23-2015.html\n",
      "https://www.wprost.pl/tygodnik/archiwum/1681/Wprost-22-2015.html\n",
      "https://www.wprost.pl/tygodnik/archiwum/1680/Wprost-21-2015.html\n",
      "https://www.wprost.pl/tygodnik/archiwum/1679/Wprost-20-2015.html\n",
      "https://www.wprost.pl/tygodnik/archiwum/1678/Wprost-19-2015.html\n",
      "https://www.wprost.pl/tygodnik/archiwum/1677/Wprost-18-2015.html\n",
      "https://www.wprost.pl/tygodnik/archiwum/1676/Wprost-17-2015.html\n",
      "https://www.wprost.pl/tygodnik/archiwum/1675/Wprost-16-2015.html\n",
      "https://www.wprost.pl/tygodnik/archiwum/1674/Wprost-15-2015.html\n",
      "https://www.wprost.pl/tygodnik/archiwum/1673/Wprost-14-2015.html\n",
      "https://www.wprost.pl/tygodnik/archiwum/1672/Wprost-13-2015.html\n",
      "https://www.wprost.pl/tygodnik/archiwum/1671/Wprost-12-2015.html\n",
      "https://www.wprost.pl/tygodnik/archiwum/1670/Wprost-11-2015.html\n",
      "https://www.wprost.pl/tygodnik/archiwum/1669/Wprost-10-2015.html\n",
      "https://www.wprost.pl/tygodnik/archiwum/1668/Wprost-9-2015.html\n",
      "https://www.wprost.pl/tygodnik/archiwum/1667/Wprost-8-2015.html\n",
      "https://www.wprost.pl/tygodnik/archiwum/1666/Wprost-7-2015.html\n",
      "https://www.wprost.pl/tygodnik/archiwum/1665/Wprost-6-2015.html\n",
      "https://www.wprost.pl/tygodnik/archiwum/1664/Wprost-5-2015.html\n",
      "https://www.wprost.pl/tygodnik/archiwum/1663/Wprost-4-2015.html\n",
      "https://www.wprost.pl/tygodnik/archiwum/1662/Wprost-3-2015.html\n",
      "https://www.wprost.pl/tygodnik/archiwum/1661/Wprost-2-2015.html\n",
      "https://www.wprost.pl/tygodnik/archiwum/1660/Wprost-1-2015.html\n"
     ]
    }
   ],
   "source": [
    "import os\n",
    "for year in range(2015, 2016):\n",
    "    driver = get_driver(year)\n",
    "    os.mkdir(f\"Wprost/{year}\")\n",
    "    driver.get(f\"https://www.wprost.pl/tygodnik/archiwum/rok/{year}\")\n",
    "    soup = BeautifulSoup(driver.page_source, \"html.parser\")\n",
    "    disabled_select_links = soup.find_all(\"a\", class_=\"disabled-select\")  \n",
    "    for link in disabled_select_links:\n",
    "        print(\"https://www.wprost.pl\" + link['href'])\n",
    "        driver.get(\"https://www.wprost.pl/\" + link['href'])\n",
    "        time.sleep(0.5)\n",
    "        button = driver.find_element('link text',\"pdf\")\n",
    "        button.click()\n",
    "        time.sleep(0.5)\n",
    "    driver.quit()"
   ]
  }
 ],
 "metadata": {
  "kernelspec": {
   "display_name": "Python 3",
   "language": "python",
   "name": "python3"
  },
  "language_info": {
   "codemirror_mode": {
    "name": "ipython",
    "version": 3
   },
   "file_extension": ".py",
   "mimetype": "text/x-python",
   "name": "python",
   "nbconvert_exporter": "python",
   "pygments_lexer": "ipython3",
   "version": "3.11.6"
  },
  "orig_nbformat": 4
 },
 "nbformat": 4,
 "nbformat_minor": 2
}
