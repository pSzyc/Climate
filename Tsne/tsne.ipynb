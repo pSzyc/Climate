{
 "cells": [
  {
   "cell_type": "code",
   "execution_count": 1,
   "metadata": {},
   "outputs": [],
   "source": [
    "import pandas as pd \n",
    "import numpy as np\n",
    "import sys\n",
    "sys.path.append('..')\n",
    "import Classification.resources.preprocessing as pre\n",
    "import Classification.resources.setup as setup"
   ]
  },
  {
   "cell_type": "code",
   "execution_count": 2,
   "metadata": {},
   "outputs": [],
   "source": [
    "df = pd.read_csv('../Classification/files/dataset.csv', index_col='id')\n",
    "df['class'].value_counts()\n",
    "df.rename(columns={'class': 'label'}, inplace=True)"
   ]
  },
  {
   "cell_type": "code",
   "execution_count": 3,
   "metadata": {},
   "outputs": [],
   "source": [
    "stopwords = pd.read_csv('../Classification/files/polish_stopwords.txt', header=None)\n",
    "config = setup.config('', '', '', stopwords)"
   ]
  },
  {
   "cell_type": "code",
   "execution_count": 4,
   "metadata": {},
   "outputs": [],
   "source": [
    "df = pre.meta_features(df, stopwords)\n",
    "train_x, train_y, test_x, test_y, scaler, vectorizer, selector = pre.vectorize_dataset(config, df)"
   ]
  },
  {
   "cell_type": "code",
   "execution_count": 17,
   "metadata": {},
   "outputs": [
    {
     "data": {
      "text/plain": [
       "(292, 7506)"
      ]
     },
     "execution_count": 8,
     "metadata": {},
     "output_type": "execute_result"
    }
   ],
   "source": [
    "vocab = vectorizer.vocabulary_\n",
    "selected = selector.get_support()\n",
    "keys = vocab.keys()\n",
    "keys = np.array(list(keys))\n",
    "ngrams = keys[selected]\n",
    "np.savetxt(\"ngrams_7500.txt\", ngrams, fmt='%s', delimiter='\\n')"
   ]
  },
  {
   "cell_type": "code",
   "execution_count": 9,
   "metadata": {},
   "outputs": [
    {
     "name": "stderr",
     "output_type": "stream",
     "text": [
      "2024-03-16 08:51:05.577734: I external/local_tsl/tsl/cuda/cudart_stub.cc:31] Could not find cuda drivers on your machine, GPU will not be used.\n",
      "2024-03-16 08:51:05.889181: E external/local_xla/xla/stream_executor/cuda/cuda_dnn.cc:9261] Unable to register cuDNN factory: Attempting to register factory for plugin cuDNN when one has already been registered\n",
      "2024-03-16 08:51:05.889243: E external/local_xla/xla/stream_executor/cuda/cuda_fft.cc:607] Unable to register cuFFT factory: Attempting to register factory for plugin cuFFT when one has already been registered\n",
      "2024-03-16 08:51:05.909570: E external/local_xla/xla/stream_executor/cuda/cuda_blas.cc:1515] Unable to register cuBLAS factory: Attempting to register factory for plugin cuBLAS when one has already been registered\n",
      "2024-03-16 08:51:05.945907: I external/local_tsl/tsl/cuda/cudart_stub.cc:31] Could not find cuda drivers on your machine, GPU will not be used.\n",
      "2024-03-16 08:51:05.946870: I tensorflow/core/platform/cpu_feature_guard.cc:182] This TensorFlow binary is optimized to use available CPU instructions in performance-critical operations.\n",
      "To enable the following instructions: AVX2 FMA, in other operations, rebuild TensorFlow with the appropriate compiler flags.\n",
      "2024-03-16 08:51:07.725528: W tensorflow/compiler/tf2tensorrt/utils/py_utils.cc:38] TF-TRT Warning: Could not find TensorRT\n"
     ]
    }
   ],
   "source": [
    "import tensorflow as tf\n",
    "\n",
    "model = tf.keras.models.Sequential([\n",
    "    tf.keras.layers.Dense(128, input_dim=7506, activation='relu', kernel_regularizer=tf.keras.regularizers.l2(0.01)),\n",
    "    tf.keras.layers.Dropout(0.2),\n",
    "    tf.keras.layers.Dense(64, activation='relu', kernel_regularizer=tf.keras.regularizers.l2(0.01)),\n",
    "    tf.keras.layers.Dropout(0.2),\n",
    "    tf.keras.layers.Dense(32, activation='relu', kernel_regularizer=tf.keras.regularizers.l2(0.01)),\n",
    "    tf.keras.layers.Dropout(0.2),\n",
    "    tf.keras.layers.Dense(1, activation='sigmoid' )\n",
    "])\n",
    "model.compile(optimizer='adam', loss='binary_crossentropy', metrics=['accuracy'])"
   ]
  },
  {
   "cell_type": "code",
   "execution_count": 10,
   "metadata": {},
   "outputs": [
    {
     "name": "stdout",
     "output_type": "stream",
     "text": [
      "Epoch 1/5\n"
     ]
    },
    {
     "name": "stderr",
     "output_type": "stream",
     "text": [
      "2024-03-16 08:51:09.918341: W external/local_tsl/tsl/framework/cpu_allocator_impl.cc:83] Allocation of 78813000 exceeds 10% of free system memory.\n"
     ]
    },
    {
     "name": "stdout",
     "output_type": "stream",
     "text": [
      "83/83 [==============================] - 2s 15ms/step - loss: 1.6334 - accuracy: 0.6697 - val_loss: 0.9692 - val_accuracy: 0.7089\n",
      "Epoch 2/5\n",
      "83/83 [==============================] - 1s 13ms/step - loss: 0.7747 - accuracy: 0.7989 - val_loss: 0.5997 - val_accuracy: 0.8904\n",
      "Epoch 3/5\n",
      "83/83 [==============================] - 1s 13ms/step - loss: 0.5458 - accuracy: 0.9131 - val_loss: 0.5057 - val_accuracy: 0.9349\n",
      "Epoch 4/5\n",
      "83/83 [==============================] - 1s 12ms/step - loss: 0.4814 - accuracy: 0.9261 - val_loss: 0.4520 - val_accuracy: 0.9315\n",
      "Epoch 5/5\n",
      "83/83 [==============================] - 1s 13ms/step - loss: 0.4428 - accuracy: 0.9352 - val_loss: 0.4739 - val_accuracy: 0.9110\n"
     ]
    },
    {
     "data": {
      "text/plain": [
       "<keras.src.callbacks.History at 0x7ff5b570bc10>"
      ]
     },
     "execution_count": 10,
     "metadata": {},
     "output_type": "execute_result"
    }
   ],
   "source": [
    "model.fit(train_x, train_y, epochs=5, verbose=1, validation_data=(test_x, test_y))"
   ]
  },
  {
   "cell_type": "code",
   "execution_count": 11,
   "metadata": {},
   "outputs": [],
   "source": [
    "layers = model.layers\n",
    "new_model = tf.keras.models.Sequential(layers[:-1])"
   ]
  },
  {
   "cell_type": "code",
   "execution_count": 12,
   "metadata": {},
   "outputs": [
    {
     "data": {
      "text/plain": [
       "(None, 7506)"
      ]
     },
     "execution_count": 12,
     "metadata": {},
     "output_type": "execute_result"
    }
   ],
   "source": [
    "new_model.input_shape"
   ]
  },
  {
   "cell_type": "code",
   "execution_count": 13,
   "metadata": {},
   "outputs": [
    {
     "name": "stderr",
     "output_type": "stream",
     "text": [
      "2024-03-16 08:51:17.047580: W external/local_tsl/tsl/framework/cpu_allocator_impl.cc:83] Allocation of 175160016 exceeds 10% of free system memory.\n",
      "2024-03-16 08:51:17.114380: W external/local_tsl/tsl/framework/cpu_allocator_impl.cc:83] Allocation of 87580008 exceeds 10% of free system memory.\n"
     ]
    }
   ],
   "source": [
    "x_data = np.concatenate((train_x, test_x), axis=0)\n",
    "y_data = np.concatenate((train_y, test_y), axis=0)\n",
    "x_values = new_model(x_data)"
   ]
  },
  {
   "cell_type": "code",
   "execution_count": 14,
   "metadata": {},
   "outputs": [],
   "source": [
    "from sklearn.manifold import TSNE"
   ]
  },
  {
   "cell_type": "code",
   "execution_count": 15,
   "metadata": {},
   "outputs": [
    {
     "name": "stdout",
     "output_type": "stream",
     "text": [
      "[t-SNE] Computing 151 nearest neighbors...\n",
      "[t-SNE] Indexed 2917 samples in 0.000s...\n",
      "[t-SNE] Computed neighbors for 2917 samples in 0.121s...\n",
      "[t-SNE] Computed conditional probabilities for sample 1000 / 2917\n",
      "[t-SNE] Computed conditional probabilities for sample 2000 / 2917\n",
      "[t-SNE] Computed conditional probabilities for sample 2917 / 2917\n",
      "[t-SNE] Mean sigma: 0.016734\n",
      "[t-SNE] KL divergence after 250 iterations with early exaggeration: 48.408718\n",
      "[t-SNE] KL divergence after 9950 iterations: 0.196370\n"
     ]
    }
   ],
   "source": [
    "tsne = TSNE(n_components=2, perplexity=50, n_iter=10000, verbose=1, random_state=123)\n",
    "v = tsne.fit_transform(x_values) "
   ]
  },
  {
   "cell_type": "code",
   "execution_count": 18,
   "metadata": {},
   "outputs": [],
   "source": [
    "df_tsne = pd.DataFrame()\n",
    "df_tsne[\"class\"] = y_data\n",
    "df_tsne[\"x\"] = v[:,0]\n",
    "df_tsne[\"y\"] = v[:,1]\n",
    "df_tsne[\"text\"] = df[\"text\"]\n",
    "df_tsne[\"id\"] = df.index\n",
    "df_tsne.to_csv(\"../Classification/plots/tsne.csv\")"
   ]
  }
 ],
 "metadata": {
  "kernelspec": {
   "display_name": "tf",
   "language": "python",
   "name": "python3"
  },
  "language_info": {
   "codemirror_mode": {
    "name": "ipython",
    "version": 3
   },
   "file_extension": ".py",
   "mimetype": "text/x-python",
   "name": "python",
   "nbconvert_exporter": "python",
   "pygments_lexer": "ipython3",
   "version": "3.11.8"
  },
  "orig_nbformat": 4,
  "vscode": {
   "interpreter": {
    "hash": "3a2be30295172717884411af564ad630433b1e83c9c4d3e12b02d716b3136821"
   }
  }
 },
 "nbformat": 4,
 "nbformat_minor": 2
}
